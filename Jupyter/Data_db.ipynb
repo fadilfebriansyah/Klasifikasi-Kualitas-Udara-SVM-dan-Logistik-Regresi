{
 "cells": [
  {
   "cell_type": "code",
   "execution_count": 1,
   "id": "55043f9f",
   "metadata": {},
   "outputs": [
    {
     "name": "stdout",
     "output_type": "stream",
     "text": [
      "Import Library Berhasil dilakukan ^_^\n"
     ]
    }
   ],
   "source": [
    "# Import library dataframe\n",
    "import numpy as np \n",
    "from numpy import mean \n",
    "import pandas as pd \n",
    "\n",
    "# Import library untuk visualisasi\n",
    "import matplotlib.pyplot as plt \n",
    "%matplotlib inline\n",
    "import seaborn as sns\n",
    "import folium\n",
    "\n",
    "# Initialize the map\n",
    "\n",
    "# Import library untuk preprocessing \n",
    "from sklearn.preprocessing import LabelEncoder, StandardScaler, MinMaxScaler \n",
    "from sklearn import preprocessing \n",
    "from sklearn.model_selection import train_test_split \n",
    "\n",
    "# Mengatur display agar maximal\n",
    "pd.options.display.max_rows = None\n",
    "pd.options.display.max_columns = None\n",
    "\n",
    "# Import library untuk modelling/analysis\n",
    "from sklearn import metrics\n",
    "from sklearn.metrics import accuracy_score, f1_score, precision_score, recall_score \n",
    "from sklearn.metrics import confusion_matrix \n",
    "from sklearn.metrics import classification_report \n",
    "from sklearn.metrics import mean_squared_error \n",
    "from sklearn.linear_model import LogisticRegression\n",
    "from sklearn.svm import SVC\n",
    "from sklearn.ensemble import BaggingClassifier\n",
    "from sklearn.multiclass import OneVsRestClassifier\n",
    "from sklearn.metrics import roc_curve, auc\n",
    "from sklearn.metrics import roc_auc_score\n",
    "\n",
    "\n",
    "# Oversample and plot imbalanced dataset with SMOTE\n",
    "from collections import Counter\n",
    "from matplotlib import pyplot\n",
    "from numpy import where\n",
    "\n",
    "# Import library untuk balancing data\n",
    "from imblearn.over_sampling import SMOTE\n",
    "\n",
    "# Import library untuk model improvement\n",
    "from sklearn.model_selection import GridSearchCV\n",
    "from sklearn.datasets import make_classification\n",
    "from sklearn.model_selection import cross_val_score\n",
    "\n",
    "# Import Library untuk balancing\n",
    "from sklearn.utils import resample\n",
    "\n",
    "# Import library untuk mengabaikan peringatan\n",
    "import warnings\n",
    "warnings.filterwarnings(\"ignore\")\n",
    "\n",
    "print('Import Library Berhasil dilakukan ^_^')"
   ]
  },
  {
   "cell_type": "code",
   "execution_count": 2,
   "id": "00cada33",
   "metadata": {},
   "outputs": [],
   "source": [
    "df2016 = pd.read_csv('D:/Kuliah/Semester 7/Internship/Project Kualitas Udara/Dataset/ISPU 2016/combined_data16new.csv')\n",
    "df2017 = pd.read_csv('D:/Kuliah/Semester 7/Internship/Project Kualitas Udara/Dataset/ISPU 2017/combined_data17new.csv')\n",
    "df2018 = pd.read_csv('D:/Kuliah/Semester 7/Internship/Project Kualitas Udara/Dataset/ISPU 2018/combined_data18new.csv')\n",
    "df2019 = pd.read_csv('D:/Kuliah/Semester 7/Internship/Project Kualitas Udara/Dataset/ISPU 2019/combined_data19new.csv')\n",
    "df2020 = pd.read_csv('D:/Kuliah/Semester 7/Internship/Project Kualitas Udara/Dataset/ISPU 2020/combined_data20new.csv')"
   ]
  },
  {
   "cell_type": "code",
   "execution_count": 3,
   "id": "e66cea71",
   "metadata": {},
   "outputs": [],
   "source": [
    "dfs = [df2016, df2017, df2018, df2019, df2020]\n",
    "\n",
    "df = pd.concat(dfs, ignore_index=True)"
   ]
  },
  {
   "cell_type": "code",
   "execution_count": 4,
   "id": "f4e8272c",
   "metadata": {},
   "outputs": [
    {
     "name": "stdout",
     "output_type": "stream",
     "text": [
      "<class 'pandas.core.frame.DataFrame'>\n",
      "RangeIndex: 8529 entries, 0 to 8528\n",
      "Data columns (total 10 columns):\n",
      " #   Column    Non-Null Count  Dtype  \n",
      "---  ------    --------------  -----  \n",
      " 0   tanggal   8529 non-null   object \n",
      " 1   stasiun   8529 non-null   object \n",
      " 2   pm10      8529 non-null   float64\n",
      " 3   so2       8529 non-null   float64\n",
      " 4   co        8529 non-null   float64\n",
      " 5   o3        8529 non-null   float64\n",
      " 6   no2       8529 non-null   float64\n",
      " 7   max       8529 non-null   float64\n",
      " 8   critical  8529 non-null   object \n",
      " 9   categori  8529 non-null   object \n",
      "dtypes: float64(6), object(4)\n",
      "memory usage: 666.5+ KB\n"
     ]
    }
   ],
   "source": [
    "df.info()"
   ]
  },
  {
   "cell_type": "code",
   "execution_count": 5,
   "id": "f138f6ec",
   "metadata": {},
   "outputs": [
    {
     "data": {
      "text/plain": [
       "SEDANG                5637\n",
       "BAIK                  1722\n",
       "TIDAK SEHAT           1137\n",
       "SANGAT TIDAK SEHAT      33\n",
       "Name: categori, dtype: int64"
      ]
     },
     "execution_count": 5,
     "metadata": {},
     "output_type": "execute_result"
    }
   ],
   "source": [
    "df['categori'].value_counts()"
   ]
  },
  {
   "cell_type": "code",
   "execution_count": 6,
   "id": "88a8e4dc",
   "metadata": {},
   "outputs": [
    {
     "data": {
      "text/html": [
       "<div>\n",
       "<style scoped>\n",
       "    .dataframe tbody tr th:only-of-type {\n",
       "        vertical-align: middle;\n",
       "    }\n",
       "\n",
       "    .dataframe tbody tr th {\n",
       "        vertical-align: top;\n",
       "    }\n",
       "\n",
       "    .dataframe thead th {\n",
       "        text-align: right;\n",
       "    }\n",
       "</style>\n",
       "<table border=\"1\" class=\"dataframe\">\n",
       "  <thead>\n",
       "    <tr style=\"text-align: right;\">\n",
       "      <th></th>\n",
       "      <th>pm10</th>\n",
       "      <th>so2</th>\n",
       "      <th>co</th>\n",
       "      <th>o3</th>\n",
       "      <th>no2</th>\n",
       "      <th>max</th>\n",
       "      <th>categori</th>\n",
       "    </tr>\n",
       "  </thead>\n",
       "  <tbody>\n",
       "    <tr>\n",
       "      <th>0</th>\n",
       "      <td>59.0</td>\n",
       "      <td>19.0</td>\n",
       "      <td>27.0</td>\n",
       "      <td>31.0</td>\n",
       "      <td>1.0</td>\n",
       "      <td>59.0</td>\n",
       "      <td>SEDANG</td>\n",
       "    </tr>\n",
       "    <tr>\n",
       "      <th>1</th>\n",
       "      <td>52.0</td>\n",
       "      <td>19.0</td>\n",
       "      <td>26.0</td>\n",
       "      <td>33.0</td>\n",
       "      <td>2.0</td>\n",
       "      <td>52.0</td>\n",
       "      <td>SEDANG</td>\n",
       "    </tr>\n",
       "    <tr>\n",
       "      <th>2</th>\n",
       "      <td>44.0</td>\n",
       "      <td>19.0</td>\n",
       "      <td>26.0</td>\n",
       "      <td>36.0</td>\n",
       "      <td>2.0</td>\n",
       "      <td>44.0</td>\n",
       "      <td>BAIK</td>\n",
       "    </tr>\n",
       "    <tr>\n",
       "      <th>3</th>\n",
       "      <td>58.0</td>\n",
       "      <td>21.0</td>\n",
       "      <td>26.0</td>\n",
       "      <td>46.0</td>\n",
       "      <td>5.0</td>\n",
       "      <td>58.0</td>\n",
       "      <td>SEDANG</td>\n",
       "    </tr>\n",
       "    <tr>\n",
       "      <th>4</th>\n",
       "      <td>70.0</td>\n",
       "      <td>19.0</td>\n",
       "      <td>26.0</td>\n",
       "      <td>41.0</td>\n",
       "      <td>4.0</td>\n",
       "      <td>70.0</td>\n",
       "      <td>SEDANG</td>\n",
       "    </tr>\n",
       "  </tbody>\n",
       "</table>\n",
       "</div>"
      ],
      "text/plain": [
       "   pm10   so2    co    o3  no2   max categori\n",
       "0  59.0  19.0  27.0  31.0  1.0  59.0   SEDANG\n",
       "1  52.0  19.0  26.0  33.0  2.0  52.0   SEDANG\n",
       "2  44.0  19.0  26.0  36.0  2.0  44.0     BAIK\n",
       "3  58.0  21.0  26.0  46.0  5.0  58.0   SEDANG\n",
       "4  70.0  19.0  26.0  41.0  4.0  70.0   SEDANG"
      ]
     },
     "execution_count": 6,
     "metadata": {},
     "output_type": "execute_result"
    }
   ],
   "source": [
    "df_db = df.loc[:,['pm10','so2','co','o3','no2','max','categori']]\n",
    "df_db.head()"
   ]
  },
  {
   "cell_type": "code",
   "execution_count": 7,
   "id": "08db5d7d",
   "metadata": {},
   "outputs": [
    {
     "name": "stdout",
     "output_type": "stream",
     "text": [
      "<class 'pandas.core.frame.DataFrame'>\n",
      "RangeIndex: 8529 entries, 0 to 8528\n",
      "Data columns (total 7 columns):\n",
      " #   Column    Non-Null Count  Dtype  \n",
      "---  ------    --------------  -----  \n",
      " 0   pm10      8529 non-null   float64\n",
      " 1   so2       8529 non-null   float64\n",
      " 2   co        8529 non-null   float64\n",
      " 3   o3        8529 non-null   float64\n",
      " 4   no2       8529 non-null   float64\n",
      " 5   max       8529 non-null   float64\n",
      " 6   categori  8529 non-null   object \n",
      "dtypes: float64(6), object(1)\n",
      "memory usage: 466.6+ KB\n"
     ]
    }
   ],
   "source": [
    "df_db.info()"
   ]
  },
  {
   "cell_type": "code",
   "execution_count": null,
   "id": "27aba0ac",
   "metadata": {},
   "outputs": [],
   "source": []
  },
  {
   "cell_type": "code",
   "execution_count": 8,
   "id": "82a23fc6",
   "metadata": {},
   "outputs": [],
   "source": [
    "df_db.to_csv('D:/Kuliah/Semester 7/Internship/Project Kualitas Udara/Dataset/KUALITAS UDARA/qualityudara_new1.csv', index=False)\n"
   ]
  },
  {
   "cell_type": "code",
   "execution_count": null,
   "id": "1fa45b56",
   "metadata": {},
   "outputs": [],
   "source": []
  }
 ],
 "metadata": {
  "kernelspec": {
   "display_name": "Python 3 (ipykernel)",
   "language": "python",
   "name": "python3"
  },
  "language_info": {
   "codemirror_mode": {
    "name": "ipython",
    "version": 3
   },
   "file_extension": ".py",
   "mimetype": "text/x-python",
   "name": "python",
   "nbconvert_exporter": "python",
   "pygments_lexer": "ipython3",
   "version": "3.9.13"
  }
 },
 "nbformat": 4,
 "nbformat_minor": 5
}
