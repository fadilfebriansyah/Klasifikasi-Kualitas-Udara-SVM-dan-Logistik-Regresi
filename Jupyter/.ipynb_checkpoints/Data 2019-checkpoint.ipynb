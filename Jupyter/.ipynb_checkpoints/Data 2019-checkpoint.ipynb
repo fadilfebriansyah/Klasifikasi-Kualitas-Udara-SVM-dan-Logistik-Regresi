{
 "cells": [
  {
   "cell_type": "code",
   "execution_count": 1,
   "id": "9b87aeb0",
   "metadata": {},
   "outputs": [
    {
     "name": "stdout",
     "output_type": "stream",
     "text": [
      "Import Library Berhasil dilakukan ^_^\n"
     ]
    }
   ],
   "source": [
    "# Import library dataframe\n",
    "import numpy as np \n",
    "from numpy import mean \n",
    "import pandas as pd \n",
    "\n",
    "# Import library untuk visualisasi\n",
    "import matplotlib.pyplot as plt \n",
    "%matplotlib inline\n",
    "import seaborn as sns\n",
    "\n",
    "# Import library untuk preprocessing \n",
    "from sklearn.preprocessing import LabelEncoder, StandardScaler, MinMaxScaler \n",
    "from sklearn import preprocessing \n",
    "from sklearn.model_selection import train_test_split \n",
    "\n",
    "# Mengatur display agar maximal\n",
    "pd.options.display.max_rows = None\n",
    "pd.options.display.max_columns = None\n",
    "\n",
    "# Import library untuk modelling/analysis\n",
    "from sklearn import metrics\n",
    "from sklearn.metrics import accuracy_score, f1_score, precision_score, recall_score \n",
    "from sklearn.metrics import confusion_matrix \n",
    "from sklearn.metrics import classification_report \n",
    "from sklearn.metrics import mean_squared_error \n",
    "from sklearn.linear_model import LogisticRegression\n",
    "from sklearn.svm import SVC\n",
    "from sklearn.ensemble import BaggingClassifier\n",
    "from sklearn.multiclass import OneVsRestClassifier\n",
    "from sklearn.metrics import roc_curve, auc\n",
    "from sklearn.metrics import roc_auc_score\n",
    "\n",
    "# Import library untuk model improvement\n",
    "from sklearn.model_selection import GridSearchCV\n",
    "from sklearn.datasets import make_classification\n",
    "from sklearn.model_selection import cross_val_score\n",
    "\n",
    "# Import Library untuk balancing\n",
    "from sklearn.utils import resample\n",
    "\n",
    "# Import library untuk mengabaikan peringatan\n",
    "import warnings\n",
    "warnings.filterwarnings(\"ignore\")\n",
    "\n",
    "print('Import Library Berhasil dilakukan ^_^')"
   ]
  },
  {
   "cell_type": "code",
   "execution_count": 3,
   "id": "b97a4119",
   "metadata": {},
   "outputs": [],
   "source": [
    "jan18 = pd.read_csv('D:/Kuliah/Semester 7/Internship/Project Kualitas Udara/Dataset/ISPU 2018/data-indeks-standar-pencemar-udara-di-spku-bulan-januari-tahun-2018.csv')\n",
    "feb18 = pd.read_csv('D:/Kuliah/Semester 7/Internship/Project Kualitas Udara/Dataset/ISPU 2018/data-indeks-standar-pencemar-udara-di-spku-bulan-februari-tahun-2018.csv')\n",
    "mar18 = pd.read_csv('D:/Kuliah/Semester 7/Internship/Project Kualitas Udara/Dataset/ISPU 2018/data-indeks-standar-pencemar-udara-di-spku-bulan-maret-tahun-2018.csv')\n",
    "apr18 = pd.read_csv('D:/Kuliah/Semester 7/Internship/Project Kualitas Udara/Dataset/ISPU 2018/data-indeks-standar-pencemar-udara-di-spku-bulan-april-tahun-2018.csv')\n",
    "mei18 = pd.read_csv('D:/Kuliah/Semester 7/Internship/Project Kualitas Udara/Dataset/ISPU 2018/data-indeks-standar-pencemar-udara-di-spku-bulan-mei-tahun-2018.csv')\n",
    "jun18 = pd.read_csv('D:/Kuliah/Semester 7/Internship/Project Kualitas Udara/Dataset/ISPU 2018/data-indeks-standar-pencemar-udara-di-spku-bulan-juni-tahun-2018.csv')\n",
    "jul18 = pd.read_csv('D:/Kuliah/Semester 7/Internship/Project Kualitas Udara/Dataset/ISPU 2018/data-indeks-standar-pencemar-udara-di-spku-bulan-juli-tahun-2018.csv')\n",
    "agu18 = pd.read_csv('D:/Kuliah/Semester 7/Internship/Project Kualitas Udara/Dataset/ISPU 2018/data-indeks-standar-pencemar-udara-di-spku-bulan-agustus-tahun-2018.csv')\n",
    "sep18 = pd.read_csv('D:/Kuliah/Semester 7/Internship/Project Kualitas Udara/Dataset/ISPU 2018/data-indeks-standar-pencemar-udara-di-spku-bulan-september-tahun-2018.csv')\n",
    "okt18 = pd.read_csv('D:/Kuliah/Semester 7/Internship/Project Kualitas Udara/Dataset/ISPU 2018/data-indeks-standar-pencemar-udara-di-spku-bulan-oktober-tahun-2018.csv')\n",
    "nov18 = pd.read_csv('D:/Kuliah/Semester 7/Internship/Project Kualitas Udara/Dataset/ISPU 2018/data-indeks-standar-pencemar-udara-di-spku-bulan-november-tahun-2018.csv')\n",
    "des18 = pd.read_csv(\"D:/Kuliah/Semester 7/Internship/Project Kualitas Udara/Dataset/ISPU 2018/indeks-standar-pencemar-udara-di-spku-bulan-desember-tahun-2018.csv\")"
   ]
  },
  {
   "cell_type": "code",
   "execution_count": null,
   "id": "28415cc1",
   "metadata": {},
   "outputs": [],
   "source": [
    "df_list = [jan17, feb17, mar17, apr17, mei17, jun17, jul17, agu17, sep17, okt17, nov17, des17]\n",
    "\n",
    "# Concatenate DataFrames\n",
    "combined_df = pd.concat(df_list, ignore_index=True)"
   ]
  }
 ],
 "metadata": {
  "kernelspec": {
   "display_name": "Python 3 (ipykernel)",
   "language": "python",
   "name": "python3"
  },
  "language_info": {
   "codemirror_mode": {
    "name": "ipython",
    "version": 3
   },
   "file_extension": ".py",
   "mimetype": "text/x-python",
   "name": "python",
   "nbconvert_exporter": "python",
   "pygments_lexer": "ipython3",
   "version": "3.9.13"
  }
 },
 "nbformat": 4,
 "nbformat_minor": 5
}
