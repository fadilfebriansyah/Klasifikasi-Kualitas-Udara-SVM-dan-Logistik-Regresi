{
 "cells": [
  {
   "cell_type": "code",
   "execution_count": 1,
   "id": "3820f70c",
   "metadata": {},
   "outputs": [
    {
     "name": "stdout",
     "output_type": "stream",
     "text": [
      "Import Library Berhasil dilakukan ^_^\n"
     ]
    }
   ],
   "source": [
    "# Import library dataframe\n",
    "import numpy as np \n",
    "from numpy import mean \n",
    "import pandas as pd \n",
    "\n",
    "# Import library untuk visualisasi\n",
    "import matplotlib.pyplot as plt \n",
    "%matplotlib inline\n",
    "import seaborn as sns\n",
    "\n",
    "# Import library untuk preprocessing \n",
    "from sklearn.preprocessing import LabelEncoder, StandardScaler, MinMaxScaler \n",
    "from sklearn import preprocessing \n",
    "from sklearn.model_selection import train_test_split \n",
    "\n",
    "# Mengatur display agar maximal\n",
    "pd.options.display.max_rows = None\n",
    "pd.options.display.max_columns = None\n",
    "\n",
    "# Import library untuk modelling/analysis\n",
    "from sklearn import metrics\n",
    "from sklearn.metrics import accuracy_score, f1_score, precision_score, recall_score \n",
    "from sklearn.metrics import confusion_matrix \n",
    "from sklearn.metrics import classification_report \n",
    "from sklearn.metrics import mean_squared_error \n",
    "from sklearn.linear_model import LogisticRegression\n",
    "from sklearn.svm import SVC\n",
    "from sklearn.ensemble import BaggingClassifier\n",
    "from sklearn.multiclass import OneVsRestClassifier\n",
    "from sklearn.metrics import roc_curve, auc\n",
    "from sklearn.metrics import roc_auc_score\n",
    "\n",
    "# Import library untuk model improvement\n",
    "from sklearn.model_selection import GridSearchCV\n",
    "from sklearn.datasets import make_classification\n",
    "from sklearn.model_selection import cross_val_score\n",
    "\n",
    "# Import Library untuk balancing\n",
    "from sklearn.utils import resample\n",
    "\n",
    "# Import library untuk mengabaikan peringatan\n",
    "import warnings\n",
    "warnings.filterwarnings(\"ignore\")\n",
    "\n",
    "print('Import Library Berhasil dilakukan ^_^')"
   ]
  },
  {
   "cell_type": "code",
   "execution_count": 4,
   "id": "2b085abe",
   "metadata": {},
   "outputs": [],
   "source": [
    "jan20 = pd.read_csv('D:/Kuliah/Semester 7/Internship/Project Kualitas Udara/Dataset/ISPU 2020/indeks-standar-pencemar-udara-di-spku-bulan-januari-tahun-2020.csv')\n",
    "feb20 = pd.read_csv('D:/Kuliah/Semester 7/Internship/Project Kualitas Udara/Dataset/ISPU 2020/indeks-standar-pencemar-udara-di-spku-bulan-februari-tahun-2020.csv')\n",
    "mar20 = pd.read_csv('D:/Kuliah/Semester 7/Internship/Project Kualitas Udara/Dataset/ISPU 2020/indeks-standar-pencemar-udara-di-spku-bulan-maret-tahun-2020.csv')\n",
    "apr20 = pd.read_csv('D:/Kuliah/Semester 7/Internship/Project Kualitas Udara/Dataset/ISPU 2020/indeks-standar-pencemar-udara-di-spku-bulan-april-tahun-2020.csv')\n",
    "mei20 = pd.read_csv('D:/Kuliah/Semester 7/Internship/Project Kualitas Udara/Dataset/ISPU 2020/indeks-standar-pencemar-udara-di-spku-bulan-mei-tahun-2020.csv')\n",
    "jun20 = pd.read_csv('D:/Kuliah/Semester 7/Internship/Project Kualitas Udara/Dataset/ISPU 2020/indeks-standar-pencemar-udara-di-spku-bulan-juni-tahun-2020.csv')\n",
    "jul20 = pd.read_csv('D:/Kuliah/Semester 7/Internship/Project Kualitas Udara/Dataset/ISPU 2020/indeks-standar-pencemar-udara-di-spku-bulan-juli-tahun-2020.csv')\n",
    "agu20 = pd.read_csv('D:/Kuliah/Semester 7/Internship/Project Kualitas Udara/Dataset/ISPU 2020/indeks-standar-pencemar-udara-di-spku-bulan-agustus-tahun-2020.csv')\n",
    "sep20 = pd.read_csv('D:/Kuliah/Semester 7/Internship/Project Kualitas Udara/Dataset/ISPU 2020/indeks-standar-pencemar-udara-di-spku-bulan-september-tahun-2020.csv')\n",
    "okt20 = pd.read_csv('D:/Kuliah/Semester 7/Internship/Project Kualitas Udara/Dataset/ISPU 2020/indeks-standar-pencemar-udara-di-spku-bulan-oktober-tahun-2020.csv')\n",
    "nov20 = pd.read_csv('D:/Kuliah/Semester 7/Internship/Project Kualitas Udara/Dataset/ISPU 2020/indeks-standar-pencemar-udara-di-spku-bulan-november-tahun-2020.csv')\n",
    "des20 = pd.read_csv(\"D:/Kuliah/Semester 7/Internship/Project Kualitas Udara/Dataset/ISPU 2020/indeks-standar-pencemar-udara-di-spku-bulan-desember-tahun-2020.csv\")\n"
   ]
  },
  {
   "cell_type": "code",
   "execution_count": 2,
   "id": "1ee9ddb0",
   "metadata": {},
   "outputs": [
    {
     "ename": "NameError",
     "evalue": "name 'jan20' is not defined",
     "output_type": "error",
     "traceback": [
      "\u001b[1;31m---------------------------------------------------------------------------\u001b[0m",
      "\u001b[1;31mNameError\u001b[0m                                 Traceback (most recent call last)",
      "Cell \u001b[1;32mIn[2], line 1\u001b[0m\n\u001b[1;32m----> 1\u001b[0m df_list \u001b[38;5;241m=\u001b[39m [\u001b[43mjan20\u001b[49m, feb20, mar20, apr20, mei20, jun20, jul20, agu20, sep20, okt20, nov20, des20]\n\u001b[0;32m      3\u001b[0m \u001b[38;5;66;03m# Concatenate DataFrames\u001b[39;00m\n\u001b[0;32m      4\u001b[0m combined_df \u001b[38;5;241m=\u001b[39m pd\u001b[38;5;241m.\u001b[39mconcat(df_list, ignore_index\u001b[38;5;241m=\u001b[39m\u001b[38;5;28;01mTrue\u001b[39;00m)\n",
      "\u001b[1;31mNameError\u001b[0m: name 'jan20' is not defined"
     ]
    }
   ],
   "source": [
    "df_list = [jan20, feb20, mar20, apr20, mei20, jun20, jul20, agu20, sep20, okt20, nov20, des20]\n",
    "\n",
    "# Concatenate DataFrames\n",
    "combined_df = pd.concat(df_list, ignore_index=True)"
   ]
  },
  {
   "cell_type": "code",
   "execution_count": 5,
   "id": "54e3dfce",
   "metadata": {},
   "outputs": [
    {
     "data": {
      "text/plain": [
       "(1825, 13)"
      ]
     },
     "execution_count": 5,
     "metadata": {},
     "output_type": "execute_result"
    }
   ],
   "source": [
    "combined_df.shape"
   ]
  },
  {
   "cell_type": "code",
   "execution_count": 6,
   "id": "b0bdcf0a",
   "metadata": {},
   "outputs": [],
   "source": [
    "combined_df.to_csv('D:/Kuliah/Semester 7/Internship/Project Kualitas Udara/Dataset/ISPU 2020/combined_data20.csv', index=False)"
   ]
  },
  {
   "cell_type": "code",
   "execution_count": null,
   "id": "c0b31843",
   "metadata": {},
   "outputs": [],
   "source": []
  }
 ],
 "metadata": {
  "kernelspec": {
   "display_name": "Python 3 (ipykernel)",
   "language": "python",
   "name": "python3"
  },
  "language_info": {
   "codemirror_mode": {
    "name": "ipython",
    "version": 3
   },
   "file_extension": ".py",
   "mimetype": "text/x-python",
   "name": "python",
   "nbconvert_exporter": "python",
   "pygments_lexer": "ipython3",
   "version": "3.9.13"
  }
 },
 "nbformat": 4,
 "nbformat_minor": 5
}
