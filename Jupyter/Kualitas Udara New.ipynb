{
 "cells": [
  {
   "cell_type": "markdown",
   "id": "a0150dfd",
   "metadata": {},
   "source": [
    "# Data Understanding"
   ]
  },
  {
   "cell_type": "markdown",
   "id": "ee56ec59",
   "metadata": {},
   "source": [
    "# Kualitas Udara SVM dan Logistic Regression \n",
    "\n",
    "Dataset ini memuat informasi tentang Indeks Standar Pencemar Udara (ISPU) yang diukur di lima stasiun pemantau kualitas udara (SPKU) di Provinsi DKI Jakarta dari tahun 2016 hingga tahun 2020.\n",
    "\n",
    "Variabel yang terdapat dalam dataset ini dijelaskan sebagai berikut:\n",
    "\n",
    "- tanggal: Tanggal ketika pengukuran kualitas udara dilakukan.\n",
    "- stasiun: Lokasi pengukuran di stasiun pemantau kualitas udara.\n",
    "- pm10: Partikulat Matter atau PM10 berasal dari berbagai aktivitas manusia seperti pembakaran bahan bakar, industri, dan konstruksi. Debu jalan raya juga dapat menjadi sumber partikulat matter ini.\n",
    "- so2: Sulfur Dioksida dihasilkan dari pembakaran bahan bakar fosil, terutama yang mengandung belerang. Bahan bakar seperti batu bara dan minyak bumi adalah sumber utama SO2.\n",
    "- co: Carbon Monoxide Gas beracun berasal dari pembakaran tidak sempurna bahan bakar, termasuk pembakaran kayu, gas alam, dan bahan bakar fosil seperti bensin dan diesel.\n",
    "- o3: Ozon di tingkat permukaan terbentuk melalui reaksi kimia antara oksigen dan polutan lainnya, diperkuat oleh paparan sinar matahari.\n",
    "- no2: Nitrogen Dioksida berasal dari aktivitas pembakaran bahan bakar fosil, seperti pada kendaraan bermotor, pembangkit listrik, dan industri.\n",
    "- max: Nilai tertinggi dari seluruh parameter yang diukur dalam waktu yang sama.\n",
    "- critical: Parameter yang memiliki hasil pengukuran tertinggi pada saat pengukuran.\n",
    "- categori: Kategori hasil perhitungan Indeks Standar Pencemaran Udara (ISPU), yang mencerminkan tingkat pencemaran udara pada waktu tertentu.\n",
    "\n",
    "\n",
    "Dataset ini dapat digunakan untuk menganalisis tren kualitas udara, mengidentifikasi stasiun dengan tingkat pencemaran tertinggi, dan memahami dampak parameter-parameter tertentu terhadap indeks pencemaran udara."
   ]
  },
  {
   "cell_type": "markdown",
   "id": "66c51ea0",
   "metadata": {},
   "source": [
    "Mengimport library yang dibutuhkan."
   ]
  },
  {
   "cell_type": "code",
   "execution_count": 1,
   "id": "cf745e5d",
   "metadata": {},
   "outputs": [
    {
     "name": "stdout",
     "output_type": "stream",
     "text": [
      "Import Library Berhasil dilakukan ^_^\n"
     ]
    }
   ],
   "source": [
    "import numpy as np \n",
    "from numpy import mean \n",
    "import pandas as pd \n",
    "import matplotlib.pyplot as plt \n",
    "import seaborn as sns\n",
    "from sklearn.preprocessing import LabelEncoder, StandardScaler, MinMaxScaler \n",
    "from sklearn import preprocessing \n",
    "from sklearn.model_selection import train_test_split \n",
    "from sklearn import metrics\n",
    "from sklearn.metrics import accuracy_score, f1_score, precision_score, recall_score \n",
    "from sklearn.metrics import confusion_matrix \n",
    "from sklearn.metrics import classification_report \n",
    "from sklearn.metrics import mean_squared_error \n",
    "from sklearn.linear_model import LogisticRegression\n",
    "from sklearn.svm import SVC\n",
    "from sklearn.multiclass import OneVsRestClassifier\n",
    "from sklearn.ensemble import BaggingClassifier\n",
    "from sklearn.svm import SVC\n",
    "import warnings\n",
    "warnings.filterwarnings(\"ignore\")\n",
    "print('Import Library Berhasil dilakukan ^_^')"
   ]
  },
  {
   "cell_type": "markdown",
   "id": "be507984",
   "metadata": {},
   "source": [
    "Load data ISPU tahun 2016"
   ]
  },
  {
   "cell_type": "code",
   "execution_count": 2,
   "id": "9ba79ab6",
   "metadata": {},
   "outputs": [],
   "source": [
    "jan16 = pd.read_csv('D:/Kuliah/Semester 7/Internship/Project Kualitas Udara/Dataset/ISPU 2016/indeks-standar-pencemar-udara-di-spku-bulan-januari-tahun-2016.csv')\n",
    "feb16 = pd.read_csv('D:/Kuliah/Semester 7/Internship/Project Kualitas Udara/Dataset/ISPU 2016/indeks-standar-pencemar-udara-di-spku-bulan-februari-tahun-2016.csv')\n",
    "mar16 = pd.read_csv('D:/Kuliah/Semester 7/Internship/Project Kualitas Udara/Dataset/ISPU 2016/indeks-standar-pencemar-udara-di-spku-bulan-maret-tahun-2016.csv')\n",
    "apr16 = pd.read_csv('D:/Kuliah/Semester 7/Internship/Project Kualitas Udara/Dataset/ISPU 2016/indeks-standar-pencemar-udara-di-spku-bulan-april-tahun-2016.csv')\n",
    "mei16 = pd.read_csv('D:/Kuliah/Semester 7/Internship/Project Kualitas Udara/Dataset/ISPU 2016/indeks-standar-pencemar-udara-di-spku-bulan-mei-tahun-2016.csv')\n",
    "jun16 = pd.read_csv('D:/Kuliah/Semester 7/Internship/Project Kualitas Udara/Dataset/ISPU 2016/indeks-standar-pencemar-udara-di-spku-bulan-juni-tahun-2016.csv')\n",
    "jul16 = pd.read_csv('D:/Kuliah/Semester 7/Internship/Project Kualitas Udara/Dataset/ISPU 2016/indeks-standar-pencemar-udara-di-spku-bulan-juli-tahun-2016.csv')\n",
    "agu16 = pd.read_csv('D:/Kuliah/Semester 7/Internship/Project Kualitas Udara/Dataset/ISPU 2016/indeks-standar-pencemar-udara-di-spku-bulan-agustus-tahun-2016.csv')\n",
    "sep16 = pd.read_csv('D:/Kuliah/Semester 7/Internship/Project Kualitas Udara/Dataset/ISPU 2016/indeks-standar-pencemar-udara-di-spku-bulan-september-tahun-2016.csv')\n",
    "okt16 = pd.read_csv('D:/Kuliah/Semester 7/Internship/Project Kualitas Udara/Dataset/ISPU 2016/indeks-standar-pencemar-udara-di-spku-bulan-oktober-tahun-2016.csv')\n",
    "nov16 = pd.read_csv('D:/Kuliah/Semester 7/Internship/Project Kualitas Udara/Dataset/ISPU 2016/indeks-standar-pencemar-udara-di-spku-bulan-november-tahun-2016.csv')\n",
    "des16 = pd.read_csv('D:/Kuliah/Semester 7/Internship/Project Kualitas Udara/Dataset/ISPU 2016/indeks-standar-pencemar-udara-di-spku-bulan-desember-tahun-2016.csv')"
   ]
  },
  {
   "cell_type": "markdown",
   "id": "3d980e0b",
   "metadata": {},
   "source": [
    "Load data ISPU tahun 2017"
   ]
  },
  {
   "cell_type": "code",
   "execution_count": 3,
   "id": "efc2d951",
   "metadata": {},
   "outputs": [],
   "source": [
    "jan17 = pd.read_csv('D:/Kuliah/Semester 7/Internship/Project Kualitas Udara/Dataset/ISPU 2017/indeks-standar-pencemar-udara-di-spku-bulan-januari-tahun-2017.csv')\n",
    "feb17 = pd.read_csv('D:/Kuliah/Semester 7/Internship/Project Kualitas Udara/Dataset/ISPU 2017/indeks-standar-pencemar-udara-di-spku-bulan-februari-tahun-2017.csv')\n",
    "mar17 = pd.read_csv('D:/Kuliah/Semester 7/Internship/Project Kualitas Udara/Dataset/ISPU 2017/indeks-standar-pencemar-udara-di-spku-bulan-maret-tahun-2017.csv')\n",
    "apr17 = pd.read_csv('D:/Kuliah/Semester 7/Internship/Project Kualitas Udara/Dataset/ISPU 2017/indeks-standar-pencemar-udara-di-spku-bulan-april-tahun-2017.csv')\n",
    "mei17 = pd.read_csv('D:/Kuliah/Semester 7/Internship/Project Kualitas Udara/Dataset/ISPU 2017/indeks-standar-pencemar-udara-di-spku-bulan-mei-tahun-2017.csv')\n",
    "jun17 = pd.read_csv('D:/Kuliah/Semester 7/Internship/Project Kualitas Udara/Dataset/ISPU 2017/indeks-standar-pencemar-udara-di-spku-bulan-juni-tahun-2017.csv')\n",
    "jul17 = pd.read_csv('D:/Kuliah/Semester 7/Internship/Project Kualitas Udara/Dataset/ISPU 2017/indeks-standar-pencemar-udara-di-spku-bulan-juli-tahun-2017.csv')\n",
    "agu17 = pd.read_csv('D:/Kuliah/Semester 7/Internship/Project Kualitas Udara/Dataset/ISPU 2017/indeks-standar-pencemar-udara-di-spku-bulan-agustus-tahun-2017.csv')\n",
    "sep17 = pd.read_csv('D:/Kuliah/Semester 7/Internship/Project Kualitas Udara/Dataset/ISPU 2017/indeks-standar-pencemar-udara-di-spku-bulan-september-tahun-2017.csv')\n",
    "okt17 = pd.read_csv('D:/Kuliah/Semester 7/Internship/Project Kualitas Udara/Dataset/ISPU 2017/indeks-standar-pencemar-udara-di-spku-bulan-oktober-tahun-2017.csv')\n",
    "nov17 = pd.read_csv('D:/Kuliah/Semester 7/Internship/Project Kualitas Udara/Dataset/ISPU 2017/indeks-standar-pencemar-udara-di-spku-bulan-november-tahun-2017.csv')\n",
    "des17 = pd.read_csv('D:/Kuliah/Semester 7/Internship/Project Kualitas Udara/Dataset/ISPU 2017/indeks-standar-pencemar-udara-di-spku-bulan-desember-tahun-2017.csv')"
   ]
  },
  {
   "cell_type": "markdown",
   "id": "c9f6a0d8",
   "metadata": {},
   "source": [
    "Load data ISPU tahun 2018"
   ]
  },
  {
   "cell_type": "code",
   "execution_count": 4,
   "id": "88ddc1b4",
   "metadata": {},
   "outputs": [],
   "source": [
    "jan18 = pd.read_csv('D:/Kuliah/Semester 7/Internship/Project Kualitas Udara/Dataset/ISPU 2018/data-indeks-standar-pencemar-udara-di-spku-bulan-januari-tahun-2018.csv')\n",
    "feb18 = pd.read_csv('D:/Kuliah/Semester 7/Internship/Project Kualitas Udara/Dataset/ISPU 2018/data-indeks-standar-pencemar-udara-di-spku-bulan-februari-tahun-2018.csv')\n",
    "mar18 = pd.read_csv('D:/Kuliah/Semester 7/Internship/Project Kualitas Udara/Dataset/ISPU 2018/data-indeks-standar-pencemar-udara-di-spku-bulan-maret-tahun-2018.csv')\n",
    "apr18 = pd.read_csv('D:/Kuliah/Semester 7/Internship/Project Kualitas Udara/Dataset/ISPU 2018/data-indeks-standar-pencemar-udara-di-spku-bulan-april-tahun-2018.csv')\n",
    "mei18 = pd.read_csv('D:/Kuliah/Semester 7/Internship/Project Kualitas Udara/Dataset/ISPU 2018/data-indeks-standar-pencemar-udara-di-spku-bulan-mei-tahun-2018.csv')\n",
    "jun18 = pd.read_csv('D:/Kuliah/Semester 7/Internship/Project Kualitas Udara/Dataset/ISPU 2018/data-indeks-standar-pencemar-udara-di-spku-bulan-juni-tahun-2018.csv')\n",
    "jul18 = pd.read_csv('D:/Kuliah/Semester 7/Internship/Project Kualitas Udara/Dataset/ISPU 2018/data-indeks-standar-pencemar-udara-di-spku-bulan-juli-tahun-2018.csv')\n",
    "agu18 = pd.read_csv('D:/Kuliah/Semester 7/Internship/Project Kualitas Udara/Dataset/ISPU 2018/data-indeks-standar-pencemar-udara-di-spku-bulan-agustus-tahun-2018.csv')\n",
    "sep18 = pd.read_csv('D:/Kuliah/Semester 7/Internship/Project Kualitas Udara/Dataset/ISPU 2018/data-indeks-standar-pencemar-udara-di-spku-bulan-september-tahun-2018.csv')\n",
    "okt18 = pd.read_csv('D:/Kuliah/Semester 7/Internship/Project Kualitas Udara/Dataset/ISPU 2018/data-indeks-standar-pencemar-udara-di-spku-bulan-oktober-tahun-2018.csv')\n",
    "nov18 = pd.read_csv('D:/Kuliah/Semester 7/Internship/Project Kualitas Udara/Dataset/ISPU 2018/data-indeks-standar-pencemar-udara-di-spku-bulan-november-tahun-2018.csv')\n",
    "des18 = pd.read_csv(\"D:/Kuliah/Semester 7/Internship/Project Kualitas Udara/Dataset/ISPU 2018/indeks-standar-pencemar-udara-di-spku-bulan-desember-tahun-2018.csv\")"
   ]
  },
  {
   "cell_type": "markdown",
   "id": "13cc8326",
   "metadata": {},
   "source": [
    "Load data ISPU tahun 2019"
   ]
  },
  {
   "cell_type": "code",
   "execution_count": 5,
   "id": "17628497",
   "metadata": {},
   "outputs": [],
   "source": [
    "jan19 = pd.read_csv('D:/Kuliah/Semester 7/Internship/Project Kualitas Udara/Dataset/ISPU 2019/indeks-standar-pencemar-udara-di-spku-bulan-januari-tahun-2019 (1).csv')\n",
    "feb19 = pd.read_csv('D:/Kuliah/Semester 7/Internship/Project Kualitas Udara/Dataset/ISPU 2019/indeks-standar-pencemar-udara-di-spku-bulan-februari-tahun-2019 (1).csv')\n",
    "mar19 = pd.read_csv('D:/Kuliah/Semester 7/Internship/Project Kualitas Udara/Dataset/ISPU 2019/indeks-standar-pencemar-udara-di-spku-bulan-maret-tahun-2019 (1).csv')\n",
    "apr19 = pd.read_csv('D:/Kuliah/Semester 7/Internship/Project Kualitas Udara/Dataset/ISPU 2019/indeks-standar-pencemar-udara-di-spku-bulan-april-tahun-2019 (1).csv')\n",
    "mei19 = pd.read_csv('D:/Kuliah/Semester 7/Internship/Project Kualitas Udara/Dataset/ISPU 2019/indeks-standar-pencemar-udara-di-spku-bulan-mei-tahun-2019 (1).csv')\n",
    "jun19 = pd.read_csv('D:/Kuliah/Semester 7/Internship/Project Kualitas Udara/Dataset/ISPU 2019/indeks-standar-pencemar-udara-di-spku-bulan-juni-tahun-2019 (1).csv')\n",
    "jul19 = pd.read_csv('D:/Kuliah/Semester 7/Internship/Project Kualitas Udara/Dataset/ISPU 2019/indeks-standar-pencemar-udara-di-spku-bulan-juli-tahun-2019 (1).csv')\n",
    "agu19 = pd.read_csv('D:/Kuliah/Semester 7/Internship/Project Kualitas Udara/Dataset/ISPU 2019/indeks-standar-pencemar-udara-di-spku-bulan-agustus-tahun-2019 (1).csv')\n",
    "sep19 = pd.read_csv('D:/Kuliah/Semester 7/Internship/Project Kualitas Udara/Dataset/ISPU 2019/indeks-standar-pencemar-udara-di-spku-bulan-september-tahun-2019 (1).csv')\n",
    "okt19 = pd.read_csv('D:/Kuliah/Semester 7/Internship/Project Kualitas Udara/Dataset/ISPU 2019/indeks-standar-pencemar-udara-di-spku-bulan-oktober-tahun-2019 (1).csv')\n",
    "nov19 = pd.read_csv('D:/Kuliah/Semester 7/Internship/Project Kualitas Udara/Dataset/ISPU 2019/indeks-standar-pencemar-udara-di-spku-bulan-november-tahun-2019 (1).csv')\n",
    "des19 = pd.read_csv('D:/Kuliah/Semester 7/Internship/Project Kualitas Udara/Dataset/ISPU 2019/indeks-standar-pencemar-udara-di-spku-bulan-desember-tahun-2019 (1).csv')"
   ]
  },
  {
   "cell_type": "markdown",
   "id": "48063ae2",
   "metadata": {},
   "source": [
    "Load data ISPU tahun 2020"
   ]
  },
  {
   "cell_type": "code",
   "execution_count": 6,
   "id": "18182457",
   "metadata": {},
   "outputs": [],
   "source": [
    "jan20 = pd.read_csv('D:/Kuliah/Semester 7/Internship/Project Kualitas Udara/Dataset/ISPU 2020/indeks-standar-pencemar-udara-di-spku-bulan-januari-tahun-2020.csv')\n",
    "feb20 = pd.read_csv('D:/Kuliah/Semester 7/Internship/Project Kualitas Udara/Dataset/ISPU 2020/indeks-standar-pencemar-udara-di-spku-bulan-februari-tahun-2020.csv')\n",
    "mar20 = pd.read_csv('D:/Kuliah/Semester 7/Internship/Project Kualitas Udara/Dataset/ISPU 2020/indeks-standar-pencemar-udara-di-spku-bulan-maret-tahun-2020.csv')\n",
    "apr20 = pd.read_csv('D:/Kuliah/Semester 7/Internship/Project Kualitas Udara/Dataset/ISPU 2020/indeks-standar-pencemar-udara-di-spku-bulan-april-tahun-2020.csv')\n",
    "mei20 = pd.read_csv('D:/Kuliah/Semester 7/Internship/Project Kualitas Udara/Dataset/ISPU 2020/indeks-standar-pencemar-udara-di-spku-bulan-mei-tahun-2020.csv')\n",
    "jun20 = pd.read_csv('D:/Kuliah/Semester 7/Internship/Project Kualitas Udara/Dataset/ISPU 2020/indeks-standar-pencemar-udara-di-spku-bulan-juni-tahun-2020.csv')\n",
    "jul20 = pd.read_csv('D:/Kuliah/Semester 7/Internship/Project Kualitas Udara/Dataset/ISPU 2020/indeks-standar-pencemar-udara-di-spku-bulan-juli-tahun-2020.csv')\n",
    "agu20 = pd.read_csv('D:/Kuliah/Semester 7/Internship/Project Kualitas Udara/Dataset/ISPU 2020/indeks-standar-pencemar-udara-di-spku-bulan-agustus-tahun-2020.csv')\n",
    "sep20 = pd.read_csv('D:/Kuliah/Semester 7/Internship/Project Kualitas Udara/Dataset/ISPU 2020/indeks-standar-pencemar-udara-di-spku-bulan-september-tahun-2020.csv')\n",
    "okt20 = pd.read_csv('D:/Kuliah/Semester 7/Internship/Project Kualitas Udara/Dataset/ISPU 2020/indeks-standar-pencemar-udara-di-spku-bulan-oktober-tahun-2020.csv')\n",
    "nov20 = pd.read_csv('D:/Kuliah/Semester 7/Internship/Project Kualitas Udara/Dataset/ISPU 2020/indeks-standar-pencemar-udara-di-spku-bulan-november-tahun-2020.csv')\n",
    "des20 = pd.read_csv(\"D:/Kuliah/Semester 7/Internship/Project Kualitas Udara/Dataset/ISPU 2020/indeks-standar-pencemar-udara-di-spku-bulan-desember-tahun-2020.csv\")"
   ]
  },
  {
   "cell_type": "markdown",
   "id": "cbfc186f",
   "metadata": {},
   "source": [
    "Menggabungkan DataFrame yang mewakili data bulanan menjadi satu DataFrame tunggal. Ini mempermudah analisis data atau pemrosesan data yang melibatkan seluruh rentang waktu yang diwakili oleh DataFrame bulanan tersebut."
   ]
  },
  {
   "cell_type": "code",
   "execution_count": 7,
   "id": "b9fae9c4",
   "metadata": {},
   "outputs": [],
   "source": [
    "df_list = [jan16, jan17, jan18, jan19, jan20,\n",
    "           feb16, feb17, feb18, feb19, feb20,\n",
    "           mar16, mar17, mar18, mar19, mar20,\n",
    "           apr16, apr17, apr18, apr19, apr20,\n",
    "           mei16, mei17, mei18, mei19, mei20,\n",
    "           jun16, jun17, jun18, jun19, jun20,\n",
    "           jul16, jul17, jul18, jul19, jul20,\n",
    "           agu16, agu17, agu18, agu19, agu20,\n",
    "           sep16, sep17, sep18, sep19, sep20,\n",
    "           okt16, okt17, okt18, okt19, okt20,\n",
    "           nov16, nov17, nov18, nov19, nov20,\n",
    "           des16, des17, des18, des19, des20]\n",
    "combined_df = pd.concat(df_list, ignore_index=True)"
   ]
  },
  {
   "cell_type": "markdown",
   "id": "dd92e329",
   "metadata": {},
   "source": [
    "Menampilkan 5 data teratas setelah digabungkan"
   ]
  },
  {
   "cell_type": "code",
   "execution_count": 8,
   "id": "d436431b",
   "metadata": {},
   "outputs": [
    {
     "data": {
      "text/html": [
       "<div>\n",
       "<style scoped>\n",
       "    .dataframe tbody tr th:only-of-type {\n",
       "        vertical-align: middle;\n",
       "    }\n",
       "\n",
       "    .dataframe tbody tr th {\n",
       "        vertical-align: top;\n",
       "    }\n",
       "\n",
       "    .dataframe thead th {\n",
       "        text-align: right;\n",
       "    }\n",
       "</style>\n",
       "<table border=\"1\" class=\"dataframe\">\n",
       "  <thead>\n",
       "    <tr style=\"text-align: right;\">\n",
       "      <th></th>\n",
       "      <th>tanggal</th>\n",
       "      <th>stasiun</th>\n",
       "      <th>pm10</th>\n",
       "      <th>so2</th>\n",
       "      <th>co</th>\n",
       "      <th>o3</th>\n",
       "      <th>no2</th>\n",
       "      <th>max</th>\n",
       "      <th>critical</th>\n",
       "      <th>categori</th>\n",
       "      <th>...</th>\n",
       "      <th>Unnamed: 13</th>\n",
       "      <th>Unnamed: 14</th>\n",
       "      <th>Unnamed: 15</th>\n",
       "      <th>Unnamed: 16</th>\n",
       "      <th>Unnamed: 17</th>\n",
       "      <th>Unnamed: 18</th>\n",
       "      <th>Unnamed: 19</th>\n",
       "      <th>Unnamed: 20</th>\n",
       "      <th>Unnamed: 21</th>\n",
       "      <th>kategori</th>\n",
       "    </tr>\n",
       "  </thead>\n",
       "  <tbody>\n",
       "    <tr>\n",
       "      <th>0</th>\n",
       "      <td>2016-01-01</td>\n",
       "      <td>DKI1 (Bunderan HI)</td>\n",
       "      <td>59</td>\n",
       "      <td>19</td>\n",
       "      <td>27</td>\n",
       "      <td>31</td>\n",
       "      <td>1</td>\n",
       "      <td>59.0</td>\n",
       "      <td>PM10</td>\n",
       "      <td>SEDANG</td>\n",
       "      <td>...</td>\n",
       "      <td>NaN</td>\n",
       "      <td>NaN</td>\n",
       "      <td>NaN</td>\n",
       "      <td>NaN</td>\n",
       "      <td>NaN</td>\n",
       "      <td>NaN</td>\n",
       "      <td>NaN</td>\n",
       "      <td>NaN</td>\n",
       "      <td>NaN</td>\n",
       "      <td>NaN</td>\n",
       "    </tr>\n",
       "    <tr>\n",
       "      <th>1</th>\n",
       "      <td>2016-01-02</td>\n",
       "      <td>DKI1 (Bunderan HI)</td>\n",
       "      <td>52</td>\n",
       "      <td>19</td>\n",
       "      <td>---</td>\n",
       "      <td>33</td>\n",
       "      <td>2</td>\n",
       "      <td>52.0</td>\n",
       "      <td>PM10</td>\n",
       "      <td>SEDANG</td>\n",
       "      <td>...</td>\n",
       "      <td>NaN</td>\n",
       "      <td>NaN</td>\n",
       "      <td>NaN</td>\n",
       "      <td>NaN</td>\n",
       "      <td>NaN</td>\n",
       "      <td>NaN</td>\n",
       "      <td>NaN</td>\n",
       "      <td>NaN</td>\n",
       "      <td>NaN</td>\n",
       "      <td>NaN</td>\n",
       "    </tr>\n",
       "    <tr>\n",
       "      <th>2</th>\n",
       "      <td>2016-01-03</td>\n",
       "      <td>DKI1 (Bunderan HI)</td>\n",
       "      <td>44</td>\n",
       "      <td>19</td>\n",
       "      <td>---</td>\n",
       "      <td>36</td>\n",
       "      <td>2</td>\n",
       "      <td>44.0</td>\n",
       "      <td>PM10</td>\n",
       "      <td>BAIK</td>\n",
       "      <td>...</td>\n",
       "      <td>NaN</td>\n",
       "      <td>NaN</td>\n",
       "      <td>NaN</td>\n",
       "      <td>NaN</td>\n",
       "      <td>NaN</td>\n",
       "      <td>NaN</td>\n",
       "      <td>NaN</td>\n",
       "      <td>NaN</td>\n",
       "      <td>NaN</td>\n",
       "      <td>NaN</td>\n",
       "    </tr>\n",
       "    <tr>\n",
       "      <th>3</th>\n",
       "      <td>2016-01-04</td>\n",
       "      <td>DKI1 (Bunderan HI)</td>\n",
       "      <td>58</td>\n",
       "      <td>21</td>\n",
       "      <td>---</td>\n",
       "      <td>46</td>\n",
       "      <td>5</td>\n",
       "      <td>58.0</td>\n",
       "      <td>PM10</td>\n",
       "      <td>SEDANG</td>\n",
       "      <td>...</td>\n",
       "      <td>NaN</td>\n",
       "      <td>NaN</td>\n",
       "      <td>NaN</td>\n",
       "      <td>NaN</td>\n",
       "      <td>NaN</td>\n",
       "      <td>NaN</td>\n",
       "      <td>NaN</td>\n",
       "      <td>NaN</td>\n",
       "      <td>NaN</td>\n",
       "      <td>NaN</td>\n",
       "    </tr>\n",
       "    <tr>\n",
       "      <th>4</th>\n",
       "      <td>2016-01-05</td>\n",
       "      <td>DKI1 (Bunderan HI)</td>\n",
       "      <td>70</td>\n",
       "      <td>19</td>\n",
       "      <td>---</td>\n",
       "      <td>41</td>\n",
       "      <td>4</td>\n",
       "      <td>70.0</td>\n",
       "      <td>PM10</td>\n",
       "      <td>SEDANG</td>\n",
       "      <td>...</td>\n",
       "      <td>NaN</td>\n",
       "      <td>NaN</td>\n",
       "      <td>NaN</td>\n",
       "      <td>NaN</td>\n",
       "      <td>NaN</td>\n",
       "      <td>NaN</td>\n",
       "      <td>NaN</td>\n",
       "      <td>NaN</td>\n",
       "      <td>NaN</td>\n",
       "      <td>NaN</td>\n",
       "    </tr>\n",
       "  </tbody>\n",
       "</table>\n",
       "<p>5 rows × 25 columns</p>\n",
       "</div>"
      ],
      "text/plain": [
       "      tanggal             stasiun pm10 so2   co  o3 no2   max critical  \\\n",
       "0  2016-01-01  DKI1 (Bunderan HI)   59  19   27  31   1  59.0     PM10   \n",
       "1  2016-01-02  DKI1 (Bunderan HI)   52  19  ---  33   2  52.0     PM10   \n",
       "2  2016-01-03  DKI1 (Bunderan HI)   44  19  ---  36   2  44.0     PM10   \n",
       "3  2016-01-04  DKI1 (Bunderan HI)   58  21  ---  46   5  58.0     PM10   \n",
       "4  2016-01-05  DKI1 (Bunderan HI)   70  19  ---  41   4  70.0     PM10   \n",
       "\n",
       "  categori  ...  Unnamed: 13 Unnamed: 14  Unnamed: 15  Unnamed: 16  \\\n",
       "0   SEDANG  ...          NaN         NaN          NaN          NaN   \n",
       "1   SEDANG  ...          NaN         NaN          NaN          NaN   \n",
       "2     BAIK  ...          NaN         NaN          NaN          NaN   \n",
       "3   SEDANG  ...          NaN         NaN          NaN          NaN   \n",
       "4   SEDANG  ...          NaN         NaN          NaN          NaN   \n",
       "\n",
       "   Unnamed: 17  Unnamed: 18  Unnamed: 19  Unnamed: 20  Unnamed: 21  kategori  \n",
       "0          NaN          NaN          NaN          NaN          NaN       NaN  \n",
       "1          NaN          NaN          NaN          NaN          NaN       NaN  \n",
       "2          NaN          NaN          NaN          NaN          NaN       NaN  \n",
       "3          NaN          NaN          NaN          NaN          NaN       NaN  \n",
       "4          NaN          NaN          NaN          NaN          NaN       NaN  \n",
       "\n",
       "[5 rows x 25 columns]"
      ]
     },
     "execution_count": 8,
     "metadata": {},
     "output_type": "execute_result"
    }
   ],
   "source": [
    "combined_df.head()"
   ]
  },
  {
   "cell_type": "markdown",
   "id": "c5e2d782",
   "metadata": {},
   "source": [
    "Menampilkan jumlah baris dan kolom dalam DataFrame “combined_df” atau ukuran data."
   ]
  },
  {
   "cell_type": "code",
   "execution_count": 9,
   "id": "e84bf2e9",
   "metadata": {},
   "outputs": [
    {
     "data": {
      "text/plain": [
       "(9170, 25)"
      ]
     },
     "execution_count": 9,
     "metadata": {},
     "output_type": "execute_result"
    }
   ],
   "source": [
    "combined_df.shape"
   ]
  },
  {
   "cell_type": "markdown",
   "id": "8622ab7c",
   "metadata": {},
   "source": [
    "Menampilkan statiska deskriptif dalam DataFrame “combined_df”."
   ]
  },
  {
   "cell_type": "code",
   "execution_count": 10,
   "id": "0011bcce",
   "metadata": {
    "scrolled": false
   },
   "outputs": [
    {
     "data": {
      "text/html": [
       "<div>\n",
       "<style scoped>\n",
       "    .dataframe tbody tr th:only-of-type {\n",
       "        vertical-align: middle;\n",
       "    }\n",
       "\n",
       "    .dataframe tbody tr th {\n",
       "        vertical-align: top;\n",
       "    }\n",
       "\n",
       "    .dataframe thead th {\n",
       "        text-align: right;\n",
       "    }\n",
       "</style>\n",
       "<table border=\"1\" class=\"dataframe\">\n",
       "  <thead>\n",
       "    <tr style=\"text-align: right;\">\n",
       "      <th></th>\n",
       "      <th>max</th>\n",
       "      <th>s02</th>\n",
       "      <th>Unnamed: 10</th>\n",
       "      <th>Unnamed: 11</th>\n",
       "      <th>Unnamed: 12</th>\n",
       "      <th>Unnamed: 13</th>\n",
       "      <th>Unnamed: 14</th>\n",
       "      <th>Unnamed: 15</th>\n",
       "      <th>Unnamed: 16</th>\n",
       "      <th>Unnamed: 17</th>\n",
       "      <th>Unnamed: 18</th>\n",
       "      <th>Unnamed: 19</th>\n",
       "      <th>Unnamed: 20</th>\n",
       "      <th>Unnamed: 21</th>\n",
       "    </tr>\n",
       "  </thead>\n",
       "  <tbody>\n",
       "    <tr>\n",
       "      <th>count</th>\n",
       "      <td>9103.000000</td>\n",
       "      <td>143.000000</td>\n",
       "      <td>0.0</td>\n",
       "      <td>0.0</td>\n",
       "      <td>0.0</td>\n",
       "      <td>0.0</td>\n",
       "      <td>0.0</td>\n",
       "      <td>0.0</td>\n",
       "      <td>0.0</td>\n",
       "      <td>0.0</td>\n",
       "      <td>0.0</td>\n",
       "      <td>0.0</td>\n",
       "      <td>0.0</td>\n",
       "      <td>0.0</td>\n",
       "    </tr>\n",
       "    <tr>\n",
       "      <th>mean</th>\n",
       "      <td>69.638361</td>\n",
       "      <td>20.685315</td>\n",
       "      <td>NaN</td>\n",
       "      <td>NaN</td>\n",
       "      <td>NaN</td>\n",
       "      <td>NaN</td>\n",
       "      <td>NaN</td>\n",
       "      <td>NaN</td>\n",
       "      <td>NaN</td>\n",
       "      <td>NaN</td>\n",
       "      <td>NaN</td>\n",
       "      <td>NaN</td>\n",
       "      <td>NaN</td>\n",
       "      <td>NaN</td>\n",
       "    </tr>\n",
       "    <tr>\n",
       "      <th>std</th>\n",
       "      <td>33.020242</td>\n",
       "      <td>7.255323</td>\n",
       "      <td>NaN</td>\n",
       "      <td>NaN</td>\n",
       "      <td>NaN</td>\n",
       "      <td>NaN</td>\n",
       "      <td>NaN</td>\n",
       "      <td>NaN</td>\n",
       "      <td>NaN</td>\n",
       "      <td>NaN</td>\n",
       "      <td>NaN</td>\n",
       "      <td>NaN</td>\n",
       "      <td>NaN</td>\n",
       "      <td>NaN</td>\n",
       "    </tr>\n",
       "    <tr>\n",
       "      <th>min</th>\n",
       "      <td>0.000000</td>\n",
       "      <td>7.000000</td>\n",
       "      <td>NaN</td>\n",
       "      <td>NaN</td>\n",
       "      <td>NaN</td>\n",
       "      <td>NaN</td>\n",
       "      <td>NaN</td>\n",
       "      <td>NaN</td>\n",
       "      <td>NaN</td>\n",
       "      <td>NaN</td>\n",
       "      <td>NaN</td>\n",
       "      <td>NaN</td>\n",
       "      <td>NaN</td>\n",
       "      <td>NaN</td>\n",
       "    </tr>\n",
       "    <tr>\n",
       "      <th>25%</th>\n",
       "      <td>51.000000</td>\n",
       "      <td>16.000000</td>\n",
       "      <td>NaN</td>\n",
       "      <td>NaN</td>\n",
       "      <td>NaN</td>\n",
       "      <td>NaN</td>\n",
       "      <td>NaN</td>\n",
       "      <td>NaN</td>\n",
       "      <td>NaN</td>\n",
       "      <td>NaN</td>\n",
       "      <td>NaN</td>\n",
       "      <td>NaN</td>\n",
       "      <td>NaN</td>\n",
       "      <td>NaN</td>\n",
       "    </tr>\n",
       "    <tr>\n",
       "      <th>50%</th>\n",
       "      <td>66.000000</td>\n",
       "      <td>22.000000</td>\n",
       "      <td>NaN</td>\n",
       "      <td>NaN</td>\n",
       "      <td>NaN</td>\n",
       "      <td>NaN</td>\n",
       "      <td>NaN</td>\n",
       "      <td>NaN</td>\n",
       "      <td>NaN</td>\n",
       "      <td>NaN</td>\n",
       "      <td>NaN</td>\n",
       "      <td>NaN</td>\n",
       "      <td>NaN</td>\n",
       "      <td>NaN</td>\n",
       "    </tr>\n",
       "    <tr>\n",
       "      <th>75%</th>\n",
       "      <td>85.000000</td>\n",
       "      <td>23.500000</td>\n",
       "      <td>NaN</td>\n",
       "      <td>NaN</td>\n",
       "      <td>NaN</td>\n",
       "      <td>NaN</td>\n",
       "      <td>NaN</td>\n",
       "      <td>NaN</td>\n",
       "      <td>NaN</td>\n",
       "      <td>NaN</td>\n",
       "      <td>NaN</td>\n",
       "      <td>NaN</td>\n",
       "      <td>NaN</td>\n",
       "      <td>NaN</td>\n",
       "    </tr>\n",
       "    <tr>\n",
       "      <th>max</th>\n",
       "      <td>243.000000</td>\n",
       "      <td>58.000000</td>\n",
       "      <td>NaN</td>\n",
       "      <td>NaN</td>\n",
       "      <td>NaN</td>\n",
       "      <td>NaN</td>\n",
       "      <td>NaN</td>\n",
       "      <td>NaN</td>\n",
       "      <td>NaN</td>\n",
       "      <td>NaN</td>\n",
       "      <td>NaN</td>\n",
       "      <td>NaN</td>\n",
       "      <td>NaN</td>\n",
       "      <td>NaN</td>\n",
       "    </tr>\n",
       "  </tbody>\n",
       "</table>\n",
       "</div>"
      ],
      "text/plain": [
       "               max         s02  Unnamed: 10  Unnamed: 11  Unnamed: 12  \\\n",
       "count  9103.000000  143.000000          0.0          0.0          0.0   \n",
       "mean     69.638361   20.685315          NaN          NaN          NaN   \n",
       "std      33.020242    7.255323          NaN          NaN          NaN   \n",
       "min       0.000000    7.000000          NaN          NaN          NaN   \n",
       "25%      51.000000   16.000000          NaN          NaN          NaN   \n",
       "50%      66.000000   22.000000          NaN          NaN          NaN   \n",
       "75%      85.000000   23.500000          NaN          NaN          NaN   \n",
       "max     243.000000   58.000000          NaN          NaN          NaN   \n",
       "\n",
       "       Unnamed: 13  Unnamed: 14  Unnamed: 15  Unnamed: 16  Unnamed: 17  \\\n",
       "count          0.0          0.0          0.0          0.0          0.0   \n",
       "mean           NaN          NaN          NaN          NaN          NaN   \n",
       "std            NaN          NaN          NaN          NaN          NaN   \n",
       "min            NaN          NaN          NaN          NaN          NaN   \n",
       "25%            NaN          NaN          NaN          NaN          NaN   \n",
       "50%            NaN          NaN          NaN          NaN          NaN   \n",
       "75%            NaN          NaN          NaN          NaN          NaN   \n",
       "max            NaN          NaN          NaN          NaN          NaN   \n",
       "\n",
       "       Unnamed: 18  Unnamed: 19  Unnamed: 20  Unnamed: 21  \n",
       "count          0.0          0.0          0.0          0.0  \n",
       "mean           NaN          NaN          NaN          NaN  \n",
       "std            NaN          NaN          NaN          NaN  \n",
       "min            NaN          NaN          NaN          NaN  \n",
       "25%            NaN          NaN          NaN          NaN  \n",
       "50%            NaN          NaN          NaN          NaN  \n",
       "75%            NaN          NaN          NaN          NaN  \n",
       "max            NaN          NaN          NaN          NaN  "
      ]
     },
     "execution_count": 10,
     "metadata": {},
     "output_type": "execute_result"
    }
   ],
   "source": [
    "combined_df.describe()"
   ]
  },
  {
   "cell_type": "markdown",
   "id": "6c805ac5",
   "metadata": {},
   "source": [
    "Menampilkan kolom yang ada dalam DataFrame \"combined_df\""
   ]
  },
  {
   "cell_type": "code",
   "execution_count": 11,
   "id": "0b297775",
   "metadata": {},
   "outputs": [
    {
     "data": {
      "text/plain": [
       "Index(['tanggal', 'stasiun', 'pm10', 'so2', 'co', 'o3', 'no2', 'max',\n",
       "       'critical', 'categori', 's02', 'keterangan', 'Unnamed: 10',\n",
       "       'Unnamed: 11', 'Unnamed: 12', 'Unnamed: 13', 'Unnamed: 14',\n",
       "       'Unnamed: 15', 'Unnamed: 16', 'Unnamed: 17', 'Unnamed: 18',\n",
       "       'Unnamed: 19', 'Unnamed: 20', 'Unnamed: 21', 'kategori'],\n",
       "      dtype='object')"
      ]
     },
     "execution_count": 11,
     "metadata": {},
     "output_type": "execute_result"
    }
   ],
   "source": [
    "combined_df.columns"
   ]
  },
  {
   "cell_type": "markdown",
   "id": "4cbb08f9",
   "metadata": {},
   "source": [
    "Menampilkan tipe data dalam DataFrame “combined_df”."
   ]
  },
  {
   "cell_type": "code",
   "execution_count": 12,
   "id": "98998282",
   "metadata": {
    "scrolled": true
   },
   "outputs": [
    {
     "name": "stdout",
     "output_type": "stream",
     "text": [
      "<class 'pandas.core.frame.DataFrame'>\n",
      "RangeIndex: 9170 entries, 0 to 9169\n",
      "Data columns (total 25 columns):\n",
      " #   Column       Non-Null Count  Dtype  \n",
      "---  ------       --------------  -----  \n",
      " 0   tanggal      9135 non-null   object \n",
      " 1   stasiun      9135 non-null   object \n",
      " 2   pm10         9084 non-null   object \n",
      " 3   so2          8925 non-null   object \n",
      " 4   co           9074 non-null   object \n",
      " 5   o3           9025 non-null   object \n",
      " 6   no2          9036 non-null   object \n",
      " 7   max          9103 non-null   float64\n",
      " 8   critical     8982 non-null   object \n",
      " 9   categori     8977 non-null   object \n",
      " 10  s02          143 non-null    float64\n",
      " 11  keterangan   150 non-null    object \n",
      " 12  Unnamed: 10  0 non-null      float64\n",
      " 13  Unnamed: 11  0 non-null      float64\n",
      " 14  Unnamed: 12  0 non-null      float64\n",
      " 15  Unnamed: 13  0 non-null      float64\n",
      " 16  Unnamed: 14  0 non-null      float64\n",
      " 17  Unnamed: 15  0 non-null      float64\n",
      " 18  Unnamed: 16  0 non-null      float64\n",
      " 19  Unnamed: 17  0 non-null      float64\n",
      " 20  Unnamed: 18  0 non-null      float64\n",
      " 21  Unnamed: 19  0 non-null      float64\n",
      " 22  Unnamed: 20  0 non-null      float64\n",
      " 23  Unnamed: 21  0 non-null      float64\n",
      " 24  kategori     155 non-null    object \n",
      "dtypes: float64(14), object(11)\n",
      "memory usage: 1.7+ MB\n"
     ]
    }
   ],
   "source": [
    "combined_df.info()"
   ]
  },
  {
   "cell_type": "markdown",
   "id": "31f75ca9",
   "metadata": {},
   "source": [
    "Menampilkan nilai unik dalam setiap kolom DataFrame untuk mendapatkan pemahaman cepat tentang seberapa bervariasi data dalam setiap kolom."
   ]
  },
  {
   "cell_type": "code",
   "execution_count": 13,
   "id": "75d52d5d",
   "metadata": {},
   "outputs": [
    {
     "data": {
      "text/plain": [
       "tanggal        1854\n",
       "stasiun          55\n",
       "pm10            204\n",
       "so2             163\n",
       "co              191\n",
       "o3              403\n",
       "no2             198\n",
       "max             219\n",
       "critical         10\n",
       "categori          9\n",
       "s02              29\n",
       "keterangan        5\n",
       "Unnamed: 10       0\n",
       "Unnamed: 11       0\n",
       "Unnamed: 12       0\n",
       "Unnamed: 13       0\n",
       "Unnamed: 14       0\n",
       "Unnamed: 15       0\n",
       "Unnamed: 16       0\n",
       "Unnamed: 17       0\n",
       "Unnamed: 18       0\n",
       "Unnamed: 19       0\n",
       "Unnamed: 20       0\n",
       "Unnamed: 21       0\n",
       "kategori          5\n",
       "dtype: int64"
      ]
     },
     "execution_count": 13,
     "metadata": {},
     "output_type": "execute_result"
    }
   ],
   "source": [
    "cardinalities = combined_df.nunique()\n",
    "cardinalities"
   ]
  },
  {
   "cell_type": "markdown",
   "id": "0cfd97a5",
   "metadata": {},
   "source": [
    "# Data Preparation"
   ]
  },
  {
   "cell_type": "markdown",
   "id": "87a52948",
   "metadata": {},
   "source": [
    "Menghapus kolom-kolom tertentu dari DataFrame combined_df. Kolom-kolom yang akan dihapus didefinisikan dalam list columns_to_drop."
   ]
  },
  {
   "cell_type": "code",
   "execution_count": 14,
   "id": "8fe816ec",
   "metadata": {},
   "outputs": [],
   "source": [
    "columns_to_drop = ['Unnamed: 10', 'Unnamed: 11', 'Unnamed: 12', 'Unnamed: 13', 'Unnamed: 14',\n",
    "                   'Unnamed: 15', 'Unnamed: 16', 'Unnamed: 17', 'Unnamed: 18', 'Unnamed: 19',\n",
    "                   'Unnamed: 20', 'Unnamed: 21','keterangan', 'kategori', 's02']\n",
    "\n",
    "combined_df = combined_df.drop(columns=columns_to_drop)"
   ]
  },
  {
   "cell_type": "markdown",
   "id": "37f0bf11",
   "metadata": {},
   "source": [
    "Menampilkan kolom yang ada dalam DataFrame \"combined_df\""
   ]
  },
  {
   "cell_type": "code",
   "execution_count": 15,
   "id": "969051d0",
   "metadata": {},
   "outputs": [
    {
     "data": {
      "text/plain": [
       "Index(['tanggal', 'stasiun', 'pm10', 'so2', 'co', 'o3', 'no2', 'max',\n",
       "       'critical', 'categori'],\n",
       "      dtype='object')"
      ]
     },
     "execution_count": 15,
     "metadata": {},
     "output_type": "execute_result"
    }
   ],
   "source": [
    "combined_df.columns"
   ]
  },
  {
   "cell_type": "markdown",
   "id": "ea775112",
   "metadata": {},
   "source": [
    "Merubah tipe data pada kolom tanggal menjadi datetime"
   ]
  },
  {
   "cell_type": "code",
   "execution_count": 16,
   "id": "e5669487",
   "metadata": {},
   "outputs": [],
   "source": [
    "combined_df['tanggal']=pd.to_datetime(combined_df['tanggal'])"
   ]
  },
  {
   "cell_type": "markdown",
   "id": "d209d7a9",
   "metadata": {},
   "source": [
    "Menampilkan tipe data dalam DataFrame “combined_df”."
   ]
  },
  {
   "cell_type": "code",
   "execution_count": 17,
   "id": "a17f899a",
   "metadata": {},
   "outputs": [
    {
     "name": "stdout",
     "output_type": "stream",
     "text": [
      "<class 'pandas.core.frame.DataFrame'>\n",
      "RangeIndex: 9170 entries, 0 to 9169\n",
      "Data columns (total 10 columns):\n",
      " #   Column    Non-Null Count  Dtype         \n",
      "---  ------    --------------  -----         \n",
      " 0   tanggal   9135 non-null   datetime64[ns]\n",
      " 1   stasiun   9135 non-null   object        \n",
      " 2   pm10      9084 non-null   object        \n",
      " 3   so2       8925 non-null   object        \n",
      " 4   co        9074 non-null   object        \n",
      " 5   o3        9025 non-null   object        \n",
      " 6   no2       9036 non-null   object        \n",
      " 7   max       9103 non-null   float64       \n",
      " 8   critical  8982 non-null   object        \n",
      " 9   categori  8977 non-null   object        \n",
      "dtypes: datetime64[ns](1), float64(1), object(8)\n",
      "memory usage: 716.5+ KB\n"
     ]
    }
   ],
   "source": [
    "combined_df.info()"
   ]
  },
  {
   "cell_type": "markdown",
   "id": "6d7dae0b",
   "metadata": {},
   "source": [
    "Variabel numeric_columns berisi daftar nama kolom-kolom dalam DataFrame combined_df yang diasumsikan berisi data numerik. Kolom-kolom tersebut adalah 'pm10', 'so2', 'co', 'o3', dan 'no2'."
   ]
  },
  {
   "cell_type": "code",
   "execution_count": 18,
   "id": "fbdb15bf",
   "metadata": {},
   "outputs": [],
   "source": [
    "numeric_columns = ['pm10', 'so2', 'co', 'o3', 'no2']"
   ]
  },
  {
   "cell_type": "markdown",
   "id": "d8bb8c50",
   "metadata": {},
   "source": [
    "Merubah nilai-nilai dalam kolom-kolom numerik yang terdapat dalam DataFrame combined_df menjadi tipe data numerik."
   ]
  },
  {
   "cell_type": "code",
   "execution_count": 19,
   "id": "87a0c7e7",
   "metadata": {},
   "outputs": [],
   "source": [
    "combined_df[numeric_columns] = combined_df[numeric_columns].apply(pd.to_numeric, errors='coerce')"
   ]
  },
  {
   "cell_type": "markdown",
   "id": "6bf5c66c",
   "metadata": {},
   "source": [
    "Menampilkan tipe data dalam DataFrame “combined_df”."
   ]
  },
  {
   "cell_type": "code",
   "execution_count": 20,
   "id": "4f886d74",
   "metadata": {},
   "outputs": [
    {
     "name": "stdout",
     "output_type": "stream",
     "text": [
      "<class 'pandas.core.frame.DataFrame'>\n",
      "RangeIndex: 9170 entries, 0 to 9169\n",
      "Data columns (total 10 columns):\n",
      " #   Column    Non-Null Count  Dtype         \n",
      "---  ------    --------------  -----         \n",
      " 0   tanggal   9135 non-null   datetime64[ns]\n",
      " 1   stasiun   9135 non-null   object        \n",
      " 2   pm10      8695 non-null   float64       \n",
      " 3   so2       8663 non-null   float64       \n",
      " 4   co        8778 non-null   float64       \n",
      " 5   o3        8744 non-null   float64       \n",
      " 6   no2       8700 non-null   float64       \n",
      " 7   max       9103 non-null   float64       \n",
      " 8   critical  8982 non-null   object        \n",
      " 9   categori  8977 non-null   object        \n",
      "dtypes: datetime64[ns](1), float64(6), object(3)\n",
      "memory usage: 716.5+ KB\n"
     ]
    }
   ],
   "source": [
    "combined_df.info()"
   ]
  },
  {
   "cell_type": "markdown",
   "id": "e1a7fce4",
   "metadata": {},
   "source": [
    "Menampilkan daftar nilai unik dalam kolom 'stasiun' beserta jumlah kemunculannya masing-masing. "
   ]
  },
  {
   "cell_type": "code",
   "execution_count": 21,
   "id": "ad0cbe85",
   "metadata": {
    "scrolled": false
   },
   "outputs": [
    {
     "data": {
      "text/plain": [
       "DKI1 (Bunderan HI)                  1796\n",
       "DKI2 (Kelapa Gading)                1796\n",
       "DKI3 (Jagakarsa)                    1796\n",
       "DKI4 (Lubang Buaya)                 1796\n",
       "DKI5 (Kebon Jeruk) Jakarta Barat    1372\n",
       "DKI5 (Kebon Jeruk)                   424\n",
       "43                                    10\n",
       "34                                     8\n",
       "54                                     8\n",
       "40                                     8\n",
       "44                                     7\n",
       "50                                     6\n",
       "51                                     6\n",
       "45                                     6\n",
       "53                                     5\n",
       "48                                     5\n",
       "56                                     5\n",
       "65                                     4\n",
       "59                                     4\n",
       "62                                     4\n",
       "58                                     4\n",
       "38                                     3\n",
       "---                                    3\n",
       "32                                     3\n",
       "42                                     3\n",
       "52                                     3\n",
       "47                                     3\n",
       "39                                     3\n",
       "35                                     3\n",
       "49                                     3\n",
       "36                                     2\n",
       "70                                     2\n",
       "74                                     2\n",
       "37                                     2\n",
       "66                                     2\n",
       "69                                     2\n",
       "78                                     2\n",
       "71                                     2\n",
       "27                                     2\n",
       "30                                     2\n",
       "22                                     2\n",
       "55                                     2\n",
       "33                                     2\n",
       "73                                     1\n",
       "24                                     1\n",
       "57                                     1\n",
       "101                                    1\n",
       "61                                     1\n",
       "89                                     1\n",
       "76                                     1\n",
       "60                                     1\n",
       "63                                     1\n",
       "64                                     1\n",
       "41                                     1\n",
       "25                                     1\n",
       "Name: stasiun, dtype: int64"
      ]
     },
     "execution_count": 21,
     "metadata": {},
     "output_type": "execute_result"
    }
   ],
   "source": [
    "combined_df['stasiun'].value_counts()"
   ]
  },
  {
   "cell_type": "markdown",
   "id": "bdcc470f",
   "metadata": {},
   "source": [
    "Merubah nilai 'DKI5 (Kebon Jeruk) Jakarta Barat' dalam kolom 'stasiun' DataFrame combined_df dengan 'DKI5 (Kebon Jeruk)'. Hal ini dilakukan karena data diambil selama 5 tahun dan setiap tahun mungkin ada variasi atau perubahan dalam nama stasiun pengukuran, tetapi untuk tujuan analisis, memutuskan untuk menyamakan semuanya menjadi 'DKI5 (Kebon Jeruk)' untuk konsistensi dan simplifikasi. "
   ]
  },
  {
   "cell_type": "code",
   "execution_count": 22,
   "id": "58af68f8",
   "metadata": {},
   "outputs": [],
   "source": [
    "mapping_stasiun = {\n",
    "    'DKI5 (Kebon Jeruk) Jakarta Barat': 'DKI5 (Kebon Jeruk)',\n",
    "}\n",
    "\n",
    "combined_df['stasiun'] = combined_df['stasiun'].replace(mapping_stasiun)"
   ]
  },
  {
   "cell_type": "markdown",
   "id": "ca0b74cb",
   "metadata": {},
   "source": [
    "Mengambil DataFrame baru \"combined_df\" yang hanya berisi baris-baris yang memiliki nilai 'stasiun' dalam kelompok yang relevan, yaitu 'DKI1 (Bunderan HI)', 'DKI5 (Kebon Jeruk)', 'DKI3 (Jagakarsa)', 'DKI2 (Kelapa Gading)', dan 'DKI4 (Lubang Buaya)'. Baris-baris lain yang memiliki nilai 'stasiun' di luar kelompok ini dihilangkan."
   ]
  },
  {
   "cell_type": "code",
   "execution_count": 23,
   "id": "980baf4d",
   "metadata": {},
   "outputs": [],
   "source": [
    "combined_df = combined_df[combined_df['stasiun'].isin(['DKI1 (Bunderan HI)', \n",
    "                                                       'DKI5 (Kebon Jeruk)', \n",
    "                                                       'DKI3 (Jagakarsa)', \n",
    "                                                       'DKI2 (Kelapa Gading)', \n",
    "                                                       'DKI4 (Lubang Buaya)'])]"
   ]
  },
  {
   "cell_type": "markdown",
   "id": "6d3ee21c",
   "metadata": {},
   "source": [
    "Menampilkan daftar nilai unik dalam kolom 'stasiun' beserta jumlah kemunculannya masing-masing. "
   ]
  },
  {
   "cell_type": "code",
   "execution_count": 24,
   "id": "c323e60e",
   "metadata": {},
   "outputs": [
    {
     "data": {
      "text/plain": [
       "DKI1 (Bunderan HI)      1796\n",
       "DKI2 (Kelapa Gading)    1796\n",
       "DKI3 (Jagakarsa)        1796\n",
       "DKI4 (Lubang Buaya)     1796\n",
       "DKI5 (Kebon Jeruk)      1796\n",
       "Name: stasiun, dtype: int64"
      ]
     },
     "execution_count": 24,
     "metadata": {},
     "output_type": "execute_result"
    }
   ],
   "source": [
    "combined_df['stasiun'].value_counts()"
   ]
  },
  {
   "cell_type": "markdown",
   "id": "0192e8b2",
   "metadata": {},
   "source": [
    "Mengambil DataFrame baru combined_df yang hanya berisi baris-baris yang memiliki nilai 'categori' dalam kelompok yang relevan, yaitu 'SEDANG', 'TIDAK SEHAT', 'BAIK', dan 'SANGAT TIDAK SEHAT'. Baris-baris lain yang memiliki nilai 'categori' di luar kelompok ini dihilangkan."
   ]
  },
  {
   "cell_type": "code",
   "execution_count": 25,
   "id": "f6dceeed",
   "metadata": {},
   "outputs": [],
   "source": [
    "combined_df = combined_df[combined_df['categori'].isin(['SEDANG', \n",
    "                                                        'TIDAK SEHAT', \n",
    "                                                        'BAIK',\n",
    "                                                        'SANGAT TIDAK SEHAT'])]"
   ]
  },
  {
   "cell_type": "markdown",
   "id": "3cb63dd1",
   "metadata": {},
   "source": [
    "Menampilkan daftar nilai unik dalam kolom 'categori' beserta jumlah kemunculannya masing-masing. "
   ]
  },
  {
   "cell_type": "code",
   "execution_count": 26,
   "id": "a8164a4c",
   "metadata": {},
   "outputs": [
    {
     "data": {
      "text/plain": [
       "SEDANG                5637\n",
       "BAIK                  1722\n",
       "TIDAK SEHAT           1137\n",
       "SANGAT TIDAK SEHAT      33\n",
       "Name: categori, dtype: int64"
      ]
     },
     "execution_count": 26,
     "metadata": {},
     "output_type": "execute_result"
    }
   ],
   "source": [
    "combined_df['categori'].value_counts()"
   ]
  },
  {
   "cell_type": "markdown",
   "id": "fc043f44",
   "metadata": {},
   "source": [
    "Mengidentifikasi nilai-nilai yang hilang (NaN) / Missing Value dalam DataFrame combined_df, dan kemudian menggunakan sum() untuk menghitung jumlah nilai yang hilang untuk setiap kolom."
   ]
  },
  {
   "cell_type": "code",
   "execution_count": 27,
   "id": "e1e1ab8b",
   "metadata": {},
   "outputs": [
    {
     "data": {
      "text/plain": [
       "tanggal       0\n",
       "stasiun       0\n",
       "pm10        269\n",
       "so2         161\n",
       "co          202\n",
       "o3          218\n",
       "no2         269\n",
       "max           0\n",
       "critical      0\n",
       "categori      0\n",
       "dtype: int64"
      ]
     },
     "execution_count": 27,
     "metadata": {},
     "output_type": "execute_result"
    }
   ],
   "source": [
    "combined_df.isna().sum()"
   ]
  },
  {
   "cell_type": "markdown",
   "id": "88618757",
   "metadata": {},
   "source": [
    "Menampilkan informasi tentang nilai-nilai null (NaN) dalam setiap kolom, termasuk total nilai null, total data, dan persentase missing value."
   ]
  },
  {
   "cell_type": "code",
   "execution_count": 28,
   "id": "f90d50e3",
   "metadata": {},
   "outputs": [
    {
     "name": "stdout",
     "output_type": "stream",
     "text": [
      "Kolom : tanggal\n",
      "Total nilai null: 0\n",
      "Total data: 8529\n",
      "Persentase missing value: 0.00%\n",
      "\n",
      "Kolom : stasiun\n",
      "Total nilai null: 0\n",
      "Total data: 8529\n",
      "Persentase missing value: 0.00%\n",
      "\n",
      "Kolom : pm10\n",
      "Total nilai null: 269\n",
      "Total data: 8529\n",
      "Persentase missing value: 3.15%\n",
      "\n",
      "Kolom : so2\n",
      "Total nilai null: 161\n",
      "Total data: 8529\n",
      "Persentase missing value: 1.89%\n",
      "\n",
      "Kolom : co\n",
      "Total nilai null: 202\n",
      "Total data: 8529\n",
      "Persentase missing value: 2.37%\n",
      "\n",
      "Kolom : o3\n",
      "Total nilai null: 218\n",
      "Total data: 8529\n",
      "Persentase missing value: 2.56%\n",
      "\n",
      "Kolom : no2\n",
      "Total nilai null: 269\n",
      "Total data: 8529\n",
      "Persentase missing value: 3.15%\n",
      "\n",
      "Kolom : max\n",
      "Total nilai null: 0\n",
      "Total data: 8529\n",
      "Persentase missing value: 0.00%\n",
      "\n",
      "Kolom : critical\n",
      "Total nilai null: 0\n",
      "Total data: 8529\n",
      "Persentase missing value: 0.00%\n",
      "\n",
      "Kolom : categori\n",
      "Total nilai null: 0\n",
      "Total data: 8529\n",
      "Persentase missing value: 0.00%\n",
      "\n"
     ]
    }
   ],
   "source": [
    "for column in combined_df.columns:\n",
    "    total_null = combined_df[column].isnull().sum()\n",
    "    total_data = len(combined_df[column])\n",
    "    percent_missing = (total_null / total_data) * 100\n",
    "    \n",
    "    print(f\"Kolom : {column}\")\n",
    "    print(f\"Total nilai null: {total_null}\")\n",
    "    print(f\"Total data: {total_data}\")\n",
    "    print(f\"Persentase missing value: {percent_missing:.2f}%\")\n",
    "    print('')"
   ]
  },
  {
   "cell_type": "markdown",
   "id": "d318ac7b",
   "metadata": {},
   "source": [
    "Menampilkan baris-baris duplikat dalam DataFrame combined_df. Hasilnya adalah mencetak jumlah total data duplikat."
   ]
  },
  {
   "cell_type": "code",
   "execution_count": 29,
   "id": "80a24281",
   "metadata": {},
   "outputs": [
    {
     "name": "stdout",
     "output_type": "stream",
     "text": [
      "Jumlah total data duplikat: 0\n"
     ]
    }
   ],
   "source": [
    "duplicate_rows = combined_df[combined_df.duplicated()]\n",
    "\n",
    "print(\"Jumlah total data duplikat:\", len(duplicate_rows))"
   ]
  },
  {
   "cell_type": "markdown",
   "id": "055fe096",
   "metadata": {},
   "source": [
    "Pengisian nilai yang hilang (missing value) dengan menggunakan median pada kolom-kolom data numerik seperti 'pm10', 'so2', 'co', 'o3', 'no2', dan 'max' adalah suatu pilihan yang umumnya digunakan dalam penanganan missing value."
   ]
  },
  {
   "cell_type": "code",
   "execution_count": 30,
   "id": "8b6cf37b",
   "metadata": {},
   "outputs": [],
   "source": [
    "combined_df[\"pm10\"]=combined_df[\"pm10\"].fillna(combined_df[\"pm10\"].median())\n",
    "combined_df[\"so2\"]=combined_df[\"so2\"].fillna(combined_df[\"so2\"].median())\n",
    "combined_df[\"co\"]=combined_df[\"co\"].fillna(combined_df[\"co\"].median())\n",
    "combined_df[\"o3\"]=combined_df[\"o3\"].fillna(combined_df[\"o3\"].median())\n",
    "combined_df[\"no2\"]=combined_df[\"no2\"].fillna(combined_df[\"no2\"].median())\n",
    "combined_df[\"max\"]=combined_df[\"max\"].fillna(combined_df[\"max\"].median())"
   ]
  },
  {
   "cell_type": "markdown",
   "id": "90ad2e4a",
   "metadata": {},
   "source": [
    "Mengidentifikasi nilai-nilai yang hilang (NaN) / Missing Value dalam DataFrame combined_df, dan kemudian menggunakan sum() untuk menghitung jumlah nilai yang hilang untuk setiap kolom."
   ]
  },
  {
   "cell_type": "code",
   "execution_count": 31,
   "id": "b0ce6fab",
   "metadata": {},
   "outputs": [
    {
     "data": {
      "text/plain": [
       "tanggal     0\n",
       "stasiun     0\n",
       "pm10        0\n",
       "so2         0\n",
       "co          0\n",
       "o3          0\n",
       "no2         0\n",
       "max         0\n",
       "critical    0\n",
       "categori    0\n",
       "dtype: int64"
      ]
     },
     "execution_count": 31,
     "metadata": {},
     "output_type": "execute_result"
    }
   ],
   "source": [
    "combined_df.isna().sum()"
   ]
  },
  {
   "cell_type": "markdown",
   "id": "8f6939c3",
   "metadata": {},
   "source": [
    "Menampilkan jumlah baris dan kolom dalam DataFrame “combined_df” atau ukuran data."
   ]
  },
  {
   "cell_type": "code",
   "execution_count": 32,
   "id": "fd19d94a",
   "metadata": {},
   "outputs": [
    {
     "data": {
      "text/plain": [
       "(8529, 10)"
      ]
     },
     "execution_count": 32,
     "metadata": {},
     "output_type": "execute_result"
    }
   ],
   "source": [
    "combined_df.shape"
   ]
  },
  {
   "cell_type": "markdown",
   "id": "98640881",
   "metadata": {},
   "source": [
    "Menampilkan daftar nilai unik dalam kolom 'categori' beserta jumlah kemunculannya masing-masing. "
   ]
  },
  {
   "cell_type": "code",
   "execution_count": 33,
   "id": "1e15304c",
   "metadata": {},
   "outputs": [
    {
     "data": {
      "text/plain": [
       "SEDANG                5637\n",
       "BAIK                  1722\n",
       "TIDAK SEHAT           1137\n",
       "SANGAT TIDAK SEHAT      33\n",
       "Name: categori, dtype: int64"
      ]
     },
     "execution_count": 33,
     "metadata": {},
     "output_type": "execute_result"
    }
   ],
   "source": [
    "combined_df['categori'].value_counts()"
   ]
  },
  {
   "cell_type": "markdown",
   "id": "3a5d4c37",
   "metadata": {},
   "source": [
    "Menampilkan daftar nilai unik dalam kolom 'stasiun' beserta jumlah kemunculannya masing-masing. "
   ]
  },
  {
   "cell_type": "code",
   "execution_count": 34,
   "id": "f066ef2b",
   "metadata": {},
   "outputs": [
    {
     "data": {
      "text/plain": [
       "DKI2 (Kelapa Gading)    1723\n",
       "DKI5 (Kebon Jeruk)      1719\n",
       "DKI4 (Lubang Buaya)     1707\n",
       "DKI1 (Bunderan HI)      1696\n",
       "DKI3 (Jagakarsa)        1684\n",
       "Name: stasiun, dtype: int64"
      ]
     },
     "execution_count": 34,
     "metadata": {},
     "output_type": "execute_result"
    }
   ],
   "source": [
    "combined_df['stasiun'].value_counts()"
   ]
  },
  {
   "cell_type": "markdown",
   "id": "b05fa541",
   "metadata": {},
   "source": [
    "# Exploratory Data Analysis\n",
    "Exploratory Data Analysis (EDA) merupakan metode eksplorasi data dengan menggunakan teknik aritmatika sederhana dan teknik grafis dalam meringkas data pengamatan. Bagian ini berisi eksplorasi data pada dataset diatas dengan menggunakan\n",
    "query, grouping, visualisasi sederhana, dan lain sebagainya."
   ]
  },
  {
   "cell_type": "markdown",
   "id": "a67c1153",
   "metadata": {},
   "source": [
    "## Visualisasi data\n",
    "Ekstrak tahun dari kolom `tanggal`"
   ]
  },
  {
   "cell_type": "code",
   "execution_count": 35,
   "id": "8c55be3d",
   "metadata": {},
   "outputs": [],
   "source": [
    "combined_df['tahun'] = combined_df['tanggal'].dt.year"
   ]
  },
  {
   "cell_type": "markdown",
   "id": "8d80ddc6",
   "metadata": {},
   "source": [
    "### 1. Bagaimana distribusi kategori kualitas udara di Provinsi DKI Jakarta dari tahun 2016 hingga 2020?"
   ]
  },
  {
   "cell_type": "markdown",
   "id": "f946119e",
   "metadata": {},
   "source": [
    "Membuat DataFrame baru hanya dengan kategori \"BAIK\", \"SEDANG\", \"TIDAK SEHAT\" dan \"SANGAT TIDAK SEHAT\""
   ]
  },
  {
   "cell_type": "code",
   "execution_count": 36,
   "id": "5e912493",
   "metadata": {},
   "outputs": [],
   "source": [
    "df_categori = combined_df[combined_df['categori'].isin(['SEDANG','BAIK',\n",
    "                                                        'TIDAK SEHAT',\n",
    "                                                        'SANGAT TIDAK SEHAT'])]"
   ]
  },
  {
   "cell_type": "markdown",
   "id": "626f1651",
   "metadata": {},
   "source": [
    "Menampilkan 5 data teratas"
   ]
  },
  {
   "cell_type": "code",
   "execution_count": 37,
   "id": "6aa67b53",
   "metadata": {},
   "outputs": [
    {
     "data": {
      "text/html": [
       "<div>\n",
       "<style scoped>\n",
       "    .dataframe tbody tr th:only-of-type {\n",
       "        vertical-align: middle;\n",
       "    }\n",
       "\n",
       "    .dataframe tbody tr th {\n",
       "        vertical-align: top;\n",
       "    }\n",
       "\n",
       "    .dataframe thead th {\n",
       "        text-align: right;\n",
       "    }\n",
       "</style>\n",
       "<table border=\"1\" class=\"dataframe\">\n",
       "  <thead>\n",
       "    <tr style=\"text-align: right;\">\n",
       "      <th></th>\n",
       "      <th>tanggal</th>\n",
       "      <th>stasiun</th>\n",
       "      <th>pm10</th>\n",
       "      <th>so2</th>\n",
       "      <th>co</th>\n",
       "      <th>o3</th>\n",
       "      <th>no2</th>\n",
       "      <th>max</th>\n",
       "      <th>critical</th>\n",
       "      <th>categori</th>\n",
       "      <th>tahun</th>\n",
       "    </tr>\n",
       "  </thead>\n",
       "  <tbody>\n",
       "    <tr>\n",
       "      <th>0</th>\n",
       "      <td>2016-01-01</td>\n",
       "      <td>DKI1 (Bunderan HI)</td>\n",
       "      <td>59.0</td>\n",
       "      <td>19.0</td>\n",
       "      <td>27.0</td>\n",
       "      <td>31.0</td>\n",
       "      <td>1.0</td>\n",
       "      <td>59.0</td>\n",
       "      <td>PM10</td>\n",
       "      <td>SEDANG</td>\n",
       "      <td>2016</td>\n",
       "    </tr>\n",
       "    <tr>\n",
       "      <th>1</th>\n",
       "      <td>2016-01-02</td>\n",
       "      <td>DKI1 (Bunderan HI)</td>\n",
       "      <td>52.0</td>\n",
       "      <td>19.0</td>\n",
       "      <td>17.0</td>\n",
       "      <td>33.0</td>\n",
       "      <td>2.0</td>\n",
       "      <td>52.0</td>\n",
       "      <td>PM10</td>\n",
       "      <td>SEDANG</td>\n",
       "      <td>2016</td>\n",
       "    </tr>\n",
       "    <tr>\n",
       "      <th>2</th>\n",
       "      <td>2016-01-03</td>\n",
       "      <td>DKI1 (Bunderan HI)</td>\n",
       "      <td>44.0</td>\n",
       "      <td>19.0</td>\n",
       "      <td>17.0</td>\n",
       "      <td>36.0</td>\n",
       "      <td>2.0</td>\n",
       "      <td>44.0</td>\n",
       "      <td>PM10</td>\n",
       "      <td>BAIK</td>\n",
       "      <td>2016</td>\n",
       "    </tr>\n",
       "    <tr>\n",
       "      <th>3</th>\n",
       "      <td>2016-01-04</td>\n",
       "      <td>DKI1 (Bunderan HI)</td>\n",
       "      <td>58.0</td>\n",
       "      <td>21.0</td>\n",
       "      <td>17.0</td>\n",
       "      <td>46.0</td>\n",
       "      <td>5.0</td>\n",
       "      <td>58.0</td>\n",
       "      <td>PM10</td>\n",
       "      <td>SEDANG</td>\n",
       "      <td>2016</td>\n",
       "    </tr>\n",
       "    <tr>\n",
       "      <th>4</th>\n",
       "      <td>2016-01-05</td>\n",
       "      <td>DKI1 (Bunderan HI)</td>\n",
       "      <td>70.0</td>\n",
       "      <td>19.0</td>\n",
       "      <td>17.0</td>\n",
       "      <td>41.0</td>\n",
       "      <td>4.0</td>\n",
       "      <td>70.0</td>\n",
       "      <td>PM10</td>\n",
       "      <td>SEDANG</td>\n",
       "      <td>2016</td>\n",
       "    </tr>\n",
       "  </tbody>\n",
       "</table>\n",
       "</div>"
      ],
      "text/plain": [
       "     tanggal             stasiun  pm10   so2    co    o3  no2   max critical  \\\n",
       "0 2016-01-01  DKI1 (Bunderan HI)  59.0  19.0  27.0  31.0  1.0  59.0     PM10   \n",
       "1 2016-01-02  DKI1 (Bunderan HI)  52.0  19.0  17.0  33.0  2.0  52.0     PM10   \n",
       "2 2016-01-03  DKI1 (Bunderan HI)  44.0  19.0  17.0  36.0  2.0  44.0     PM10   \n",
       "3 2016-01-04  DKI1 (Bunderan HI)  58.0  21.0  17.0  46.0  5.0  58.0     PM10   \n",
       "4 2016-01-05  DKI1 (Bunderan HI)  70.0  19.0  17.0  41.0  4.0  70.0     PM10   \n",
       "\n",
       "  categori  tahun  \n",
       "0   SEDANG   2016  \n",
       "1   SEDANG   2016  \n",
       "2     BAIK   2016  \n",
       "3   SEDANG   2016  \n",
       "4   SEDANG   2016  "
      ]
     },
     "execution_count": 37,
     "metadata": {},
     "output_type": "execute_result"
    }
   ],
   "source": [
    "df_categori.head()"
   ]
  },
  {
   "cell_type": "markdown",
   "id": "265c2d47",
   "metadata": {},
   "source": [
    "Menghitung jumlah data untuk setiap tahun"
   ]
  },
  {
   "cell_type": "code",
   "execution_count": 38,
   "id": "dfa3cf73",
   "metadata": {},
   "outputs": [],
   "source": [
    "jumlah_per_tahun = df_categori.groupby(['tahun', 'categori']).size().unstack()"
   ]
  },
  {
   "cell_type": "markdown",
   "id": "ac2c40bf",
   "metadata": {},
   "source": [
    "Menampilkan hasil perhitungan pada variabel \"jumlah_per_tahun\""
   ]
  },
  {
   "cell_type": "code",
   "execution_count": 39,
   "id": "cbd53c9b",
   "metadata": {},
   "outputs": [
    {
     "data": {
      "text/html": [
       "<div>\n",
       "<style scoped>\n",
       "    .dataframe tbody tr th:only-of-type {\n",
       "        vertical-align: middle;\n",
       "    }\n",
       "\n",
       "    .dataframe tbody tr th {\n",
       "        vertical-align: top;\n",
       "    }\n",
       "\n",
       "    .dataframe thead th {\n",
       "        text-align: right;\n",
       "    }\n",
       "</style>\n",
       "<table border=\"1\" class=\"dataframe\">\n",
       "  <thead>\n",
       "    <tr style=\"text-align: right;\">\n",
       "      <th>categori</th>\n",
       "      <th>BAIK</th>\n",
       "      <th>SANGAT TIDAK SEHAT</th>\n",
       "      <th>SEDANG</th>\n",
       "      <th>TIDAK SEHAT</th>\n",
       "    </tr>\n",
       "    <tr>\n",
       "      <th>tahun</th>\n",
       "      <th></th>\n",
       "      <th></th>\n",
       "      <th></th>\n",
       "      <th></th>\n",
       "    </tr>\n",
       "  </thead>\n",
       "  <tbody>\n",
       "    <tr>\n",
       "      <th>2016</th>\n",
       "      <td>379.0</td>\n",
       "      <td>1.0</td>\n",
       "      <td>1258.0</td>\n",
       "      <td>155.0</td>\n",
       "    </tr>\n",
       "    <tr>\n",
       "      <th>2017</th>\n",
       "      <td>476.0</td>\n",
       "      <td>NaN</td>\n",
       "      <td>1121.0</td>\n",
       "      <td>198.0</td>\n",
       "    </tr>\n",
       "    <tr>\n",
       "      <th>2018</th>\n",
       "      <td>311.0</td>\n",
       "      <td>24.0</td>\n",
       "      <td>835.0</td>\n",
       "      <td>317.0</td>\n",
       "    </tr>\n",
       "    <tr>\n",
       "      <th>2019</th>\n",
       "      <td>207.0</td>\n",
       "      <td>8.0</td>\n",
       "      <td>1240.0</td>\n",
       "      <td>337.0</td>\n",
       "    </tr>\n",
       "    <tr>\n",
       "      <th>2020</th>\n",
       "      <td>349.0</td>\n",
       "      <td>NaN</td>\n",
       "      <td>1183.0</td>\n",
       "      <td>130.0</td>\n",
       "    </tr>\n",
       "  </tbody>\n",
       "</table>\n",
       "</div>"
      ],
      "text/plain": [
       "categori   BAIK  SANGAT TIDAK SEHAT  SEDANG  TIDAK SEHAT\n",
       "tahun                                                   \n",
       "2016      379.0                 1.0  1258.0        155.0\n",
       "2017      476.0                 NaN  1121.0        198.0\n",
       "2018      311.0                24.0   835.0        317.0\n",
       "2019      207.0                 8.0  1240.0        337.0\n",
       "2020      349.0                 NaN  1183.0        130.0"
      ]
     },
     "execution_count": 39,
     "metadata": {},
     "output_type": "execute_result"
    }
   ],
   "source": [
    "jumlah_per_tahun"
   ]
  },
  {
   "cell_type": "code",
   "execution_count": 40,
   "id": "897ea190",
   "metadata": {},
   "outputs": [
    {
     "data": {
      "text/plain": [
       "<Figure size 1600x800 with 0 Axes>"
      ]
     },
     "metadata": {},
     "output_type": "display_data"
    },
    {
     "data": {
      "image/png": "[encoded data removed]",
      "text/plain": [
       "<Figure size 640x480 with 1 Axes>"
      ]
     },
     "metadata": {},
     "output_type": "display_data"
    }
   ],
   "source": [
    "plt.figure(figsize=(16, 8))\n",
    "jumlah_per_tahun.plot(kind='bar', stacked=False)\n",
    "plt.title('Jumlah Kategori \"BAIK\", \"SANGAT TIDAK SEHAT\", \"SEDANG\" dan \"TIDAK SEHAT\" per Tahun')\n",
    "plt.xlabel('Tahun')\n",
    "plt.ylabel('Jumlah')\n",
    "plt.legend(title='Kategori')\n",
    "\n",
    "# Save the figure as PNG\n",
    "plt.savefig('output_figure.png')\n",
    "\n",
    "plt.show()"
   ]
  },
  {
   "cell_type": "markdown",
   "id": "3bb6acf8",
   "metadata": {},
   "source": [
    "### Kesimpulan Visualisasi Kategori Kualitas Udara\n",
    "\n",
    "\n",
    "Berdasarkan distribusi kategori kualitas udara di Provinsi DKI Jakarta dari tahun 2016 hingga 2020, dapat diambil beberapa kesimpulan:\n",
    "\n",
    "- Kategori \"BAIK\":\n",
    "\n",
    "Jumlah pengukuran kategori \"BAIK\" cenderung fluktuatif dari tahun ke tahun.\n",
    "Pada tahun 2018, terdapat peningkatan jumlah pengukuran kategori \"BAIK,\" tetapi kemudian mengalami penurunan pada tahun 2019.\n",
    "\n",
    "- Kategori \"SEDANG\":\n",
    "\n",
    "Jumlah pengukuran kategori \"SEDANG\" menunjukkan fluktuasi, dengan beberapa tahun mengalami peningkatan dan penurunan.\n",
    "Pada tahun 2018, terdapat peningkatan yang signifikan dibandingkan tahun sebelumnya.\n",
    "\n",
    "- Kategori \"TIDAK SEHAT\":\n",
    "\n",
    "Jumlah pengukuran kategori \"TIDAK SEHAT\" juga mengalami fluktuasi dari tahun ke tahun.\n",
    "Pada tahun 2018, terdapat peningkatan yang signifikan, kemudian mengalami penurunan pada tahun 2019.\n",
    "\n",
    "- Kategori \"SANGAT TIDAK SEHAT\":\n",
    "\n",
    "Jumlah pengukuran kategori \"SANGAT TIDAK SEHAT\" cenderung rendah dan terjadi pada tahun-tahun tertentu.\n",
    "\n",
    "- Umum:\n",
    "\n",
    "Secara umum, distribusi kategori kualitas udara di Provinsi DKI Jakarta menunjukkan fluktuasi yang dapat disebabkan oleh berbagai faktor, seperti cuaca, aktivitas manusia, dan kebijakan lingkungan.\n",
    "Perlu dilakukan analisis lebih lanjut untuk memahami faktor-faktor yang mungkin mempengaruhi perubahan dalam distribusi kategori kualitas udara."
   ]
  },
  {
   "cell_type": "markdown",
   "id": "999f27a3",
   "metadata": {},
   "source": [
    "### 2.Bagaimana perbandingan jumlah kategori \"BAIK\", \"SEDANG\", \"TIDAK SEHAT\" dan \"SANGAT TIDAK SEHAT\" di antara stasiun pemantau kualitas udara di Provinsi DKI Jakarta?"
   ]
  },
  {
   "cell_type": "markdown",
   "id": "bd901692",
   "metadata": {},
   "source": [
    "Mengelompokkan data berdasarkan stasiun dan kategori, kemudian menghitung jumlah"
   ]
  },
  {
   "cell_type": "code",
   "execution_count": 41,
   "id": "b7f6d3cf",
   "metadata": {},
   "outputs": [],
   "source": [
    "grouped_data = combined_df.groupby(['stasiun', 'categori']).size().reset_index(name='jumlah')"
   ]
  },
  {
   "cell_type": "code",
   "execution_count": 42,
   "id": "3a77194b",
   "metadata": {},
   "outputs": [
    {
     "data": {
      "text/html": [
       "<div>\n",
       "<style scoped>\n",
       "    .dataframe tbody tr th:only-of-type {\n",
       "        vertical-align: middle;\n",
       "    }\n",
       "\n",
       "    .dataframe tbody tr th {\n",
       "        vertical-align: top;\n",
       "    }\n",
       "\n",
       "    .dataframe thead th {\n",
       "        text-align: right;\n",
       "    }\n",
       "</style>\n",
       "<table border=\"1\" class=\"dataframe\">\n",
       "  <thead>\n",
       "    <tr style=\"text-align: right;\">\n",
       "      <th></th>\n",
       "      <th>stasiun</th>\n",
       "      <th>categori</th>\n",
       "      <th>jumlah</th>\n",
       "    </tr>\n",
       "  </thead>\n",
       "  <tbody>\n",
       "    <tr>\n",
       "      <th>0</th>\n",
       "      <td>DKI1 (Bunderan HI)</td>\n",
       "      <td>BAIK</td>\n",
       "      <td>542</td>\n",
       "    </tr>\n",
       "    <tr>\n",
       "      <th>1</th>\n",
       "      <td>DKI1 (Bunderan HI)</td>\n",
       "      <td>SEDANG</td>\n",
       "      <td>1100</td>\n",
       "    </tr>\n",
       "    <tr>\n",
       "      <th>2</th>\n",
       "      <td>DKI1 (Bunderan HI)</td>\n",
       "      <td>TIDAK SEHAT</td>\n",
       "      <td>54</td>\n",
       "    </tr>\n",
       "    <tr>\n",
       "      <th>3</th>\n",
       "      <td>DKI2 (Kelapa Gading)</td>\n",
       "      <td>BAIK</td>\n",
       "      <td>329</td>\n",
       "    </tr>\n",
       "    <tr>\n",
       "      <th>4</th>\n",
       "      <td>DKI2 (Kelapa Gading)</td>\n",
       "      <td>SANGAT TIDAK SEHAT</td>\n",
       "      <td>11</td>\n",
       "    </tr>\n",
       "    <tr>\n",
       "      <th>5</th>\n",
       "      <td>DKI2 (Kelapa Gading)</td>\n",
       "      <td>SEDANG</td>\n",
       "      <td>1122</td>\n",
       "    </tr>\n",
       "    <tr>\n",
       "      <th>6</th>\n",
       "      <td>DKI2 (Kelapa Gading)</td>\n",
       "      <td>TIDAK SEHAT</td>\n",
       "      <td>261</td>\n",
       "    </tr>\n",
       "    <tr>\n",
       "      <th>7</th>\n",
       "      <td>DKI3 (Jagakarsa)</td>\n",
       "      <td>BAIK</td>\n",
       "      <td>248</td>\n",
       "    </tr>\n",
       "    <tr>\n",
       "      <th>8</th>\n",
       "      <td>DKI3 (Jagakarsa)</td>\n",
       "      <td>SEDANG</td>\n",
       "      <td>1128</td>\n",
       "    </tr>\n",
       "    <tr>\n",
       "      <th>9</th>\n",
       "      <td>DKI3 (Jagakarsa)</td>\n",
       "      <td>TIDAK SEHAT</td>\n",
       "      <td>308</td>\n",
       "    </tr>\n",
       "    <tr>\n",
       "      <th>10</th>\n",
       "      <td>DKI4 (Lubang Buaya)</td>\n",
       "      <td>BAIK</td>\n",
       "      <td>301</td>\n",
       "    </tr>\n",
       "    <tr>\n",
       "      <th>11</th>\n",
       "      <td>DKI4 (Lubang Buaya)</td>\n",
       "      <td>SEDANG</td>\n",
       "      <td>1292</td>\n",
       "    </tr>\n",
       "    <tr>\n",
       "      <th>12</th>\n",
       "      <td>DKI4 (Lubang Buaya)</td>\n",
       "      <td>TIDAK SEHAT</td>\n",
       "      <td>114</td>\n",
       "    </tr>\n",
       "    <tr>\n",
       "      <th>13</th>\n",
       "      <td>DKI5 (Kebon Jeruk)</td>\n",
       "      <td>BAIK</td>\n",
       "      <td>302</td>\n",
       "    </tr>\n",
       "    <tr>\n",
       "      <th>14</th>\n",
       "      <td>DKI5 (Kebon Jeruk)</td>\n",
       "      <td>SANGAT TIDAK SEHAT</td>\n",
       "      <td>22</td>\n",
       "    </tr>\n",
       "    <tr>\n",
       "      <th>15</th>\n",
       "      <td>DKI5 (Kebon Jeruk)</td>\n",
       "      <td>SEDANG</td>\n",
       "      <td>995</td>\n",
       "    </tr>\n",
       "    <tr>\n",
       "      <th>16</th>\n",
       "      <td>DKI5 (Kebon Jeruk)</td>\n",
       "      <td>TIDAK SEHAT</td>\n",
       "      <td>400</td>\n",
       "    </tr>\n",
       "  </tbody>\n",
       "</table>\n",
       "</div>"
      ],
      "text/plain": [
       "                 stasiun            categori  jumlah\n",
       "0     DKI1 (Bunderan HI)                BAIK     542\n",
       "1     DKI1 (Bunderan HI)              SEDANG    1100\n",
       "2     DKI1 (Bunderan HI)         TIDAK SEHAT      54\n",
       "3   DKI2 (Kelapa Gading)                BAIK     329\n",
       "4   DKI2 (Kelapa Gading)  SANGAT TIDAK SEHAT      11\n",
       "5   DKI2 (Kelapa Gading)              SEDANG    1122\n",
       "6   DKI2 (Kelapa Gading)         TIDAK SEHAT     261\n",
       "7       DKI3 (Jagakarsa)                BAIK     248\n",
       "8       DKI3 (Jagakarsa)              SEDANG    1128\n",
       "9       DKI3 (Jagakarsa)         TIDAK SEHAT     308\n",
       "10   DKI4 (Lubang Buaya)                BAIK     301\n",
       "11   DKI4 (Lubang Buaya)              SEDANG    1292\n",
       "12   DKI4 (Lubang Buaya)         TIDAK SEHAT     114\n",
       "13    DKI5 (Kebon Jeruk)                BAIK     302\n",
       "14    DKI5 (Kebon Jeruk)  SANGAT TIDAK SEHAT      22\n",
       "15    DKI5 (Kebon Jeruk)              SEDANG     995\n",
       "16    DKI5 (Kebon Jeruk)         TIDAK SEHAT     400"
      ]
     },
     "execution_count": 42,
     "metadata": {},
     "output_type": "execute_result"
    }
   ],
   "source": [
    "grouped_data"
   ]
  },
  {
   "cell_type": "code",
   "execution_count": 43,
   "id": "d7f09311",
   "metadata": {},
   "outputs": [
    {
     "data": {
      "image/png": "[encoded data removed]",
      "text/plain": [
       "<Figure size 1200x800 with 1 Axes>"
      ]
     },
     "metadata": {},
     "output_type": "display_data"
    }
   ],
   "source": [
    "plt.figure(figsize=(12, 8))\n",
    "sns.barplot(x='stasiun', y='jumlah', hue='categori', data=grouped_data)\n",
    "plt.title('Perbandingan Kategori Kualitas Udara antar Stasiun Pemantau di DKI Jakarta')\n",
    "plt.xlabel('Stasiun Pemantau')\n",
    "plt.ylabel('Jumlah')\n",
    "plt.legend(title='Kategori')\n",
    "plt.xticks(rotation=45, ha='right')\n",
    "plt.show()"
   ]
  },
  {
   "cell_type": "markdown",
   "id": "8749e0a8",
   "metadata": {},
   "source": [
    "### Kesimpulan Visualisasi Kualitas Udara Pada Setiap Stasiun\n",
    "\n",
    "Berdasarkan data visualisasi kualitas udara di beberapa stasiun pemantau di Provinsi DKI Jakarta, berikut adalah kesimpulan:\n",
    "\n",
    "1. DKI1 (Bunderan HI):\n",
    "\n",
    "- Kategori \"SEDANG\" memiliki jumlah pengukuran tertinggi di DKI1 (Bunderan HI).\n",
    "- Kategori \"TIDAK SEHAT\" memiliki jumlah yang rendah dibandingkan \"SEDANG\" dan \"BAIK.\"\n",
    "\n",
    "2. DKI2 (Kelapa Gading):\n",
    "\n",
    "- DKI2 (Kelapa Gading) menunjukkan jumlah pengukuran tertinggi pada kategori \"SEDANG.\"\n",
    "- Terdapat pengukuran dalam kategori \"SANGAT TIDAK SEHAT\" yang relatif rendah.\n",
    "\n",
    "3. DKI3 (Jagakarsa):\n",
    "\n",
    "- Kategori \"SEDANG\" juga mendominasi di DKI3 (Jagakarsa).\n",
    "- Jumlah pengukuran dalam kategori \"TIDAK SEHAT\" cukup tinggi.\n",
    "\n",
    "4. DKI4 (Lubang Buaya):\n",
    "\n",
    "- DKI4 (Lubang Buaya) memiliki jumlah pengukuran tertinggi dalam kategori \"SEDANG.\"\n",
    "- Kategori \"TIDAK SEHAT\" juga memiliki jumlah yang signifikan.\n",
    "\n",
    "5. DKI5 (Kebon Jeruk):\n",
    "\n",
    "- Kategori \"SEDANG\" mendominasi di DKI5 (Kebon Jeruk).\n",
    "- Ada pengukuran dalam kategori \"SANGAT TIDAK SEHAT\" yang cukup signifikan.\n",
    "- Kategori \"TIDAK SEHAT\" memiliki jumlah yang tinggi.\n",
    "\n",
    "**Kesimpulan Umum:**\n",
    "\n",
    "- Mayoritas stasiun pemantau memiliki jumlah pengukuran tertinggi dalam kategori \"SEDANG,\" menunjukkan bahwa kualitas udara cenderung berada dalam tingkat sedang di berbagai stasiun.\n",
    "- Beberapa stasiun, terutama DKI5 (Kebon Jeruk), menunjukkan tingkat pencemaran udara yang signifikan dengan pengukuran dalam kategori \"SANGAT TIDAK SEHAT\" dan \"TIDAK SEHAT.\"\n",
    "- Perlu dilakukan analisis lebih lanjut untuk memahami faktor-faktor yang mempengaruhi distribusi kategori kualitas udara di setiap stasiun."
   ]
  },
  {
   "cell_type": "markdown",
   "id": "cbaebaae",
   "metadata": {},
   "source": [
    "### 3.Bagaimana persentase kontribusi masing-masing kategori \"BAIK\", \"SEDANG\", \"TIDAK SEHAT\" dan \"SANGAT TIDAK SEHAT\" terhadap total pengukuran kualitas udara?"
   ]
  },
  {
   "cell_type": "markdown",
   "id": "bf2bb2ef",
   "metadata": {},
   "source": [
    "Menghitung daftar nilai unik dalam kolom 'categori' beserta jumlah kemunculannya masing-masing. "
   ]
  },
  {
   "cell_type": "code",
   "execution_count": 44,
   "id": "3837b909",
   "metadata": {},
   "outputs": [],
   "source": [
    "kategori_counts = combined_df['categori'].value_counts()"
   ]
  },
  {
   "cell_type": "markdown",
   "id": "8cf8998a",
   "metadata": {},
   "source": [
    "Menampilkan daftar nilai unik dalam kolom 'categori' beserta jumlah kemunculannya masing-masing. "
   ]
  },
  {
   "cell_type": "code",
   "execution_count": 45,
   "id": "2d13306b",
   "metadata": {},
   "outputs": [
    {
     "data": {
      "text/plain": [
       "SEDANG                5637\n",
       "BAIK                  1722\n",
       "TIDAK SEHAT           1137\n",
       "SANGAT TIDAK SEHAT      33\n",
       "Name: categori, dtype: int64"
      ]
     },
     "execution_count": 45,
     "metadata": {},
     "output_type": "execute_result"
    }
   ],
   "source": [
    "kategori_counts"
   ]
  },
  {
   "cell_type": "code",
   "execution_count": 46,
   "id": "cb96faf6",
   "metadata": {},
   "outputs": [
    {
     "data": {
      "image/png": "[encoded data removed]",
      "text/plain": [
       "<Figure size 800x800 with 1 Axes>"
      ]
     },
     "metadata": {},
     "output_type": "display_data"
    }
   ],
   "source": [
    "plt.figure(figsize=(8, 8))\n",
    "plt.pie(kategori_counts, labels=kategori_counts.index, autopct='%1.1f%%', startangle=90, colors=['skyblue', \n",
    "                                                                                                 'lightgreen', \n",
    "                                                                                                 'lightcoral', \n",
    "                                                                                                 'lightyellow', \n",
    "                                                                                                 'lightpink'])\n",
    "plt.title('Distribusi Kategori Kualitas Udara di Provinsi DKI Jakarta (2016-2020)')\n",
    "plt.show()"
   ]
  },
  {
   "cell_type": "markdown",
   "id": "519ecabe",
   "metadata": {},
   "source": [
    "### Kesimpulan dari piechart diatas\n",
    "\n",
    "Berdasarkan visualisasi pie chart, berikut adalah kesimpulan:\n",
    "\n",
    "1. Kategori \"SEDANG\":\n",
    "\n",
    "- Menyumbang persentase terbesar dari total kategori kualitas udara (66.1%).\n",
    "- Mayoritas pengukuran kualitas udara berada pada tingkat \"SEDANG,\" menunjukkan bahwa kualitas udara cenderung moderat di berbagai waktu dan lokasi.\n",
    "\n",
    "2. Kategori \"BAIK\":\n",
    "\n",
    "- Menyumbang persentase sekitar 20.2% dari total kategori kualitas udara.\n",
    "- Meskipun tidak mendominasi, kategori \"BAIK\" memberikan kontribusi yang signifikan, menunjukkan bahwa kualitas udara pada tingkat baik juga sering terjadi.\n",
    "\n",
    "3. Kategori \"TIDAK SEHAT\":\n",
    "\n",
    "- Menyumbang persentase sekitar 13.3% dari total kategori kualitas udara.\n",
    "- Meskipun lebih rendah dibanding \"SEDANG\" dan \"BAIK,\" kategori \"TIDAK SEHAT\" masih memiliki andil yang penting, menunjukkan adanya periode atau lokasi dengan kualitas udara yang tidak memadai.\n",
    "\n",
    "4. Kategori \"SANGAT TIDAK SEHAT\":\n",
    "\n",
    "- Menyumbang persentase yang sangat kecil, hanya sekitar 0.4% dari total.\n",
    "- Meskipun jarang terjadi, adanya kategori \"SANGAT TIDAK SEHAT\" menunjukkan bahwa terdapat beberapa kasus dengan tingkat pencemaran udara yang sangat tinggi.\n",
    "\n",
    "**Kesimpulan Umum:**\n",
    "\n",
    "- Sebagian besar pengukuran menunjukkan kualitas udara dalam kategori \"SEDANG,\" yang dapat diartikan sebagai tingkat pencemaran udara yang moderat.\n",
    "- Kategori \"BAIK\" dan \"TIDAK SEHAT\" juga memberikan kontribusi yang signifikan, menunjukkan variasi kualitas udara dari baik hingga tidak sehat.\n",
    "- Kategori \"SANGAT TIDAK SEHAT\" memiliki kontribusi yang sangat kecil, menunjukkan bahwa tingkat pencemaran udara yang sangat tinggi jarang terjadi."
   ]
  },
  {
   "cell_type": "markdown",
   "id": "e6523a77",
   "metadata": {},
   "source": [
    "### 4.Bagaimana persentase masing-masing kategori \"BAIK\", \"SEDANG\", \"TIDAK SEHAT\" dan \"SANGAT TIDAK SEHAT\" terhadap setiap stasiun?"
   ]
  },
  {
   "cell_type": "markdown",
   "id": "b2d562a8",
   "metadata": {},
   "source": [
    "Menghitung persentase masing-masing kategori pada setiap stasiun"
   ]
  },
  {
   "cell_type": "code",
   "execution_count": 47,
   "id": "6ea02894",
   "metadata": {},
   "outputs": [],
   "source": [
    "percentage_data = combined_df.groupby(['stasiun',\n",
    "                                       'categori']).size().unstack().div(combined_df.groupby('stasiun').size(), axis=0) * 100"
   ]
  },
  {
   "cell_type": "markdown",
   "id": "98ee76f2",
   "metadata": {},
   "source": [
    "Menampilkan data yang sudah dihitung "
   ]
  },
  {
   "cell_type": "code",
   "execution_count": 48,
   "id": "067b6785",
   "metadata": {},
   "outputs": [
    {
     "data": {
      "text/html": [
       "<div>\n",
       "<style scoped>\n",
       "    .dataframe tbody tr th:only-of-type {\n",
       "        vertical-align: middle;\n",
       "    }\n",
       "\n",
       "    .dataframe tbody tr th {\n",
       "        vertical-align: top;\n",
       "    }\n",
       "\n",
       "    .dataframe thead th {\n",
       "        text-align: right;\n",
       "    }\n",
       "</style>\n",
       "<table border=\"1\" class=\"dataframe\">\n",
       "  <thead>\n",
       "    <tr style=\"text-align: right;\">\n",
       "      <th>categori</th>\n",
       "      <th>BAIK</th>\n",
       "      <th>SANGAT TIDAK SEHAT</th>\n",
       "      <th>SEDANG</th>\n",
       "      <th>TIDAK SEHAT</th>\n",
       "    </tr>\n",
       "    <tr>\n",
       "      <th>stasiun</th>\n",
       "      <th></th>\n",
       "      <th></th>\n",
       "      <th></th>\n",
       "      <th></th>\n",
       "    </tr>\n",
       "  </thead>\n",
       "  <tbody>\n",
       "    <tr>\n",
       "      <th>DKI1 (Bunderan HI)</th>\n",
       "      <td>31.957547</td>\n",
       "      <td>NaN</td>\n",
       "      <td>64.858491</td>\n",
       "      <td>3.183962</td>\n",
       "    </tr>\n",
       "    <tr>\n",
       "      <th>DKI2 (Kelapa Gading)</th>\n",
       "      <td>19.094602</td>\n",
       "      <td>0.638421</td>\n",
       "      <td>65.118979</td>\n",
       "      <td>15.147998</td>\n",
       "    </tr>\n",
       "    <tr>\n",
       "      <th>DKI3 (Jagakarsa)</th>\n",
       "      <td>14.726841</td>\n",
       "      <td>NaN</td>\n",
       "      <td>66.983373</td>\n",
       "      <td>18.289786</td>\n",
       "    </tr>\n",
       "    <tr>\n",
       "      <th>DKI4 (Lubang Buaya)</th>\n",
       "      <td>17.633275</td>\n",
       "      <td>NaN</td>\n",
       "      <td>75.688342</td>\n",
       "      <td>6.678383</td>\n",
       "    </tr>\n",
       "    <tr>\n",
       "      <th>DKI5 (Kebon Jeruk)</th>\n",
       "      <td>17.568354</td>\n",
       "      <td>1.279814</td>\n",
       "      <td>57.882490</td>\n",
       "      <td>23.269343</td>\n",
       "    </tr>\n",
       "  </tbody>\n",
       "</table>\n",
       "</div>"
      ],
      "text/plain": [
       "categori                   BAIK  SANGAT TIDAK SEHAT     SEDANG  TIDAK SEHAT\n",
       "stasiun                                                                    \n",
       "DKI1 (Bunderan HI)    31.957547                 NaN  64.858491     3.183962\n",
       "DKI2 (Kelapa Gading)  19.094602            0.638421  65.118979    15.147998\n",
       "DKI3 (Jagakarsa)      14.726841                 NaN  66.983373    18.289786\n",
       "DKI4 (Lubang Buaya)   17.633275                 NaN  75.688342     6.678383\n",
       "DKI5 (Kebon Jeruk)    17.568354            1.279814  57.882490    23.269343"
      ]
     },
     "execution_count": 48,
     "metadata": {},
     "output_type": "execute_result"
    }
   ],
   "source": [
    "percentage_data"
   ]
  },
  {
   "cell_type": "code",
   "execution_count": 49,
   "id": "0ed6fa5e",
   "metadata": {},
   "outputs": [
    {
     "data": {
      "image/png": "[encoded data removed]",
      "text/plain": [
       "<Figure size 1200x800 with 2 Axes>"
      ]
     },
     "metadata": {},
     "output_type": "display_data"
    }
   ],
   "source": [
    "plt.figure(figsize=(12, 8))\n",
    "sns.heatmap(percentage_data, annot=True, cmap='YlGnBu', fmt=\".2f\", linewidths=.5)\n",
    "plt.title('Persentase Distribusi Kategori Kualitas Udara per Stasiun')\n",
    "plt.xlabel('Kategori Kualitas Udara')\n",
    "plt.ylabel('Stasiun')\n",
    "plt.show()"
   ]
  },
  {
   "cell_type": "markdown",
   "id": "4519b405",
   "metadata": {},
   "source": [
    "### Kesimpulan dari visualisasi diatas\n",
    "\n",
    "Berdasarkan visualisasi heatmap untuk persentase distribusi kategori kualitas udara di setiap stasiun, dapat diambil beberapa kesimpulan:\n",
    "\n",
    "1. DKI1 (Bunderan HI):\n",
    "\n",
    "   - Kategori \"BAIK\" mencakup sekitar 32% dari pengukuran.\n",
    "   - Kategori \"SEDANG\" mendominasi dengan sekitar 65% dari pengukuran.\n",
    "   - Kategori \"TIDAK SEHAT\" mencapai sekitar 3%.\n",
    "\n",
    "2. DKI2 (Kelapa Gading):\n",
    "\n",
    "   - Kategori \"BAIK\" sekitar 19%.\n",
    "   - Kategori \"SEDANG\" merupakan mayoritas dengan sekitar 65% dari pengukuran.\n",
    "   - Kategori \"TIDAK SEHAT\" dan \"SANGAT TIDAK SEHAT\" masing-masing mencakup sekitar 15% dan 0.64%.\n",
    "\n",
    "3. DKI3 (Jagakarsa):\n",
    "\n",
    "   - Kategori \"BAIK\" sekitar 15%.\n",
    "   - Kategori \"SEDANG\" mendominasi dengan sekitar 67% dari pengukuran.\n",
    "   - Kategori \"TIDAK SEHAT\" mencapai sekitar 18%.\n",
    "\n",
    "4. DKI4 (Lubang Buaya):\n",
    "\n",
    "   - Kategori \"BAIK\" mencakup sekitar 18% dari pengukuran.\n",
    "   - Kategori \"SEDANG\" merupakan mayoritas dengan sekitar 76% dari pengukuran.\n",
    "   - Kategori \"TIDAK SEHAT\" mencapai sekitar 7%.\n",
    "\n",
    "5. DKI5 (Kebon Jeruk):\n",
    "   - Kategori \"BAIK\" sekitar 18%.\n",
    "   - Kategori \"SEDANG\" merupakan mayoritas dengan sekitar 58% dari pengukuran.\n",
    "   - Kategori \"TIDAK SEHAT\" mencapai sekitar 23%.\n",
    "\n",
    "Kesimpulannya, distribusi kategori kualitas udara bervariasi di setiap stasiun, dengan dominasi kategori \"SEDANG\" pada umumnya. Stasiun DKI3 (Jagakarsa) memiliki proporsi tertinggi kategori \"SEDANG,\" sedangkan DKI4 (Lubang Buaya) memiliki proporsi tertinggi kategori \"TIDAK SEHAT.\" Dengan informasi ini, dapat diidentifikasi stasiun-stasiun yang cenderung memiliki tingkat pencemaran udara yang lebih tinggi.\n"
   ]
  },
  {
   "cell_type": "markdown",
   "id": "f56d604f",
   "metadata": {},
   "source": [
    "### 5.Stasiun mana yang memiliki kualitas udara \"TIDAK SEHAT\" ?"
   ]
  },
  {
   "cell_type": "markdown",
   "id": "4cf392c7",
   "metadata": {},
   "source": [
    "Membuat DataFrame baru (dfts) yang berisi jumlah data dengan kategori 'TIDAK SEHAT' yang dikelompokkan berdasarkan kolom 'stasiun'. "
   ]
  },
  {
   "cell_type": "code",
   "execution_count": 50,
   "id": "d68adec4",
   "metadata": {},
   "outputs": [],
   "source": [
    "dfts = combined_df[combined_df['categori'] == 'TIDAK SEHAT'].groupby('stasiun').size().reset_index(name='jumlah')"
   ]
  },
  {
   "cell_type": "code",
   "execution_count": 51,
   "id": "3cf33675",
   "metadata": {},
   "outputs": [
    {
     "data": {
      "text/html": [
       "<div>\n",
       "<style scoped>\n",
       "    .dataframe tbody tr th:only-of-type {\n",
       "        vertical-align: middle;\n",
       "    }\n",
       "\n",
       "    .dataframe tbody tr th {\n",
       "        vertical-align: top;\n",
       "    }\n",
       "\n",
       "    .dataframe thead th {\n",
       "        text-align: right;\n",
       "    }\n",
       "</style>\n",
       "<table border=\"1\" class=\"dataframe\">\n",
       "  <thead>\n",
       "    <tr style=\"text-align: right;\">\n",
       "      <th></th>\n",
       "      <th>stasiun</th>\n",
       "      <th>jumlah</th>\n",
       "    </tr>\n",
       "  </thead>\n",
       "  <tbody>\n",
       "    <tr>\n",
       "      <th>0</th>\n",
       "      <td>DKI1 (Bunderan HI)</td>\n",
       "      <td>54</td>\n",
       "    </tr>\n",
       "    <tr>\n",
       "      <th>1</th>\n",
       "      <td>DKI2 (Kelapa Gading)</td>\n",
       "      <td>261</td>\n",
       "    </tr>\n",
       "    <tr>\n",
       "      <th>2</th>\n",
       "      <td>DKI3 (Jagakarsa)</td>\n",
       "      <td>308</td>\n",
       "    </tr>\n",
       "    <tr>\n",
       "      <th>3</th>\n",
       "      <td>DKI4 (Lubang Buaya)</td>\n",
       "      <td>114</td>\n",
       "    </tr>\n",
       "    <tr>\n",
       "      <th>4</th>\n",
       "      <td>DKI5 (Kebon Jeruk)</td>\n",
       "      <td>400</td>\n",
       "    </tr>\n",
       "  </tbody>\n",
       "</table>\n",
       "</div>"
      ],
      "text/plain": [
       "                stasiun  jumlah\n",
       "0    DKI1 (Bunderan HI)      54\n",
       "1  DKI2 (Kelapa Gading)     261\n",
       "2      DKI3 (Jagakarsa)     308\n",
       "3   DKI4 (Lubang Buaya)     114\n",
       "4    DKI5 (Kebon Jeruk)     400"
      ]
     },
     "execution_count": 51,
     "metadata": {},
     "output_type": "execute_result"
    }
   ],
   "source": [
    "dfts"
   ]
  },
  {
   "cell_type": "markdown",
   "id": "a14cac19",
   "metadata": {},
   "source": [
    "Sorting stasiun berdasarkan jumlah \"TIDAK SEHAT\" secara descending"
   ]
  },
  {
   "cell_type": "code",
   "execution_count": 52,
   "id": "b489c26b",
   "metadata": {},
   "outputs": [],
   "source": [
    "dfts = dfts.sort_values(by='jumlah', ascending=False)"
   ]
  },
  {
   "cell_type": "code",
   "execution_count": 53,
   "id": "22bf57a3",
   "metadata": {},
   "outputs": [
    {
     "data": {
      "text/html": [
       "<div>\n",
       "<style scoped>\n",
       "    .dataframe tbody tr th:only-of-type {\n",
       "        vertical-align: middle;\n",
       "    }\n",
       "\n",
       "    .dataframe tbody tr th {\n",
       "        vertical-align: top;\n",
       "    }\n",
       "\n",
       "    .dataframe thead th {\n",
       "        text-align: right;\n",
       "    }\n",
       "</style>\n",
       "<table border=\"1\" class=\"dataframe\">\n",
       "  <thead>\n",
       "    <tr style=\"text-align: right;\">\n",
       "      <th></th>\n",
       "      <th>stasiun</th>\n",
       "      <th>jumlah</th>\n",
       "    </tr>\n",
       "  </thead>\n",
       "  <tbody>\n",
       "    <tr>\n",
       "      <th>4</th>\n",
       "      <td>DKI5 (Kebon Jeruk)</td>\n",
       "      <td>400</td>\n",
       "    </tr>\n",
       "    <tr>\n",
       "      <th>2</th>\n",
       "      <td>DKI3 (Jagakarsa)</td>\n",
       "      <td>308</td>\n",
       "    </tr>\n",
       "    <tr>\n",
       "      <th>1</th>\n",
       "      <td>DKI2 (Kelapa Gading)</td>\n",
       "      <td>261</td>\n",
       "    </tr>\n",
       "    <tr>\n",
       "      <th>3</th>\n",
       "      <td>DKI4 (Lubang Buaya)</td>\n",
       "      <td>114</td>\n",
       "    </tr>\n",
       "    <tr>\n",
       "      <th>0</th>\n",
       "      <td>DKI1 (Bunderan HI)</td>\n",
       "      <td>54</td>\n",
       "    </tr>\n",
       "  </tbody>\n",
       "</table>\n",
       "</div>"
      ],
      "text/plain": [
       "                stasiun  jumlah\n",
       "4    DKI5 (Kebon Jeruk)     400\n",
       "2      DKI3 (Jagakarsa)     308\n",
       "1  DKI2 (Kelapa Gading)     261\n",
       "3   DKI4 (Lubang Buaya)     114\n",
       "0    DKI1 (Bunderan HI)      54"
      ]
     },
     "execution_count": 53,
     "metadata": {},
     "output_type": "execute_result"
    }
   ],
   "source": [
    "dfts"
   ]
  },
  {
   "cell_type": "code",
   "execution_count": 54,
   "id": "581cd3c2",
   "metadata": {},
   "outputs": [
    {
     "data": {
      "image/png": "[encoded data removed]",
      "text/plain": [
       "<Figure size 1200x800 with 1 Axes>"
      ]
     },
     "metadata": {},
     "output_type": "display_data"
    }
   ],
   "source": [
    "plt.figure(figsize=(12, 8))\n",
    "sns.barplot(x='stasiun', y='jumlah', data=dfts, palette='viridis')\n",
    "plt.title('Stasiun dengan Kualitas Udara Paling Buruk (Jumlah \"TIDAK SEHAT\")')\n",
    "plt.xlabel('Jumlah \"TIDAK SEHAT\"')\n",
    "plt.ylabel('Stasiun')\n",
    "plt.show()"
   ]
  },
  {
   "cell_type": "code",
   "execution_count": 55,
   "id": "eaa28cd5",
   "metadata": {},
   "outputs": [
    {
     "data": {
      "text/html": [
       "<div style=\"width:100%;\"><div style=\"position:relative;width:100%;height:0;padding-bottom:60%;\"><span style=\"color:#565656\">Make this Notebook Trusted to load map: File -> Trust Notebook</span><iframe srcdoc=\"&lt;!DOCTYPE html&gt;\n",
       "&lt;html&gt;\n",
       "&lt;head&gt;\n",
       "    \n",
       "    &lt;meta http-equiv=&quot;content-type&quot; content=&quot;text/html; charset=UTF-8&quot; /&gt;\n",
       "    \n",
       "        &lt;script&gt;\n",
       "            L_NO_TOUCH = false;\n",
       "            L_DISABLE_3D = false;\n",
       "        &lt;/script&gt;\n",
       "    \n",
       "    &lt;style&gt;html, body {width: 100%;height: 100%;margin: 0;padding: 0;}&lt;/style&gt;\n",
       "    &lt;style&gt;#map {position:absolute;top:0;bottom:0;right:0;left:0;}&lt;/style&gt;\n",
       "    &lt;script src=&quot;https://cdn.jsdelivr.net/npm/leaflet@1.9.3/dist/leaflet.js&quot;&gt;&lt;/script&gt;\n",
       "    &lt;script src=&quot;https://code.jquery.com/jquery-1.12.4.min.js&quot;&gt;&lt;/script&gt;\n",
       "    &lt;script src=&quot;https://cdn.jsdelivr.net/npm/bootstrap@5.2.2/dist/js/bootstrap.bundle.min.js&quot;&gt;&lt;/script&gt;\n",
       "    &lt;script src=&quot;https://cdnjs.cloudflare.com/ajax/libs/Leaflet.awesome-markers/2.0.2/leaflet.awesome-markers.js&quot;&gt;&lt;/script&gt;\n",
       "    &lt;link rel=&quot;stylesheet&quot; href=&quot;https://cdn.jsdelivr.net/npm/leaflet@1.9.3/dist/leaflet.css&quot;/&gt;\n",
       "    &lt;link rel=&quot;stylesheet&quot; href=&quot;https://cdn.jsdelivr.net/npm/bootstrap@5.2.2/dist/css/bootstrap.min.css&quot;/&gt;\n",
       "    &lt;link rel=&quot;stylesheet&quot; href=&quot;https://netdna.bootstrapcdn.com/bootstrap/3.0.0/css/bootstrap.min.css&quot;/&gt;\n",
       "    &lt;link rel=&quot;stylesheet&quot; href=&quot;https://cdn.jsdelivr.net/npm/@fortawesome/fontawesome-free@6.2.0/css/all.min.css&quot;/&gt;\n",
       "    &lt;link rel=&quot;stylesheet&quot; href=&quot;https://cdnjs.cloudflare.com/ajax/libs/Leaflet.awesome-markers/2.0.2/leaflet.awesome-markers.css&quot;/&gt;\n",
       "    &lt;link rel=&quot;stylesheet&quot; href=&quot;https://cdn.jsdelivr.net/gh/python-visualization/folium/folium/templates/leaflet.awesome.rotate.min.css&quot;/&gt;\n",
       "    \n",
       "            &lt;meta name=&quot;viewport&quot; content=&quot;width=device-width,\n",
       "                initial-scale=1.0, maximum-scale=1.0, user-scalable=no&quot; /&gt;\n",
       "            &lt;style&gt;\n",
       "                #map_81a3eea0f84d0b97baa06b95922be265 {\n",
       "                    position: relative;\n",
       "                    width: 100.0%;\n",
       "                    height: 100.0%;\n",
       "                    left: 0.0%;\n",
       "                    top: 0.0%;\n",
       "                }\n",
       "                .leaflet-container { font-size: 1rem; }\n",
       "            &lt;/style&gt;\n",
       "        \n",
       "&lt;/head&gt;\n",
       "&lt;body&gt;\n",
       "    \n",
       "    \n",
       "            &lt;div class=&quot;folium-map&quot; id=&quot;map_81a3eea0f84d0b97baa06b95922be265&quot; &gt;&lt;/div&gt;\n",
       "        \n",
       "&lt;/body&gt;\n",
       "&lt;script&gt;\n",
       "    \n",
       "    \n",
       "            var map_81a3eea0f84d0b97baa06b95922be265 = L.map(\n",
       "                &quot;map_81a3eea0f84d0b97baa06b95922be265&quot;,\n",
       "                {\n",
       "                    center: [-6.196271, 106.822921],\n",
       "                    crs: L.CRS.EPSG3857,\n",
       "                    zoom: 11,\n",
       "                    zoomControl: true,\n",
       "                    preferCanvas: false,\n",
       "                }\n",
       "            );\n",
       "\n",
       "            \n",
       "\n",
       "        \n",
       "    \n",
       "            var tile_layer_711e2d73304d63faad3b3cdcc594d4a0 = L.tileLayer(\n",
       "                &quot;https://{s}.tile.openstreetmap.org/{z}/{x}/{y}.png&quot;,\n",
       "                {&quot;attribution&quot;: &quot;Data by \\u0026copy; \\u003ca target=\\&quot;_blank\\&quot; href=\\&quot;http://openstreetmap.org\\&quot;\\u003eOpenStreetMap\\u003c/a\\u003e, under \\u003ca target=\\&quot;_blank\\&quot; href=\\&quot;http://www.openstreetmap.org/copyright\\&quot;\\u003eODbL\\u003c/a\\u003e.&quot;, &quot;detectRetina&quot;: false, &quot;maxNativeZoom&quot;: 18, &quot;maxZoom&quot;: 18, &quot;minZoom&quot;: 0, &quot;noWrap&quot;: false, &quot;opacity&quot;: 1, &quot;subdomains&quot;: &quot;abc&quot;, &quot;tms&quot;: false}\n",
       "            ).addTo(map_81a3eea0f84d0b97baa06b95922be265);\n",
       "        \n",
       "    \n",
       "            var marker_f8d60ce13a74a7346c92facac56bdc8d = L.marker(\n",
       "                [-6.196271, 106.822921],\n",
       "                {}\n",
       "            ).addTo(map_81a3eea0f84d0b97baa06b95922be265);\n",
       "        \n",
       "    \n",
       "            var icon_67c4a9d2c7e6cb914870005c98628ced = L.AwesomeMarkers.icon(\n",
       "                {&quot;extraClasses&quot;: &quot;fa-rotate-0&quot;, &quot;icon&quot;: &quot;info-sign&quot;, &quot;iconColor&quot;: &quot;white&quot;, &quot;markerColor&quot;: &quot;red&quot;, &quot;prefix&quot;: &quot;glyphicon&quot;}\n",
       "            );\n",
       "            marker_f8d60ce13a74a7346c92facac56bdc8d.setIcon(icon_67c4a9d2c7e6cb914870005c98628ced);\n",
       "        \n",
       "    \n",
       "        var popup_96cbf6c7a71cc103e71554976dfc5095 = L.popup({&quot;maxWidth&quot;: &quot;100%&quot;});\n",
       "\n",
       "        \n",
       "            \n",
       "                var html_b9e8cf8c47fa84d4c0c4311d02c3fb42 = $(`&lt;div id=&quot;html_b9e8cf8c47fa84d4c0c4311d02c3fb42&quot; style=&quot;width: 100.0%; height: 100.0%;&quot;&gt;DKI1 (Bunderan HI)&lt;/div&gt;`)[0];\n",
       "                popup_96cbf6c7a71cc103e71554976dfc5095.setContent(html_b9e8cf8c47fa84d4c0c4311d02c3fb42);\n",
       "            \n",
       "        \n",
       "\n",
       "        marker_f8d60ce13a74a7346c92facac56bdc8d.bindPopup(popup_96cbf6c7a71cc103e71554976dfc5095)\n",
       "        ;\n",
       "\n",
       "        \n",
       "    \n",
       "    \n",
       "            var circle_dfd38a68096c3bf2411d0d7268da17af = L.circle(\n",
       "                [-6.196271, 106.822921],\n",
       "                {&quot;bubblingMouseEvents&quot;: true, &quot;color&quot;: &quot;green&quot;, &quot;dashArray&quot;: null, &quot;dashOffset&quot;: null, &quot;fill&quot;: true, &quot;fillColor&quot;: &quot;green&quot;, &quot;fillOpacity&quot;: 0.2, &quot;fillRule&quot;: &quot;evenodd&quot;, &quot;lineCap&quot;: &quot;round&quot;, &quot;lineJoin&quot;: &quot;round&quot;, &quot;opacity&quot;: 1.0, &quot;radius&quot;: 3000, &quot;stroke&quot;: true, &quot;weight&quot;: 3}\n",
       "            ).addTo(map_81a3eea0f84d0b97baa06b95922be265);\n",
       "        \n",
       "    \n",
       "            var marker_bdf029f395b052e2220572bceb1cd23a = L.marker(\n",
       "                [-6.154454, 106.910845],\n",
       "                {}\n",
       "            ).addTo(map_81a3eea0f84d0b97baa06b95922be265);\n",
       "        \n",
       "    \n",
       "            var icon_dc1846e149c54ae7a1cc918f39ce355f = L.AwesomeMarkers.icon(\n",
       "                {&quot;extraClasses&quot;: &quot;fa-rotate-0&quot;, &quot;icon&quot;: &quot;info-sign&quot;, &quot;iconColor&quot;: &quot;white&quot;, &quot;markerColor&quot;: &quot;blue&quot;, &quot;prefix&quot;: &quot;glyphicon&quot;}\n",
       "            );\n",
       "            marker_bdf029f395b052e2220572bceb1cd23a.setIcon(icon_dc1846e149c54ae7a1cc918f39ce355f);\n",
       "        \n",
       "    \n",
       "        var popup_aabca1e9a514db7ecd6ec407c86b6eb2 = L.popup({&quot;maxWidth&quot;: &quot;100%&quot;});\n",
       "\n",
       "        \n",
       "            \n",
       "                var html_75a7f62891cc26998c14a41e44f59cc3 = $(`&lt;div id=&quot;html_75a7f62891cc26998c14a41e44f59cc3&quot; style=&quot;width: 100.0%; height: 100.0%;&quot;&gt;DKI2 (Kelapa Gading)&lt;/div&gt;`)[0];\n",
       "                popup_aabca1e9a514db7ecd6ec407c86b6eb2.setContent(html_75a7f62891cc26998c14a41e44f59cc3);\n",
       "            \n",
       "        \n",
       "\n",
       "        marker_bdf029f395b052e2220572bceb1cd23a.bindPopup(popup_aabca1e9a514db7ecd6ec407c86b6eb2)\n",
       "        ;\n",
       "\n",
       "        \n",
       "    \n",
       "    \n",
       "            var circle_f6f58de9b71fc7ebce899bc6c78900ea = L.circle(\n",
       "                [-6.154454, 106.910845],\n",
       "                {&quot;bubblingMouseEvents&quot;: true, &quot;color&quot;: &quot;blue&quot;, &quot;dashArray&quot;: null, &quot;dashOffset&quot;: null, &quot;fill&quot;: true, &quot;fillColor&quot;: &quot;blue&quot;, &quot;fillOpacity&quot;: 0.2, &quot;fillRule&quot;: &quot;evenodd&quot;, &quot;lineCap&quot;: &quot;round&quot;, &quot;lineJoin&quot;: &quot;round&quot;, &quot;opacity&quot;: 1.0, &quot;radius&quot;: 3000, &quot;stroke&quot;: true, &quot;weight&quot;: 3}\n",
       "            ).addTo(map_81a3eea0f84d0b97baa06b95922be265);\n",
       "        \n",
       "    \n",
       "            var marker_bb826cff2f80d57411703b9f66a68746 = L.marker(\n",
       "                [-6.356317, 106.804713],\n",
       "                {}\n",
       "            ).addTo(map_81a3eea0f84d0b97baa06b95922be265);\n",
       "        \n",
       "    \n",
       "            var icon_ddf4077150d021caa8c968a8b15f0fe8 = L.AwesomeMarkers.icon(\n",
       "                {&quot;extraClasses&quot;: &quot;fa-rotate-0&quot;, &quot;icon&quot;: &quot;info-sign&quot;, &quot;iconColor&quot;: &quot;white&quot;, &quot;markerColor&quot;: &quot;green&quot;, &quot;prefix&quot;: &quot;glyphicon&quot;}\n",
       "            );\n",
       "            marker_bb826cff2f80d57411703b9f66a68746.setIcon(icon_ddf4077150d021caa8c968a8b15f0fe8);\n",
       "        \n",
       "    \n",
       "        var popup_5ddcd90efb980cb58e2e7de39e2f861d = L.popup({&quot;maxWidth&quot;: &quot;100%&quot;});\n",
       "\n",
       "        \n",
       "            \n",
       "                var html_592ce706f3110f7451742936ce0e175f = $(`&lt;div id=&quot;html_592ce706f3110f7451742936ce0e175f&quot; style=&quot;width: 100.0%; height: 100.0%;&quot;&gt;DKI3 (Jagakarsa)&lt;/div&gt;`)[0];\n",
       "                popup_5ddcd90efb980cb58e2e7de39e2f861d.setContent(html_592ce706f3110f7451742936ce0e175f);\n",
       "            \n",
       "        \n",
       "\n",
       "        marker_bb826cff2f80d57411703b9f66a68746.bindPopup(popup_5ddcd90efb980cb58e2e7de39e2f861d)\n",
       "        ;\n",
       "\n",
       "        \n",
       "    \n",
       "    \n",
       "            var circle_86b897fc130c6efc9b391aa2e8c0c6e2 = L.circle(\n",
       "                [-6.356317, 106.804713],\n",
       "                {&quot;bubblingMouseEvents&quot;: true, &quot;color&quot;: &quot;red&quot;, &quot;dashArray&quot;: null, &quot;dashOffset&quot;: null, &quot;fill&quot;: true, &quot;fillColor&quot;: &quot;red&quot;, &quot;fillOpacity&quot;: 0.2, &quot;fillRule&quot;: &quot;evenodd&quot;, &quot;lineCap&quot;: &quot;round&quot;, &quot;lineJoin&quot;: &quot;round&quot;, &quot;opacity&quot;: 1.0, &quot;radius&quot;: 3000, &quot;stroke&quot;: true, &quot;weight&quot;: 3}\n",
       "            ).addTo(map_81a3eea0f84d0b97baa06b95922be265);\n",
       "        \n",
       "    \n",
       "            var marker_692aaf546c43c88f9c9bedd562e63683 = L.marker(\n",
       "                [-6.290345, 106.90861],\n",
       "                {}\n",
       "            ).addTo(map_81a3eea0f84d0b97baa06b95922be265);\n",
       "        \n",
       "    \n",
       "            var icon_be6be8bac271a89cc74b554c7c67e64a = L.AwesomeMarkers.icon(\n",
       "                {&quot;extraClasses&quot;: &quot;fa-rotate-0&quot;, &quot;icon&quot;: &quot;info-sign&quot;, &quot;iconColor&quot;: &quot;white&quot;, &quot;markerColor&quot;: &quot;orange&quot;, &quot;prefix&quot;: &quot;glyphicon&quot;}\n",
       "            );\n",
       "            marker_692aaf546c43c88f9c9bedd562e63683.setIcon(icon_be6be8bac271a89cc74b554c7c67e64a);\n",
       "        \n",
       "    \n",
       "        var popup_6dd0f6c97b995953f22e8ca0b9085dc2 = L.popup({&quot;maxWidth&quot;: &quot;100%&quot;});\n",
       "\n",
       "        \n",
       "            \n",
       "                var html_d9cc5fd9ea357c57b4c6fb0c85be79f3 = $(`&lt;div id=&quot;html_d9cc5fd9ea357c57b4c6fb0c85be79f3&quot; style=&quot;width: 100.0%; height: 100.0%;&quot;&gt;DKI4 (Lubang Buaya)&lt;/div&gt;`)[0];\n",
       "                popup_6dd0f6c97b995953f22e8ca0b9085dc2.setContent(html_d9cc5fd9ea357c57b4c6fb0c85be79f3);\n",
       "            \n",
       "        \n",
       "\n",
       "        marker_692aaf546c43c88f9c9bedd562e63683.bindPopup(popup_6dd0f6c97b995953f22e8ca0b9085dc2)\n",
       "        ;\n",
       "\n",
       "        \n",
       "    \n",
       "    \n",
       "            var circle_4ab56800fd2a9374a92838fd689daa93 = L.circle(\n",
       "                [-6.290345, 106.90861],\n",
       "                {&quot;bubblingMouseEvents&quot;: true, &quot;color&quot;: &quot;green&quot;, &quot;dashArray&quot;: null, &quot;dashOffset&quot;: null, &quot;fill&quot;: true, &quot;fillColor&quot;: &quot;green&quot;, &quot;fillOpacity&quot;: 0.2, &quot;fillRule&quot;: &quot;evenodd&quot;, &quot;lineCap&quot;: &quot;round&quot;, &quot;lineJoin&quot;: &quot;round&quot;, &quot;opacity&quot;: 1.0, &quot;radius&quot;: 3000, &quot;stroke&quot;: true, &quot;weight&quot;: 3}\n",
       "            ).addTo(map_81a3eea0f84d0b97baa06b95922be265);\n",
       "        \n",
       "    \n",
       "            var marker_767d0cd6cb4fd5b73f2e6c88b1a61955 = L.marker(\n",
       "                [-6.209225, 106.753437],\n",
       "                {}\n",
       "            ).addTo(map_81a3eea0f84d0b97baa06b95922be265);\n",
       "        \n",
       "    \n",
       "            var icon_a7e76c7efb1a1c0ff1480970b7130019 = L.AwesomeMarkers.icon(\n",
       "                {&quot;extraClasses&quot;: &quot;fa-rotate-0&quot;, &quot;icon&quot;: &quot;info-sign&quot;, &quot;iconColor&quot;: &quot;white&quot;, &quot;markerColor&quot;: &quot;purple&quot;, &quot;prefix&quot;: &quot;glyphicon&quot;}\n",
       "            );\n",
       "            marker_767d0cd6cb4fd5b73f2e6c88b1a61955.setIcon(icon_a7e76c7efb1a1c0ff1480970b7130019);\n",
       "        \n",
       "    \n",
       "        var popup_9c8036254bccc6454fc7dc038b153b04 = L.popup({&quot;maxWidth&quot;: &quot;100%&quot;});\n",
       "\n",
       "        \n",
       "            \n",
       "                var html_1bef1de92ecf86383457c32a44290b52 = $(`&lt;div id=&quot;html_1bef1de92ecf86383457c32a44290b52&quot; style=&quot;width: 100.0%; height: 100.0%;&quot;&gt;DKI5 (Kebon Jeruk)&lt;/div&gt;`)[0];\n",
       "                popup_9c8036254bccc6454fc7dc038b153b04.setContent(html_1bef1de92ecf86383457c32a44290b52);\n",
       "            \n",
       "        \n",
       "\n",
       "        marker_767d0cd6cb4fd5b73f2e6c88b1a61955.bindPopup(popup_9c8036254bccc6454fc7dc038b153b04)\n",
       "        ;\n",
       "\n",
       "        \n",
       "    \n",
       "    \n",
       "            var circle_f08629b660281ba3a14c86a81cbf3346 = L.circle(\n",
       "                [-6.209225, 106.753437],\n",
       "                {&quot;bubblingMouseEvents&quot;: true, &quot;color&quot;: &quot;red&quot;, &quot;dashArray&quot;: null, &quot;dashOffset&quot;: null, &quot;fill&quot;: true, &quot;fillColor&quot;: &quot;red&quot;, &quot;fillOpacity&quot;: 0.2, &quot;fillRule&quot;: &quot;evenodd&quot;, &quot;lineCap&quot;: &quot;round&quot;, &quot;lineJoin&quot;: &quot;round&quot;, &quot;opacity&quot;: 1.0, &quot;radius&quot;: 3000, &quot;stroke&quot;: true, &quot;weight&quot;: 3}\n",
       "            ).addTo(map_81a3eea0f84d0b97baa06b95922be265);\n",
       "        \n",
       "&lt;/script&gt;\n",
       "&lt;/html&gt;\" style=\"position:absolute;width:100%;height:100%;left:0;top:0;border:none !important;\" allowfullscreen webkitallowfullscreen mozallowfullscreen></iframe></div></div>"
      ],
      "text/plain": [
       "<folium.folium.Map at 0x18f57a86f40>"
      ]
     },
     "execution_count": 55,
     "metadata": {},
     "output_type": "execute_result"
    }
   ],
   "source": [
    "import folium\n",
    "\n",
    "dki_map = folium.Map(location=[-6.196271, 106.822921], zoom_start=11)\n",
    "\n",
    "folium.Marker(\n",
    "    location=[-6.196271, 106.822921],popup='DKI1 (Bunderan HI)',\n",
    "    icon=folium.Icon(color='red')\n",
    ").add_to(dki_map)\n",
    "\n",
    "folium.Circle(\n",
    "    location=[-6.196271, 106.822921],\n",
    "    radius=3000, color='green', fill=True, fill_color='green',\n",
    "    fill_opacity=0.2\n",
    ").add_to(dki_map)\n",
    "\n",
    "folium.Marker(\n",
    "    location=[-6.154454, 106.910845], popup='DKI2 (Kelapa Gading)',\n",
    "    icon=folium.Icon(color='blue')\n",
    ").add_to(dki_map)\n",
    "\n",
    "folium.Circle(\n",
    "    location=[-6.154454, 106.910845],\n",
    "    radius=3000, color='blue', fill=True, fill_color='blue',\n",
    "    fill_opacity=0.2\n",
    ").add_to(dki_map)\n",
    "\n",
    "folium.Marker(\n",
    "    location=[-6.356317, 106.804713], popup='DKI3 (Jagakarsa)',\n",
    "    icon=folium.Icon(color='green')\n",
    ").add_to(dki_map)\n",
    "\n",
    "folium.Circle(\n",
    "    location=[-6.356317, 106.804713],\n",
    "    radius=3000, color='red', fill=True, fill_color='red',\n",
    "    fill_opacity=0.2\n",
    ").add_to(dki_map)\n",
    "\n",
    "folium.Marker(\n",
    "    location=[-6.290345, 106.908610], popup='DKI4 (Lubang Buaya)',\n",
    "    icon=folium.Icon(color='orange')\n",
    ").add_to(dki_map)\n",
    "\n",
    "folium.Circle(\n",
    "    location=[-6.290345, 106.908610],\n",
    "    radius=3000, color='green', fill=True, fill_color='green',\n",
    "    fill_opacity=0.2\n",
    ").add_to(dki_map)\n",
    "\n",
    "folium.Marker(\n",
    "    location=[-6.209225, 106.753437], popup='DKI5 (Kebon Jeruk)',\n",
    "    icon=folium.Icon(color='purple')\n",
    ").add_to(dki_map)\n",
    "\n",
    "folium.Circle(\n",
    "    location=[-6.209225, 106.753437],\n",
    "    radius=3000, color='red', fill=True, fill_color='red',\n",
    "    fill_opacity=0.2\n",
    ").add_to(dki_map)\n",
    "\n",
    "dki_map"
   ]
  },
  {
   "cell_type": "markdown",
   "id": "58f5f054",
   "metadata": {},
   "source": [
    "Berdasarkan data yang ditampilkan:\n",
    "\n",
    "•\tDKI5 (Kebon Jeruk): \n",
    "Jumlah data dengan kategori 'TIDAK SEHAT': 400 (Warna Merah)\n",
    "•\tDKI3 (Jagakarsa):\n",
    "Jumlah data dengan kategori 'TIDAK SEHAT': 308 (Warna Merah)\n",
    "•\tDKI2 (Kelapa Gading):\n",
    "Jumlah data dengan kategori 'TIDAK SEHAT': 261 (Warna Biru)\n",
    "•\tDKI4 (Lubang Buaya):\n",
    "Jumlah data dengan kategori 'TIDAK SEHAT': 114 (Warna Hijau)\n",
    "•\tDKI1 (Bunderan HI):\n",
    "Jumlah data dengan kategori 'TIDAK SEHAT': 54 (Warna Hijau)\n",
    "Kesimpulan:\n",
    "Stasiun DKI5 (Kebon Jeruk) dan DKI3 (Jagakarsa), ditandai dengan lingkaran warna merah, memiliki jumlah data 'TIDAK SEHAT' tertinggi.\n",
    "Stasiun DKI2 (Kelapa Gading), ditandai dengan lingkaran warna biru, memiliki jumlah data 'TIDAK SEHAT' sedang di tengah.\n",
    "Stasiun DKI4 (Lubang Buaya) dan DKI1 (Bunderan HI), ditandai dengan lingkaran warna hijau, memiliki jumlah data 'TIDAK SEHAT' yang lebih rendah dibandingkan dengan yang berwarna merah.\n"
   ]
  },
  {
   "cell_type": "markdown",
   "id": "4b53446c",
   "metadata": {},
   "source": [
    "### 6.Tahun berapa yang memiliki kualitas udara yang \"BAIK\"?"
   ]
  },
  {
   "cell_type": "markdown",
   "id": "7255609c",
   "metadata": {},
   "source": [
    "Membuat DataFrame baru (dfbaik) yang berisi jumlah data dengan kategori 'BAIK' yang dikelompokkan berdasarkan kolom 'tahun'. "
   ]
  },
  {
   "cell_type": "code",
   "execution_count": 56,
   "id": "bd5b1441",
   "metadata": {},
   "outputs": [],
   "source": [
    "dfbaik = combined_df[combined_df['categori'] == 'BAIK'].groupby('tahun').size().reset_index(name='jumlah')"
   ]
  },
  {
   "cell_type": "code",
   "execution_count": 57,
   "id": "545c693b",
   "metadata": {},
   "outputs": [
    {
     "data": {
      "text/html": [
       "<div>\n",
       "<style scoped>\n",
       "    .dataframe tbody tr th:only-of-type {\n",
       "        vertical-align: middle;\n",
       "    }\n",
       "\n",
       "    .dataframe tbody tr th {\n",
       "        vertical-align: top;\n",
       "    }\n",
       "\n",
       "    .dataframe thead th {\n",
       "        text-align: right;\n",
       "    }\n",
       "</style>\n",
       "<table border=\"1\" class=\"dataframe\">\n",
       "  <thead>\n",
       "    <tr style=\"text-align: right;\">\n",
       "      <th></th>\n",
       "      <th>tahun</th>\n",
       "      <th>jumlah</th>\n",
       "    </tr>\n",
       "  </thead>\n",
       "  <tbody>\n",
       "    <tr>\n",
       "      <th>0</th>\n",
       "      <td>2016</td>\n",
       "      <td>379</td>\n",
       "    </tr>\n",
       "    <tr>\n",
       "      <th>1</th>\n",
       "      <td>2017</td>\n",
       "      <td>476</td>\n",
       "    </tr>\n",
       "    <tr>\n",
       "      <th>2</th>\n",
       "      <td>2018</td>\n",
       "      <td>311</td>\n",
       "    </tr>\n",
       "    <tr>\n",
       "      <th>3</th>\n",
       "      <td>2019</td>\n",
       "      <td>207</td>\n",
       "    </tr>\n",
       "    <tr>\n",
       "      <th>4</th>\n",
       "      <td>2020</td>\n",
       "      <td>349</td>\n",
       "    </tr>\n",
       "  </tbody>\n",
       "</table>\n",
       "</div>"
      ],
      "text/plain": [
       "   tahun  jumlah\n",
       "0   2016     379\n",
       "1   2017     476\n",
       "2   2018     311\n",
       "3   2019     207\n",
       "4   2020     349"
      ]
     },
     "execution_count": 57,
     "metadata": {},
     "output_type": "execute_result"
    }
   ],
   "source": [
    "dfbaik"
   ]
  },
  {
   "cell_type": "code",
   "execution_count": 58,
   "id": "6315f518",
   "metadata": {},
   "outputs": [
    {
     "data": {
      "image/png": "[encoded data removed]",
      "text/plain": [
       "<Figure size 1200x800 with 1 Axes>"
      ]
     },
     "metadata": {},
     "output_type": "display_data"
    }
   ],
   "source": [
    "plt.figure(figsize=(12, 8))\n",
    "sns.barplot(x='tahun', y='jumlah', data=dfbaik, palette='viridis')\n",
    "plt.title('Tahun dengan Kualitas Udara Paling Baik (Jumlah \"BAIK\")')\n",
    "plt.xlabel('Tahun')\n",
    "plt.ylabel('Jumlah \"BAIK\"')\n",
    "plt.show()"
   ]
  },
  {
   "cell_type": "markdown",
   "id": "58235c3f",
   "metadata": {},
   "source": [
    "### Kesimpulan dari barchart diatas\n",
    "\n",
    "Dari visualisasi di atas, kita dapat membuat beberapa kesimpulan:\n",
    "\n",
    "- Tahun 2017 memiliki jumlah kategori \"BAIK\" terbanyak, yaitu sebanyak 476 pengukuran.\n",
    "- Tahun 2016 memiliki jumlah kategori \"BAIK\" yang signifikan, namun lebih rendah dibandingkan dengan tahun 2017.\n",
    "- Tahun 2021 memiliki jumlah kategori \"BAIK\" yang paling sedikit, yaitu hanya 78 pengukuran.\n",
    "- Secara umum, terdapat fluktuasi dalam jumlah kategori \"BAIK\" dari tahun ke tahun, dengan peningkatan yang signifikan pada tahun 2017 dan penurunan pada tahun 2021.\n",
    "\n",
    "Angka-angka di atas memberikan gambaran tentang variabilitas kategori \"BAIK\" dalam beberapa tahun terakhir."
   ]
  },
  {
   "cell_type": "markdown",
   "id": "7715fc58",
   "metadata": {},
   "source": [
    "Mengganti nilai kategori pada kolom 'categori' dalam DataFrame combined_df dengan nilai numerik yang sesuai, berdasarkan peta mapping yang didefinisikan. "
   ]
  },
  {
   "cell_type": "code",
   "execution_count": 59,
   "id": "dc00d778",
   "metadata": {},
   "outputs": [
    {
     "data": {
      "text/html": [
       "<div>\n",
       "<style scoped>\n",
       "    .dataframe tbody tr th:only-of-type {\n",
       "        vertical-align: middle;\n",
       "    }\n",
       "\n",
       "    .dataframe tbody tr th {\n",
       "        vertical-align: top;\n",
       "    }\n",
       "\n",
       "    .dataframe thead th {\n",
       "        text-align: right;\n",
       "    }\n",
       "</style>\n",
       "<table border=\"1\" class=\"dataframe\">\n",
       "  <thead>\n",
       "    <tr style=\"text-align: right;\">\n",
       "      <th></th>\n",
       "      <th>tanggal</th>\n",
       "      <th>stasiun</th>\n",
       "      <th>pm10</th>\n",
       "      <th>so2</th>\n",
       "      <th>co</th>\n",
       "      <th>o3</th>\n",
       "      <th>no2</th>\n",
       "      <th>max</th>\n",
       "      <th>critical</th>\n",
       "      <th>categori</th>\n",
       "      <th>tahun</th>\n",
       "    </tr>\n",
       "  </thead>\n",
       "  <tbody>\n",
       "    <tr>\n",
       "      <th>0</th>\n",
       "      <td>2016-01-01</td>\n",
       "      <td>DKI1 (Bunderan HI)</td>\n",
       "      <td>59.0</td>\n",
       "      <td>19.0</td>\n",
       "      <td>27.0</td>\n",
       "      <td>31.0</td>\n",
       "      <td>1.0</td>\n",
       "      <td>59.0</td>\n",
       "      <td>PM10</td>\n",
       "      <td>2</td>\n",
       "      <td>2016</td>\n",
       "    </tr>\n",
       "    <tr>\n",
       "      <th>1</th>\n",
       "      <td>2016-01-02</td>\n",
       "      <td>DKI1 (Bunderan HI)</td>\n",
       "      <td>52.0</td>\n",
       "      <td>19.0</td>\n",
       "      <td>17.0</td>\n",
       "      <td>33.0</td>\n",
       "      <td>2.0</td>\n",
       "      <td>52.0</td>\n",
       "      <td>PM10</td>\n",
       "      <td>2</td>\n",
       "      <td>2016</td>\n",
       "    </tr>\n",
       "    <tr>\n",
       "      <th>2</th>\n",
       "      <td>2016-01-03</td>\n",
       "      <td>DKI1 (Bunderan HI)</td>\n",
       "      <td>44.0</td>\n",
       "      <td>19.0</td>\n",
       "      <td>17.0</td>\n",
       "      <td>36.0</td>\n",
       "      <td>2.0</td>\n",
       "      <td>44.0</td>\n",
       "      <td>PM10</td>\n",
       "      <td>3</td>\n",
       "      <td>2016</td>\n",
       "    </tr>\n",
       "    <tr>\n",
       "      <th>3</th>\n",
       "      <td>2016-01-04</td>\n",
       "      <td>DKI1 (Bunderan HI)</td>\n",
       "      <td>58.0</td>\n",
       "      <td>21.0</td>\n",
       "      <td>17.0</td>\n",
       "      <td>46.0</td>\n",
       "      <td>5.0</td>\n",
       "      <td>58.0</td>\n",
       "      <td>PM10</td>\n",
       "      <td>2</td>\n",
       "      <td>2016</td>\n",
       "    </tr>\n",
       "    <tr>\n",
       "      <th>4</th>\n",
       "      <td>2016-01-05</td>\n",
       "      <td>DKI1 (Bunderan HI)</td>\n",
       "      <td>70.0</td>\n",
       "      <td>19.0</td>\n",
       "      <td>17.0</td>\n",
       "      <td>41.0</td>\n",
       "      <td>4.0</td>\n",
       "      <td>70.0</td>\n",
       "      <td>PM10</td>\n",
       "      <td>2</td>\n",
       "      <td>2016</td>\n",
       "    </tr>\n",
       "  </tbody>\n",
       "</table>\n",
       "</div>"
      ],
      "text/plain": [
       "     tanggal             stasiun  pm10   so2    co    o3  no2   max critical  \\\n",
       "0 2016-01-01  DKI1 (Bunderan HI)  59.0  19.0  27.0  31.0  1.0  59.0     PM10   \n",
       "1 2016-01-02  DKI1 (Bunderan HI)  52.0  19.0  17.0  33.0  2.0  52.0     PM10   \n",
       "2 2016-01-03  DKI1 (Bunderan HI)  44.0  19.0  17.0  36.0  2.0  44.0     PM10   \n",
       "3 2016-01-04  DKI1 (Bunderan HI)  58.0  21.0  17.0  46.0  5.0  58.0     PM10   \n",
       "4 2016-01-05  DKI1 (Bunderan HI)  70.0  19.0  17.0  41.0  4.0  70.0     PM10   \n",
       "\n",
       "   categori  tahun  \n",
       "0         2   2016  \n",
       "1         2   2016  \n",
       "2         3   2016  \n",
       "3         2   2016  \n",
       "4         2   2016  "
      ]
     },
     "execution_count": 59,
     "metadata": {},
     "output_type": "execute_result"
    }
   ],
   "source": [
    "mapping = {'SEDANG': 2, 'BAIK': 3, 'TIDAK SEHAT': 1, 'SANGAT TIDAK SEHAT': 0}\n",
    "combined_df['categori'] = combined_df['categori'].replace(mapping)\n",
    "\n",
    "combined_df.head()"
   ]
  },
  {
   "cell_type": "markdown",
   "id": "a965aa25",
   "metadata": {},
   "source": [
    "## Analisis Korelasi\n",
    "\n",
    "Analisis korelasi merupakan salah satu teknik statistik yang digunakan untuk menganalisis hubungan antara dua variabel atau lebih yang bersifat kuantitatif. Bahwa adanya perubahan sebuah variabel disebabkan atau akan diikuti dengan perubahan variabel lain."
   ]
  },
  {
   "cell_type": "markdown",
   "id": "c4b913b9",
   "metadata": {},
   "source": [
    "Membuat DataFrame baru df_cor yang hanya berisi subset dari DataFrame combined_df. Subset ini terdiri dari kolom-kolom yang diidentifikasi, yaitu 'pm10', 'so2', 'co', 'o3', 'no2', 'max', 'critical', dan 'categori'."
   ]
  },
  {
   "cell_type": "code",
   "execution_count": 60,
   "id": "7b60c677",
   "metadata": {},
   "outputs": [
    {
     "data": {
      "text/html": [
       "<div>\n",
       "<style scoped>\n",
       "    .dataframe tbody tr th:only-of-type {\n",
       "        vertical-align: middle;\n",
       "    }\n",
       "\n",
       "    .dataframe tbody tr th {\n",
       "        vertical-align: top;\n",
       "    }\n",
       "\n",
       "    .dataframe thead th {\n",
       "        text-align: right;\n",
       "    }\n",
       "</style>\n",
       "<table border=\"1\" class=\"dataframe\">\n",
       "  <thead>\n",
       "    <tr style=\"text-align: right;\">\n",
       "      <th></th>\n",
       "      <th>pm10</th>\n",
       "      <th>so2</th>\n",
       "      <th>co</th>\n",
       "      <th>o3</th>\n",
       "      <th>no2</th>\n",
       "      <th>max</th>\n",
       "      <th>critical</th>\n",
       "      <th>categori</th>\n",
       "    </tr>\n",
       "  </thead>\n",
       "  <tbody>\n",
       "    <tr>\n",
       "      <th>0</th>\n",
       "      <td>59.0</td>\n",
       "      <td>19.0</td>\n",
       "      <td>27.0</td>\n",
       "      <td>31.0</td>\n",
       "      <td>1.0</td>\n",
       "      <td>59.0</td>\n",
       "      <td>PM10</td>\n",
       "      <td>2</td>\n",
       "    </tr>\n",
       "    <tr>\n",
       "      <th>1</th>\n",
       "      <td>52.0</td>\n",
       "      <td>19.0</td>\n",
       "      <td>17.0</td>\n",
       "      <td>33.0</td>\n",
       "      <td>2.0</td>\n",
       "      <td>52.0</td>\n",
       "      <td>PM10</td>\n",
       "      <td>2</td>\n",
       "    </tr>\n",
       "    <tr>\n",
       "      <th>2</th>\n",
       "      <td>44.0</td>\n",
       "      <td>19.0</td>\n",
       "      <td>17.0</td>\n",
       "      <td>36.0</td>\n",
       "      <td>2.0</td>\n",
       "      <td>44.0</td>\n",
       "      <td>PM10</td>\n",
       "      <td>3</td>\n",
       "    </tr>\n",
       "    <tr>\n",
       "      <th>3</th>\n",
       "      <td>58.0</td>\n",
       "      <td>21.0</td>\n",
       "      <td>17.0</td>\n",
       "      <td>46.0</td>\n",
       "      <td>5.0</td>\n",
       "      <td>58.0</td>\n",
       "      <td>PM10</td>\n",
       "      <td>2</td>\n",
       "    </tr>\n",
       "    <tr>\n",
       "      <th>4</th>\n",
       "      <td>70.0</td>\n",
       "      <td>19.0</td>\n",
       "      <td>17.0</td>\n",
       "      <td>41.0</td>\n",
       "      <td>4.0</td>\n",
       "      <td>70.0</td>\n",
       "      <td>PM10</td>\n",
       "      <td>2</td>\n",
       "    </tr>\n",
       "  </tbody>\n",
       "</table>\n",
       "</div>"
      ],
      "text/plain": [
       "   pm10   so2    co    o3  no2   max critical  categori\n",
       "0  59.0  19.0  27.0  31.0  1.0  59.0     PM10         2\n",
       "1  52.0  19.0  17.0  33.0  2.0  52.0     PM10         2\n",
       "2  44.0  19.0  17.0  36.0  2.0  44.0     PM10         3\n",
       "3  58.0  21.0  17.0  46.0  5.0  58.0     PM10         2\n",
       "4  70.0  19.0  17.0  41.0  4.0  70.0     PM10         2"
      ]
     },
     "execution_count": 60,
     "metadata": {},
     "output_type": "execute_result"
    }
   ],
   "source": [
    "df_cor = combined_df.loc[:,['pm10','so2','co','o3','no2','max','critical','categori']]\n",
    "df_cor.head()"
   ]
  },
  {
   "cell_type": "markdown",
   "id": "7c4f4555",
   "metadata": {},
   "source": [
    "Melakukan proses label encoding untuk mengubah nilai-nilai dalam kolom-kolom berjenis data objek (string atau kategori) menjadi nilai-nilai numerik. "
   ]
  },
  {
   "cell_type": "code",
   "execution_count": 61,
   "id": "bb3ea975",
   "metadata": {},
   "outputs": [],
   "source": [
    "label_encoder = preprocessing.LabelEncoder()\n",
    "\n",
    "df_category = df_cor.select_dtypes(include='object')\n",
    "df_encode_cor = df_cor.copy()\n",
    "\n",
    "for column in df_category.columns:\n",
    "    df_encode_cor[column] = label_encoder.fit_transform(df_cor[column])"
   ]
  },
  {
   "cell_type": "markdown",
   "id": "2954edf6",
   "metadata": {},
   "source": [
    "Membuat fungsi peta panas (heatmap) dari korelasi antar kolom-kolom dalam DataFrame."
   ]
  },
  {
   "cell_type": "code",
   "execution_count": 62,
   "id": "34406124",
   "metadata": {},
   "outputs": [],
   "source": [
    "def heat_map(nama_df,list_kolom): \n",
    "    df_heatmap = nama_df[list_kolom] \n",
    "    plt.figure(figsize=(20,23)) \n",
    "\n",
    "    sns.heatmap(df_heatmap.corr(), \n",
    "                annot=True, \n",
    "                cmap=\"plasma\", \n",
    "                linewidths=.5, \n",
    "                linecolor='black', \n",
    "                square=True) "
   ]
  },
  {
   "cell_type": "markdown",
   "id": "f6ae07b0",
   "metadata": {},
   "source": [
    "Membuat peta panas (heatmap) dari korelasi antar kolom-kolom tertentu dalam DataFrame df_encode_cor. Kolom-kolom yang digunakan untuk membuat heatmap tersebut diidentifikasi dalam list "
   ]
  },
  {
   "cell_type": "code",
   "execution_count": 63,
   "id": "e8eefc44",
   "metadata": {
    "scrolled": false
   },
   "outputs": [
    {
     "data": {
      "image/png": "[encoded data removed]",
      "text/plain": [
       "<Figure size 2000x2300 with 2 Axes>"
      ]
     },
     "metadata": {},
     "output_type": "display_data"
    }
   ],
   "source": [
    "heat_map_modeling = ['pm10','so2','co',\n",
    "                     'o3','no2','max',\n",
    "                     'critical','categori']\n",
    "heat_map(df_encode_cor,heat_map_modeling)"
   ]
  },
  {
   "cell_type": "markdown",
   "id": "fc26f09a",
   "metadata": {},
   "source": [
    "Membuat peta panas (heatmap) korelasi antar kolom-kolom dalam DataFrame df_encode_cor dengan fokus pada korelasi dengan kolom 'categori'. Korelasi diurutkan berdasarkan nilai korelasi dengan 'categori'."
   ]
  },
  {
   "cell_type": "code",
   "execution_count": 64,
   "id": "1ab1eaa3",
   "metadata": {},
   "outputs": [
    {
     "data": {
      "image/png": "[encoded data removed]",
      "text/plain": [
       "<Figure size 1200x800 with 2 Axes>"
      ]
     },
     "metadata": {},
     "output_type": "display_data"
    }
   ],
   "source": [
    "plt.figure(figsize=(12, 8))\n",
    "corr = df_encode_cor.corr()[['categori']].sort_values(by='categori', ascending=False)\n",
    "sns.heatmap(corr, annot=True, cmap=\"plasma\");"
   ]
  },
  {
   "cell_type": "markdown",
   "id": "c9b5ec96",
   "metadata": {},
   "source": [
    "**Keterangan:** \n",
    "Berdasarkan visualisasi heatmap diatas, dipilih beberapa kolom yang memiliki korelasi cukup tinggi dengan kolom `categori` yang kemudian nantinya digunakan untuk variabel X pada modelling. Kolom tersebut diantaranya adalah sebagai berikut:\n",
    "\n",
    "1. `max` Merupakan nilai ukur paling tinggi dari seluruh parameter yang diukur dalam waktu yang sama. Dalam konteks ini, mungkin merujuk pada parameter kualitas udara tertentu, dengan korelasi sebesar 0.68\n",
    "2. `o3` Merupakan parameter yang mengukur konsentrasi ozon di udara. Ozon dapat memiliki dampak kesehatan dan lingkungan, tergantung pada konsentrasinya, dengan korelasi sebesar 0.63\n",
    "3. `pm10` Merupakan parameter yang mengukur konsentrasi partikel berukuran 10 mikrometer atau kurang di udara. Partikel ini dapat mencakup debu, asap, dan materi padat lainnya yang dapat mempengaruhi kualitas udara , dengan korelasi sebesar 0.58\n",
    "4. `no2` Merupakan parameter yang mengukur konsentrasi nitrogen dioksida di udara. NO2 dapat berasal dari aktivitas pembakaran bahan bakar, seperti kendaraan bermotor dan industri , dengan korelasi sebesar 0.17\n",
    "5. `co` Merupakan parameter yang mengukur konsentrasi karbon monoksida di udara. CO dapat berasal dari pembakaran bahan bakar fosil dan dapat berdampak negatif pada kesehatan manusia , dengan korelasi sebesar 0.12\n",
    "6. `so2` Merupakan parameter yang mengukur konsentrasi dioksida belerang di udara. SO2 dapat berasal dari aktivitas pembakaran bahan bakar fosil dan proses industri tertentu , dengan korelasi sebesar 0.063"
   ]
  },
  {
   "cell_type": "markdown",
   "id": "7ce9c195",
   "metadata": {},
   "source": [
    "### Feature Scaling\n",
    "Feature scaling adalah teknik untuk membuat skala data setiap fitur menjadi sama. Pada project ini, kami menggunakan MinMax Scaler yang melakukan transform feature dengan mengubah setiap data ke range tertentu antara 0-1."
   ]
  },
  {
   "cell_type": "code",
   "execution_count": 65,
   "id": "35d61018",
   "metadata": {},
   "outputs": [
    {
     "data": {
      "text/html": [
       "<div>\n",
       "<style scoped>\n",
       "    .dataframe tbody tr th:only-of-type {\n",
       "        vertical-align: middle;\n",
       "    }\n",
       "\n",
       "    .dataframe tbody tr th {\n",
       "        vertical-align: top;\n",
       "    }\n",
       "\n",
       "    .dataframe thead th {\n",
       "        text-align: right;\n",
       "    }\n",
       "</style>\n",
       "<table border=\"1\" class=\"dataframe\">\n",
       "  <thead>\n",
       "    <tr style=\"text-align: right;\">\n",
       "      <th></th>\n",
       "      <th>pm10</th>\n",
       "      <th>so2</th>\n",
       "      <th>co</th>\n",
       "      <th>o3</th>\n",
       "      <th>no2</th>\n",
       "      <th>max</th>\n",
       "    </tr>\n",
       "  </thead>\n",
       "  <tbody>\n",
       "    <tr>\n",
       "      <th>0</th>\n",
       "      <td>59.0</td>\n",
       "      <td>19.0</td>\n",
       "      <td>27.0</td>\n",
       "      <td>31.0</td>\n",
       "      <td>1.0</td>\n",
       "      <td>59.0</td>\n",
       "    </tr>\n",
       "    <tr>\n",
       "      <th>1</th>\n",
       "      <td>52.0</td>\n",
       "      <td>19.0</td>\n",
       "      <td>17.0</td>\n",
       "      <td>33.0</td>\n",
       "      <td>2.0</td>\n",
       "      <td>52.0</td>\n",
       "    </tr>\n",
       "    <tr>\n",
       "      <th>2</th>\n",
       "      <td>44.0</td>\n",
       "      <td>19.0</td>\n",
       "      <td>17.0</td>\n",
       "      <td>36.0</td>\n",
       "      <td>2.0</td>\n",
       "      <td>44.0</td>\n",
       "    </tr>\n",
       "    <tr>\n",
       "      <th>3</th>\n",
       "      <td>58.0</td>\n",
       "      <td>21.0</td>\n",
       "      <td>17.0</td>\n",
       "      <td>46.0</td>\n",
       "      <td>5.0</td>\n",
       "      <td>58.0</td>\n",
       "    </tr>\n",
       "    <tr>\n",
       "      <th>4</th>\n",
       "      <td>70.0</td>\n",
       "      <td>19.0</td>\n",
       "      <td>17.0</td>\n",
       "      <td>41.0</td>\n",
       "      <td>4.0</td>\n",
       "      <td>70.0</td>\n",
       "    </tr>\n",
       "    <tr>\n",
       "      <th>...</th>\n",
       "      <td>...</td>\n",
       "      <td>...</td>\n",
       "      <td>...</td>\n",
       "      <td>...</td>\n",
       "      <td>...</td>\n",
       "      <td>...</td>\n",
       "    </tr>\n",
       "    <tr>\n",
       "      <th>9165</th>\n",
       "      <td>18.0</td>\n",
       "      <td>32.0</td>\n",
       "      <td>4.0</td>\n",
       "      <td>41.0</td>\n",
       "      <td>8.0</td>\n",
       "      <td>41.0</td>\n",
       "    </tr>\n",
       "    <tr>\n",
       "      <th>9166</th>\n",
       "      <td>22.0</td>\n",
       "      <td>33.0</td>\n",
       "      <td>5.0</td>\n",
       "      <td>35.0</td>\n",
       "      <td>3.0</td>\n",
       "      <td>35.0</td>\n",
       "    </tr>\n",
       "    <tr>\n",
       "      <th>9167</th>\n",
       "      <td>15.0</td>\n",
       "      <td>28.0</td>\n",
       "      <td>4.0</td>\n",
       "      <td>27.0</td>\n",
       "      <td>8.0</td>\n",
       "      <td>28.0</td>\n",
       "    </tr>\n",
       "    <tr>\n",
       "      <th>9168</th>\n",
       "      <td>16.0</td>\n",
       "      <td>7.0</td>\n",
       "      <td>3.0</td>\n",
       "      <td>21.0</td>\n",
       "      <td>2.0</td>\n",
       "      <td>21.0</td>\n",
       "    </tr>\n",
       "    <tr>\n",
       "      <th>9169</th>\n",
       "      <td>18.0</td>\n",
       "      <td>13.0</td>\n",
       "      <td>6.0</td>\n",
       "      <td>24.0</td>\n",
       "      <td>3.0</td>\n",
       "      <td>24.0</td>\n",
       "    </tr>\n",
       "  </tbody>\n",
       "</table>\n",
       "<p>8529 rows × 6 columns</p>\n",
       "</div>"
      ],
      "text/plain": [
       "      pm10   so2    co    o3  no2   max\n",
       "0     59.0  19.0  27.0  31.0  1.0  59.0\n",
       "1     52.0  19.0  17.0  33.0  2.0  52.0\n",
       "2     44.0  19.0  17.0  36.0  2.0  44.0\n",
       "3     58.0  21.0  17.0  46.0  5.0  58.0\n",
       "4     70.0  19.0  17.0  41.0  4.0  70.0\n",
       "...    ...   ...   ...   ...  ...   ...\n",
       "9165  18.0  32.0   4.0  41.0  8.0  41.0\n",
       "9166  22.0  33.0   5.0  35.0  3.0  35.0\n",
       "9167  15.0  28.0   4.0  27.0  8.0  28.0\n",
       "9168  16.0   7.0   3.0  21.0  2.0  21.0\n",
       "9169  18.0  13.0   6.0  24.0  3.0  24.0\n",
       "\n",
       "[8529 rows x 6 columns]"
      ]
     },
     "execution_count": 65,
     "metadata": {},
     "output_type": "execute_result"
    }
   ],
   "source": [
    "scaler = MinMaxScaler()\n",
    "\n",
    "df_new = df_encode_cor.copy()\n",
    "df_model = df_new.loc[:,['pm10','so2','co','o3','no2','max','categori']]\n",
    "\n",
    "df_model[['pm10','so2','co','o3','no2','max']]"
   ]
  },
  {
   "cell_type": "markdown",
   "id": "1702e045",
   "metadata": {},
   "source": [
    "Menampilkan 5 data teratas"
   ]
  },
  {
   "cell_type": "code",
   "execution_count": 66,
   "id": "991eaebb",
   "metadata": {},
   "outputs": [
    {
     "data": {
      "text/html": [
       "<div>\n",
       "<style scoped>\n",
       "    .dataframe tbody tr th:only-of-type {\n",
       "        vertical-align: middle;\n",
       "    }\n",
       "\n",
       "    .dataframe tbody tr th {\n",
       "        vertical-align: top;\n",
       "    }\n",
       "\n",
       "    .dataframe thead th {\n",
       "        text-align: right;\n",
       "    }\n",
       "</style>\n",
       "<table border=\"1\" class=\"dataframe\">\n",
       "  <thead>\n",
       "    <tr style=\"text-align: right;\">\n",
       "      <th></th>\n",
       "      <th>pm10</th>\n",
       "      <th>so2</th>\n",
       "      <th>co</th>\n",
       "      <th>o3</th>\n",
       "      <th>no2</th>\n",
       "      <th>max</th>\n",
       "      <th>categori</th>\n",
       "    </tr>\n",
       "  </thead>\n",
       "  <tbody>\n",
       "    <tr>\n",
       "      <th>0</th>\n",
       "      <td>59.0</td>\n",
       "      <td>19.0</td>\n",
       "      <td>27.0</td>\n",
       "      <td>31.0</td>\n",
       "      <td>1.0</td>\n",
       "      <td>59.0</td>\n",
       "      <td>2</td>\n",
       "    </tr>\n",
       "    <tr>\n",
       "      <th>1</th>\n",
       "      <td>52.0</td>\n",
       "      <td>19.0</td>\n",
       "      <td>17.0</td>\n",
       "      <td>33.0</td>\n",
       "      <td>2.0</td>\n",
       "      <td>52.0</td>\n",
       "      <td>2</td>\n",
       "    </tr>\n",
       "    <tr>\n",
       "      <th>2</th>\n",
       "      <td>44.0</td>\n",
       "      <td>19.0</td>\n",
       "      <td>17.0</td>\n",
       "      <td>36.0</td>\n",
       "      <td>2.0</td>\n",
       "      <td>44.0</td>\n",
       "      <td>3</td>\n",
       "    </tr>\n",
       "    <tr>\n",
       "      <th>3</th>\n",
       "      <td>58.0</td>\n",
       "      <td>21.0</td>\n",
       "      <td>17.0</td>\n",
       "      <td>46.0</td>\n",
       "      <td>5.0</td>\n",
       "      <td>58.0</td>\n",
       "      <td>2</td>\n",
       "    </tr>\n",
       "    <tr>\n",
       "      <th>4</th>\n",
       "      <td>70.0</td>\n",
       "      <td>19.0</td>\n",
       "      <td>17.0</td>\n",
       "      <td>41.0</td>\n",
       "      <td>4.0</td>\n",
       "      <td>70.0</td>\n",
       "      <td>2</td>\n",
       "    </tr>\n",
       "  </tbody>\n",
       "</table>\n",
       "</div>"
      ],
      "text/plain": [
       "   pm10   so2    co    o3  no2   max  categori\n",
       "0  59.0  19.0  27.0  31.0  1.0  59.0         2\n",
       "1  52.0  19.0  17.0  33.0  2.0  52.0         2\n",
       "2  44.0  19.0  17.0  36.0  2.0  44.0         3\n",
       "3  58.0  21.0  17.0  46.0  5.0  58.0         2\n",
       "4  70.0  19.0  17.0  41.0  4.0  70.0         2"
      ]
     },
     "execution_count": 66,
     "metadata": {},
     "output_type": "execute_result"
    }
   ],
   "source": [
    "df_model.head()"
   ]
  },
  {
   "cell_type": "markdown",
   "id": "51a39878",
   "metadata": {},
   "source": [
    "# Modelling"
   ]
  },
  {
   "cell_type": "markdown",
   "id": "71b2ca9e",
   "metadata": {},
   "source": [
    "Memilih kolom dengan korelasi paling tinggi berdasarkan analisis korelasi yang telah dilakukan. Kolom yang dipilih sudah melalui proses encoding dan feature scaling."
   ]
  },
  {
   "cell_type": "code",
   "execution_count": 67,
   "id": "f35fef12",
   "metadata": {},
   "outputs": [
    {
     "data": {
      "text/html": [
       "<div>\n",
       "<style scoped>\n",
       "    .dataframe tbody tr th:only-of-type {\n",
       "        vertical-align: middle;\n",
       "    }\n",
       "\n",
       "    .dataframe tbody tr th {\n",
       "        vertical-align: top;\n",
       "    }\n",
       "\n",
       "    .dataframe thead th {\n",
       "        text-align: right;\n",
       "    }\n",
       "</style>\n",
       "<table border=\"1\" class=\"dataframe\">\n",
       "  <thead>\n",
       "    <tr style=\"text-align: right;\">\n",
       "      <th></th>\n",
       "      <th>pm10</th>\n",
       "      <th>so2</th>\n",
       "      <th>co</th>\n",
       "      <th>o3</th>\n",
       "      <th>no2</th>\n",
       "      <th>max</th>\n",
       "      <th>categori</th>\n",
       "    </tr>\n",
       "  </thead>\n",
       "  <tbody>\n",
       "    <tr>\n",
       "      <th>0</th>\n",
       "      <td>59.0</td>\n",
       "      <td>19.0</td>\n",
       "      <td>27.0</td>\n",
       "      <td>31.0</td>\n",
       "      <td>1.0</td>\n",
       "      <td>59.0</td>\n",
       "      <td>2</td>\n",
       "    </tr>\n",
       "    <tr>\n",
       "      <th>1</th>\n",
       "      <td>52.0</td>\n",
       "      <td>19.0</td>\n",
       "      <td>17.0</td>\n",
       "      <td>33.0</td>\n",
       "      <td>2.0</td>\n",
       "      <td>52.0</td>\n",
       "      <td>2</td>\n",
       "    </tr>\n",
       "    <tr>\n",
       "      <th>2</th>\n",
       "      <td>44.0</td>\n",
       "      <td>19.0</td>\n",
       "      <td>17.0</td>\n",
       "      <td>36.0</td>\n",
       "      <td>2.0</td>\n",
       "      <td>44.0</td>\n",
       "      <td>3</td>\n",
       "    </tr>\n",
       "    <tr>\n",
       "      <th>3</th>\n",
       "      <td>58.0</td>\n",
       "      <td>21.0</td>\n",
       "      <td>17.0</td>\n",
       "      <td>46.0</td>\n",
       "      <td>5.0</td>\n",
       "      <td>58.0</td>\n",
       "      <td>2</td>\n",
       "    </tr>\n",
       "    <tr>\n",
       "      <th>4</th>\n",
       "      <td>70.0</td>\n",
       "      <td>19.0</td>\n",
       "      <td>17.0</td>\n",
       "      <td>41.0</td>\n",
       "      <td>4.0</td>\n",
       "      <td>70.0</td>\n",
       "      <td>2</td>\n",
       "    </tr>\n",
       "  </tbody>\n",
       "</table>\n",
       "</div>"
      ],
      "text/plain": [
       "   pm10   so2    co    o3  no2   max  categori\n",
       "0  59.0  19.0  27.0  31.0  1.0  59.0         2\n",
       "1  52.0  19.0  17.0  33.0  2.0  52.0         2\n",
       "2  44.0  19.0  17.0  36.0  2.0  44.0         3\n",
       "3  58.0  21.0  17.0  46.0  5.0  58.0         2\n",
       "4  70.0  19.0  17.0  41.0  4.0  70.0         2"
      ]
     },
     "execution_count": 67,
     "metadata": {},
     "output_type": "execute_result"
    }
   ],
   "source": [
    "df_kondisi = df_encode_cor.loc[:,['pm10','so2','co','o3','no2','max','categori']]\n",
    "df_kondisi.head()"
   ]
  },
  {
   "cell_type": "markdown",
   "id": "eef3b756",
   "metadata": {},
   "source": [
    "Menampilkan daftar nilai unik dalam kolom 'categori' beserta jumlah kemunculannya masing-masing. "
   ]
  },
  {
   "cell_type": "code",
   "execution_count": 68,
   "id": "c603a692",
   "metadata": {},
   "outputs": [
    {
     "data": {
      "text/plain": [
       "2    5637\n",
       "3    1722\n",
       "1    1137\n",
       "0      33\n",
       "Name: categori, dtype: int64"
      ]
     },
     "execution_count": 68,
     "metadata": {},
     "output_type": "execute_result"
    }
   ],
   "source": [
    "df_kondisi['categori'].value_counts()"
   ]
  },
  {
   "cell_type": "markdown",
   "id": "d94397c5",
   "metadata": {},
   "source": [
    "## 1.Logistic Regression\n",
    "### Modelling"
   ]
  },
  {
   "cell_type": "markdown",
   "id": "fc39ce1d",
   "metadata": {},
   "source": [
    "Load model LogisticRegression"
   ]
  },
  {
   "cell_type": "code",
   "execution_count": 69,
   "id": "b9de75a6",
   "metadata": {},
   "outputs": [],
   "source": [
    "lr_model = LogisticRegression()"
   ]
  },
  {
   "cell_type": "markdown",
   "id": "d31935d4",
   "metadata": {},
   "source": [
    "Melakukan persiapan data untuk pemodelan dengan memisahkan fitur (x) dan target (y) dari DataFrame df_kondisi. Fitur-fitur tersebut disimpan dalam variabel x, sedangkan targetnya disimpan dalam variabel y. Selanjutnya, data dibagi menjadi data pelatihan (x_train1, y_train1) dan data pengujian (x_test1, y_test1) menggunakan fungsi train_test_split. Pembagian dilakukan dengan mengalokasikan 70% data untuk pelatihan dan 30% untuk pengujian, serta menggunakan random_state untuk memastikan reproduktibilitas hasil."
   ]
  },
  {
   "cell_type": "code",
   "execution_count": 70,
   "id": "329e4c40",
   "metadata": {},
   "outputs": [],
   "source": [
    "x = df_kondisi.drop(columns=['categori'],axis=1).values\n",
    "y = df_kondisi['categori'].values\n",
    "\n",
    "x_train1, x_test1, y_train1, y_test1 = train_test_split(x, y, test_size=0.3, random_state=0)"
   ]
  },
  {
   "cell_type": "markdown",
   "id": "e318e293",
   "metadata": {},
   "source": [
    "Menampilkan tahap pelatihan (training) model dengan menggunakan algoritma Linear Regression (lr_model). "
   ]
  },
  {
   "cell_type": "code",
   "execution_count": 71,
   "id": "a8bd41c6",
   "metadata": {},
   "outputs": [
    {
     "data": {
      "text/html": [
       "<style>#sk-container-id-1 {color: black;background-color: white;}#sk-container-id-1 pre{padding: 0;}#sk-container-id-1 div.sk-toggleable {background-color: white;}#sk-container-id-1 label.sk-toggleable__label {cursor: pointer;display: block;width: 100%;margin-bottom: 0;padding: 0.3em;box-sizing: border-box;text-align: center;}#sk-container-id-1 label.sk-toggleable__label-arrow:before {content: \"▸\";float: left;margin-right: 0.25em;color: #696969;}#sk-container-id-1 label.sk-toggleable__label-arrow:hover:before {color: black;}#sk-container-id-1 div.sk-estimator:hover label.sk-toggleable__label-arrow:before {color: black;}#sk-container-id-1 div.sk-toggleable__content {max-height: 0;max-width: 0;overflow: hidden;text-align: left;background-color: #f0f8ff;}#sk-container-id-1 div.sk-toggleable__content pre {margin: 0.2em;color: black;border-radius: 0.25em;background-color: #f0f8ff;}#sk-container-id-1 input.sk-toggleable__control:checked~div.sk-toggleable__content {max-height: 200px;max-width: 100%;overflow: auto;}#sk-container-id-1 input.sk-toggleable__control:checked~label.sk-toggleable__label-arrow:before {content: \"▾\";}#sk-container-id-1 div.sk-estimator input.sk-toggleable__control:checked~label.sk-toggleable__label {background-color: #d4ebff;}#sk-container-id-1 div.sk-label input.sk-toggleable__control:checked~label.sk-toggleable__label {background-color: #d4ebff;}#sk-container-id-1 input.sk-hidden--visually {border: 0;clip: rect(1px 1px 1px 1px);clip: rect(1px, 1px, 1px, 1px);height: 1px;margin: -1px;overflow: hidden;padding: 0;position: absolute;width: 1px;}#sk-container-id-1 div.sk-estimator {font-family: monospace;background-color: #f0f8ff;border: 1px dotted black;border-radius: 0.25em;box-sizing: border-box;margin-bottom: 0.5em;}#sk-container-id-1 div.sk-estimator:hover {background-color: #d4ebff;}#sk-container-id-1 div.sk-parallel-item::after {content: \"\";width: 100%;border-bottom: 1px solid gray;flex-grow: 1;}#sk-container-id-1 div.sk-label:hover label.sk-toggleable__label {background-color: #d4ebff;}#sk-container-id-1 div.sk-serial::before {content: \"\";position: absolute;border-left: 1px solid gray;box-sizing: border-box;top: 0;bottom: 0;left: 50%;z-index: 0;}#sk-container-id-1 div.sk-serial {display: flex;flex-direction: column;align-items: center;background-color: white;padding-right: 0.2em;padding-left: 0.2em;position: relative;}#sk-container-id-1 div.sk-item {position: relative;z-index: 1;}#sk-container-id-1 div.sk-parallel {display: flex;align-items: stretch;justify-content: center;background-color: white;position: relative;}#sk-container-id-1 div.sk-item::before, #sk-container-id-1 div.sk-parallel-item::before {content: \"\";position: absolute;border-left: 1px solid gray;box-sizing: border-box;top: 0;bottom: 0;left: 50%;z-index: -1;}#sk-container-id-1 div.sk-parallel-item {display: flex;flex-direction: column;z-index: 1;position: relative;background-color: white;}#sk-container-id-1 div.sk-parallel-item:first-child::after {align-self: flex-end;width: 50%;}#sk-container-id-1 div.sk-parallel-item:last-child::after {align-self: flex-start;width: 50%;}#sk-container-id-1 div.sk-parallel-item:only-child::after {width: 0;}#sk-container-id-1 div.sk-dashed-wrapped {border: 1px dashed gray;margin: 0 0.4em 0.5em 0.4em;box-sizing: border-box;padding-bottom: 0.4em;background-color: white;}#sk-container-id-1 div.sk-label label {font-family: monospace;font-weight: bold;display: inline-block;line-height: 1.2em;}#sk-container-id-1 div.sk-label-container {text-align: center;}#sk-container-id-1 div.sk-container {/* jupyter's `normalize.less` sets `[hidden] { display: none; }` but bootstrap.min.css set `[hidden] { display: none !important; }` so we also need the `!important` here to be able to override the default hidden behavior on the sphinx rendered scikit-learn.org. See: https://github.com/scikit-learn/scikit-learn/issues/21755 */display: inline-block !important;position: relative;}#sk-container-id-1 div.sk-text-repr-fallback {display: none;}</style><div id=\"sk-container-id-1\" class=\"sk-top-container\"><div class=\"sk-text-repr-fallback\"><pre>LogisticRegression()</pre><b>In a Jupyter environment, please rerun this cell to show the HTML representation or trust the notebook. <br />On GitHub, the HTML representation is unable to render, please try loading this page with nbviewer.org.</b></div><div class=\"sk-container\" hidden><div class=\"sk-item\"><div class=\"sk-estimator sk-toggleable\"><input class=\"sk-toggleable__control sk-hidden--visually\" id=\"sk-estimator-id-1\" type=\"checkbox\" checked><label for=\"sk-estimator-id-1\" class=\"sk-toggleable__label sk-toggleable__label-arrow\">LogisticRegression</label><div class=\"sk-toggleable__content\"><pre>LogisticRegression()</pre></div></div></div></div></div>"
      ],
      "text/plain": [
       "LogisticRegression()"
      ]
     },
     "execution_count": 71,
     "metadata": {},
     "output_type": "execute_result"
    }
   ],
   "source": [
    "lr_model.fit(x_train1, y_train1.ravel())"
   ]
  },
  {
   "cell_type": "markdown",
   "id": "87ae6455",
   "metadata": {},
   "source": [
    "Membuat prediksi menggunakan model linear regression (lr_model) pada data pengujian (x_test1)."
   ]
  },
  {
   "cell_type": "code",
   "execution_count": 72,
   "id": "ef55f713",
   "metadata": {},
   "outputs": [],
   "source": [
    "y_pred1 = lr_model.predict(x_test1)"
   ]
  },
  {
   "cell_type": "markdown",
   "id": "5f31106e",
   "metadata": {},
   "source": [
    "Membuat prediksi pada data pelatihan (x_train1). Selanjutnya, mengukur akurasi model dengan membandingkan prediksi dengan nilai sebenarnya pada target pelatihan (y_train1). Hasil akurasi kemudian dicetak ke layar sebagai ukuran seberapa baik model dapat memprediksi data pelatihan."
   ]
  },
  {
   "cell_type": "code",
   "execution_count": 73,
   "id": "a20c0e79",
   "metadata": {},
   "outputs": [
    {
     "name": "stdout",
     "output_type": "stream",
     "text": [
      "Accuracy : 0.8371859296482412\n"
     ]
    }
   ],
   "source": [
    "lr_predict_train = lr_model.predict(x_train1)\n",
    "\n",
    "print(\"Accuracy :\", metrics.accuracy_score(y_train1, lr_predict_train))"
   ]
  },
  {
   "cell_type": "markdown",
   "id": "6dd145a2",
   "metadata": {},
   "source": [
    "Membuat prediksi pada data test (x_test1). Selanjutnya, mengukur akurasi model dengan membandingkan prediksi dengan nilai sebenarnya pada target pelatihan (y_test1). Hasil akurasi kemudian dicetak ke layar sebagai ukuran seberapa baik model dapat memprediksi data pelatihan."
   ]
  },
  {
   "cell_type": "code",
   "execution_count": 74,
   "id": "1a7200a6",
   "metadata": {},
   "outputs": [
    {
     "name": "stdout",
     "output_type": "stream",
     "text": [
      "Accuracy : 0.8397811645173896\n"
     ]
    }
   ],
   "source": [
    "lr_predict_test = lr_model.predict(x_test1)\n",
    "\n",
    "print(\"Accuracy :\", metrics.accuracy_score(y_test1, lr_predict_test))"
   ]
  },
  {
   "cell_type": "markdown",
   "id": "9c304278",
   "metadata": {},
   "source": [
    "### Evaluasi"
   ]
  },
  {
   "cell_type": "markdown",
   "id": "1bf10ee0",
   "metadata": {},
   "source": [
    "Menampilkan confusion matrix untuk model regresi linear pada data pengujian (x_test1 dan y_test1). Confusion matrix memberikan gambaran tentang seberapa baik model dapat memprediksi kelas-kelas pada data pengujian.\n",
    "\n",
    "1. Kategori Pertama:\n",
    "\n",
    "- True Positive (TP): 10 data diklasifikasikan dengan benar sebagai kategori pertama.\n",
    "- False Positive (FP): Ada 4 data yang salah diklasifikasikan sebagai kategori pertama.\n",
    "- False Negative (FN): Tidak ada data yang seharusnya masuk ke kategori pertama, tapi terklasifikasikan sebagai kategori lain.\n",
    "- True Negative (TN): Tidak ada data yang seharusnya masuk ke kategori pertama, dan benar diklasifikasikan sebagai bukan kategori pertama.\n",
    "\n",
    "2. Kategori Kedua:\n",
    "\n",
    "- True Positive (TP): 197 data diklasifikasikan dengan benar sebagai kategori kedua.\n",
    "- False Positive (FP): Ada 9 data yang salah diklasifikasikan sebagai kategori kedua.\n",
    "- False Negative (FN): Ada 139 data yang seharusnya masuk ke kategori kedua, tapi terklasifikasikan sebagai kategori lain.\n",
    "- True Negative (TN): Tidak ada data yang seharusnya masuk ke kategori kedua, dan benar diklasifikasikan sebagai bukan kategori kedua.\n",
    "\n",
    "3. Kategori Ketiga:\n",
    "\n",
    "- True Positive (TP): 1601 data diklasifikasikan dengan benar sebagai kategori ketiga.\n",
    "- False Positive (FP): Ada 2 data yang salah diklasifikasikan sebagai kategori ketiga.\n",
    "- False Negative (FN): Ada 74 data yang seharusnya masuk ke kategori ketiga, tapi terklasifikasikan sebagai kategori lain.\n",
    "- True Negative (TN): Ada 19 data yang seharusnya masuk ke kategori ketiga, tapi terklasifikasikan sebagai kategori lain.\n",
    "\n",
    "4. Kategori Keempat:\n",
    "\n",
    "- True Positive (TP): 341 data diklasifikasikan dengan benar sebagai kategori keempat.\n",
    "- False Positive (FP): Ada 160 data yang salah diklasifikasikan sebagai kategori keempat.\n",
    "- False Negative (FN): Ada 2 data yang seharusnya masuk ke kategori keempat, tapi terklasifikasikan sebagai kategori lain.\n",
    "- True Negative (TN): Ada 1 data yang seharusnya masuk ke kategori keempat, tapi terklasifikasikan sebagai kategori lain."
   ]
  },
  {
   "cell_type": "code",
   "execution_count": 75,
   "id": "1c5c9482",
   "metadata": {},
   "outputs": [
    {
     "name": "stdout",
     "output_type": "stream",
     "text": [
      "Confusion Matrix\n",
      "[[  10    4    0    0]\n",
      " [   9  197  139    0]\n",
      " [   2   74 1601   19]\n",
      " [   1    2  160  341]]\n"
     ]
    }
   ],
   "source": [
    "# confusion matrix\n",
    "print(\"Confusion Matrix\")\n",
    "print(\"{0}\".format(metrics.confusion_matrix(y_test1, lr_predict_test)))"
   ]
  },
  {
   "cell_type": "markdown",
   "id": "c1e0edc7",
   "metadata": {},
   "source": [
    "# Classification Report\n",
    "\n",
    "Classification report memberikan rangkuman metrik evaluasi seperti precision, recall, dan F1-score untuk setiap kategori dan keseluruhan model. Berikut penjelasan singkatnya:\n",
    "\n",
    "- **Precision:** Ketepatan model dalam mengidentifikasi instance positif. Dihitung sebagai TP / (TP + FP).\n",
    "- **Recall:** Seberapa baik model dapat menemukan semua instance positif. Dihitung sebagai TP / (TP + FN).\n",
    "- **F1-score:** Rata-rata harmonik dari precision dan recall, memberikan keseimbangan antara keduanya.\n",
    "- **Support:** Jumlah instance dalam setiap kategori.\n",
    "- **Accuracy:** Akurasi keseluruhan model.\n",
    "\n",
    "Berikut interpretasi singkat untuk setiap kategori dan metrik keseluruhan:\n",
    "\n",
    "- **Kategori 0 (0):**\n",
    "  - Precision: 0.45\n",
    "  - Recall: 0.71\n",
    "  - F1-score: 0.56\n",
    "\n",
    "- **Kategori 1 (1):**\n",
    "  - Precision: 0.71\n",
    "  - Recall: 0.57\n",
    "  - F1-score: 0.63\n",
    "\n",
    "- **Kategori 2 (2):**\n",
    "  - Precision: 0.84\n",
    "  - Recall: 0.94\n",
    "  - F1-score: 0.89\n",
    "\n",
    "- **Kategori 3 (3):**\n",
    "  - Precision: 0.95\n",
    "  - Recall: 0.68\n",
    "  - F1-score: 0.79\n",
    "\n",
    "- **Keseluruhan Model:**\n",
    "  - Akurasi (Accuracy): 0.84\n",
    "  - Macro avg F1-score: 0.72\n",
    "  - Weighted avg F1-score: 0.83\n",
    "\n",
    "Classification report memberikan pandangan holistik tentang performa model pada setiap kategori dan secara keseluruhan. Akurasi, F1-score, precision, dan recall dapat membantu memahami seberapa baik model berkinerja dalam mengklasifikasikan data pada masing-masing kategori.\n"
   ]
  },
  {
   "cell_type": "code",
   "execution_count": 76,
   "id": "42ff3d54",
   "metadata": {},
   "outputs": [
    {
     "name": "stdout",
     "output_type": "stream",
     "text": [
      "Classification Report :\n",
      "              precision    recall  f1-score   support\n",
      "\n",
      "           0       0.45      0.71      0.56        14\n",
      "           1       0.71      0.57      0.63       345\n",
      "           2       0.84      0.94      0.89      1696\n",
      "           3       0.95      0.68      0.79       504\n",
      "\n",
      "    accuracy                           0.84      2559\n",
      "   macro avg       0.74      0.73      0.72      2559\n",
      "weighted avg       0.84      0.84      0.83      2559\n",
      "\n"
     ]
    }
   ],
   "source": [
    "# Classification report\n",
    "print(\"Classification Report :\")\n",
    "print(metrics.classification_report(y_test1, lr_predict_test))"
   ]
  },
  {
   "cell_type": "code",
   "execution_count": null,
   "id": "9ed001d7",
   "metadata": {},
   "outputs": [],
   "source": []
  },
  {
   "cell_type": "code",
   "execution_count": 77,
   "id": "624b5cb6",
   "metadata": {},
   "outputs": [
    {
     "data": {
      "image/png": "[encoded data removed]",
      "text/plain": [
       "<Figure size 600x400 with 2 Axes>"
      ]
     },
     "metadata": {},
     "output_type": "display_data"
    }
   ],
   "source": [
    "cm = confusion_matrix(y_test1, y_pred1)\n",
    "\n",
    "fig, ax = plt.subplots(figsize=(6,4))\n",
    "ax.set_title(\"Logistic Regression Confusion Matrix\", fontsize=10)\n",
    "sns.heatmap(cm, annot=True, cmap='plasma', fmt='g', \n",
    "            xticklabels = ('Predicted 0s','Predicted 1s'), \n",
    "            yticklabels = ('Actual 0s','Actual 1s'));"
   ]
  },
  {
   "cell_type": "markdown",
   "id": "f72349ca",
   "metadata": {},
   "source": [
    "## 2. Suppport Vector Machine\n",
    "### Modelling"
   ]
  },
  {
   "cell_type": "markdown",
   "id": "9eceaf52",
   "metadata": {},
   "source": [
    "Load Model SVM"
   ]
  },
  {
   "cell_type": "code",
   "execution_count": 78,
   "id": "f3f80b2c",
   "metadata": {},
   "outputs": [],
   "source": [
    "svmcla_model = OneVsRestClassifier(BaggingClassifier(SVC(C=10, kernel='rbf', \n",
    "                                                         random_state=9, \n",
    "                                                         probability=True), n_jobs=-1))"
   ]
  },
  {
   "cell_type": "markdown",
   "id": "e8b615bc",
   "metadata": {},
   "source": [
    "Melakukan persiapan data untuk pemodelan dengan memisahkan fitur (x) dan target (y) dari DataFrame df_kondisi. Fitur-fitur tersebut disimpan dalam variabel x, sedangkan targetnya disimpan dalam variabel y. Selanjutnya, data dibagi menjadi data pelatihan (x_train2, y_train2) dan data pengujian (x_test2, y_test2) menggunakan fungsi train_test_split. Pembagian dilakukan dengan mengalokasikan 70% data untuk pelatihan dan 30% untuk pengujian, serta menggunakan random_state untuk memastikan reproduktibilitas hasil."
   ]
  },
  {
   "cell_type": "code",
   "execution_count": 79,
   "id": "31602bbb",
   "metadata": {},
   "outputs": [],
   "source": [
    "x2 = df_kondisi.drop(['categori'], axis = 1)\n",
    "y2 = df_kondisi['categori']\n",
    "\n",
    "# Memisahkan data menjadi data training dan data testing\n",
    "x_train2, x_test2, y_train2, y_test2 = train_test_split(x2, y2, test_size = 0.3, random_state=0)"
   ]
  },
  {
   "cell_type": "markdown",
   "id": "5f6362af",
   "metadata": {},
   "source": [
    "Menampilkan tahap pelatihan (training) model dengan menggunakan algoritma SVM (svmcla_model). "
   ]
  },
  {
   "cell_type": "code",
   "execution_count": 80,
   "id": "047f4f8b",
   "metadata": {
    "scrolled": true
   },
   "outputs": [
    {
     "data": {
      "text/html": [
       "<style>#sk-container-id-2 {color: black;background-color: white;}#sk-container-id-2 pre{padding: 0;}#sk-container-id-2 div.sk-toggleable {background-color: white;}#sk-container-id-2 label.sk-toggleable__label {cursor: pointer;display: block;width: 100%;margin-bottom: 0;padding: 0.3em;box-sizing: border-box;text-align: center;}#sk-container-id-2 label.sk-toggleable__label-arrow:before {content: \"▸\";float: left;margin-right: 0.25em;color: #696969;}#sk-container-id-2 label.sk-toggleable__label-arrow:hover:before {color: black;}#sk-container-id-2 div.sk-estimator:hover label.sk-toggleable__label-arrow:before {color: black;}#sk-container-id-2 div.sk-toggleable__content {max-height: 0;max-width: 0;overflow: hidden;text-align: left;background-color: #f0f8ff;}#sk-container-id-2 div.sk-toggleable__content pre {margin: 0.2em;color: black;border-radius: 0.25em;background-color: #f0f8ff;}#sk-container-id-2 input.sk-toggleable__control:checked~div.sk-toggleable__content {max-height: 200px;max-width: 100%;overflow: auto;}#sk-container-id-2 input.sk-toggleable__control:checked~label.sk-toggleable__label-arrow:before {content: \"▾\";}#sk-container-id-2 div.sk-estimator input.sk-toggleable__control:checked~label.sk-toggleable__label {background-color: #d4ebff;}#sk-container-id-2 div.sk-label input.sk-toggleable__control:checked~label.sk-toggleable__label {background-color: #d4ebff;}#sk-container-id-2 input.sk-hidden--visually {border: 0;clip: rect(1px 1px 1px 1px);clip: rect(1px, 1px, 1px, 1px);height: 1px;margin: -1px;overflow: hidden;padding: 0;position: absolute;width: 1px;}#sk-container-id-2 div.sk-estimator {font-family: monospace;background-color: #f0f8ff;border: 1px dotted black;border-radius: 0.25em;box-sizing: border-box;margin-bottom: 0.5em;}#sk-container-id-2 div.sk-estimator:hover {background-color: #d4ebff;}#sk-container-id-2 div.sk-parallel-item::after {content: \"\";width: 100%;border-bottom: 1px solid gray;flex-grow: 1;}#sk-container-id-2 div.sk-label:hover label.sk-toggleable__label {background-color: #d4ebff;}#sk-container-id-2 div.sk-serial::before {content: \"\";position: absolute;border-left: 1px solid gray;box-sizing: border-box;top: 0;bottom: 0;left: 50%;z-index: 0;}#sk-container-id-2 div.sk-serial {display: flex;flex-direction: column;align-items: center;background-color: white;padding-right: 0.2em;padding-left: 0.2em;position: relative;}#sk-container-id-2 div.sk-item {position: relative;z-index: 1;}#sk-container-id-2 div.sk-parallel {display: flex;align-items: stretch;justify-content: center;background-color: white;position: relative;}#sk-container-id-2 div.sk-item::before, #sk-container-id-2 div.sk-parallel-item::before {content: \"\";position: absolute;border-left: 1px solid gray;box-sizing: border-box;top: 0;bottom: 0;left: 50%;z-index: -1;}#sk-container-id-2 div.sk-parallel-item {display: flex;flex-direction: column;z-index: 1;position: relative;background-color: white;}#sk-container-id-2 div.sk-parallel-item:first-child::after {align-self: flex-end;width: 50%;}#sk-container-id-2 div.sk-parallel-item:last-child::after {align-self: flex-start;width: 50%;}#sk-container-id-2 div.sk-parallel-item:only-child::after {width: 0;}#sk-container-id-2 div.sk-dashed-wrapped {border: 1px dashed gray;margin: 0 0.4em 0.5em 0.4em;box-sizing: border-box;padding-bottom: 0.4em;background-color: white;}#sk-container-id-2 div.sk-label label {font-family: monospace;font-weight: bold;display: inline-block;line-height: 1.2em;}#sk-container-id-2 div.sk-label-container {text-align: center;}#sk-container-id-2 div.sk-container {/* jupyter's `normalize.less` sets `[hidden] { display: none; }` but bootstrap.min.css set `[hidden] { display: none !important; }` so we also need the `!important` here to be able to override the default hidden behavior on the sphinx rendered scikit-learn.org. See: https://github.com/scikit-learn/scikit-learn/issues/21755 */display: inline-block !important;position: relative;}#sk-container-id-2 div.sk-text-repr-fallback {display: none;}</style><div id=\"sk-container-id-2\" class=\"sk-top-container\"><div class=\"sk-text-repr-fallback\"><pre>OneVsRestClassifier(estimator=BaggingClassifier(estimator=SVC(C=10,\n",
       "                                                              probability=True,\n",
       "                                                              random_state=9),\n",
       "                                                n_jobs=-1))</pre><b>In a Jupyter environment, please rerun this cell to show the HTML representation or trust the notebook. <br />On GitHub, the HTML representation is unable to render, please try loading this page with nbviewer.org.</b></div><div class=\"sk-container\" hidden><div class=\"sk-item sk-dashed-wrapped\"><div class=\"sk-label-container\"><div class=\"sk-label sk-toggleable\"><input class=\"sk-toggleable__control sk-hidden--visually\" id=\"sk-estimator-id-2\" type=\"checkbox\" ><label for=\"sk-estimator-id-2\" class=\"sk-toggleable__label sk-toggleable__label-arrow\">OneVsRestClassifier</label><div class=\"sk-toggleable__content\"><pre>OneVsRestClassifier(estimator=BaggingClassifier(estimator=SVC(C=10,\n",
       "                                                              probability=True,\n",
       "                                                              random_state=9),\n",
       "                                                n_jobs=-1))</pre></div></div></div><div class=\"sk-parallel\"><div class=\"sk-parallel-item\"><div class=\"sk-item\"><div class=\"sk-label-container\"><div class=\"sk-label sk-toggleable\"><input class=\"sk-toggleable__control sk-hidden--visually\" id=\"sk-estimator-id-3\" type=\"checkbox\" ><label for=\"sk-estimator-id-3\" class=\"sk-toggleable__label sk-toggleable__label-arrow\">estimator: BaggingClassifier</label><div class=\"sk-toggleable__content\"><pre>BaggingClassifier(estimator=SVC(C=10, probability=True, random_state=9),\n",
       "                  n_jobs=-1)</pre></div></div></div><div class=\"sk-serial\"><div class=\"sk-item sk-dashed-wrapped\"><div class=\"sk-parallel\"><div class=\"sk-parallel-item\"><div class=\"sk-item\"><div class=\"sk-label-container\"><div class=\"sk-label sk-toggleable\"><input class=\"sk-toggleable__control sk-hidden--visually\" id=\"sk-estimator-id-4\" type=\"checkbox\" ><label for=\"sk-estimator-id-4\" class=\"sk-toggleable__label sk-toggleable__label-arrow\">estimator: SVC</label><div class=\"sk-toggleable__content\"><pre>SVC(C=10, probability=True, random_state=9)</pre></div></div></div><div class=\"sk-serial\"><div class=\"sk-item\"><div class=\"sk-estimator sk-toggleable\"><input class=\"sk-toggleable__control sk-hidden--visually\" id=\"sk-estimator-id-5\" type=\"checkbox\" ><label for=\"sk-estimator-id-5\" class=\"sk-toggleable__label sk-toggleable__label-arrow\">SVC</label><div class=\"sk-toggleable__content\"><pre>SVC(C=10, probability=True, random_state=9)</pre></div></div></div></div></div></div></div></div></div></div></div></div></div></div></div>"
      ],
      "text/plain": [
       "OneVsRestClassifier(estimator=BaggingClassifier(estimator=SVC(C=10,\n",
       "                                                              probability=True,\n",
       "                                                              random_state=9),\n",
       "                                                n_jobs=-1))"
      ]
     },
     "execution_count": 80,
     "metadata": {},
     "output_type": "execute_result"
    }
   ],
   "source": [
    "# model training\n",
    "svmcla_model.fit(x_train2, y_train2)"
   ]
  },
  {
   "cell_type": "markdown",
   "id": "58995e44",
   "metadata": {},
   "source": [
    "Membuat prediksi menggunakan model svm (svmcla_model) pada data pengujian (x_test2)."
   ]
  },
  {
   "cell_type": "code",
   "execution_count": 81,
   "id": "d3975757",
   "metadata": {},
   "outputs": [],
   "source": [
    "y_pred2 = svmcla_model.predict(x_test2)"
   ]
  },
  {
   "cell_type": "markdown",
   "id": "bebdc838",
   "metadata": {},
   "source": [
    "Membuat prediksi pada data pelatihan (x_train2). Selanjutnya, mengukur akurasi model dengan membandingkan prediksi dengan nilai sebenarnya pada target pelatihan (y_train2). Hasil akurasi kemudian dicetak ke layar sebagai ukuran seberapa baik model dapat memprediksi data pelatihan."
   ]
  },
  {
   "cell_type": "code",
   "execution_count": 82,
   "id": "db738198",
   "metadata": {},
   "outputs": [
    {
     "name": "stdout",
     "output_type": "stream",
     "text": [
      "Accuracy : 0.9938023450586264\n"
     ]
    }
   ],
   "source": [
    "# Mengevaluasi model data train\n",
    "svm_predict_train = svmcla_model.predict(x_train2)\n",
    "\n",
    "print(\"Accuracy :\", metrics.accuracy_score(y_train2, svm_predict_train))"
   ]
  },
  {
   "cell_type": "markdown",
   "id": "f23fc50b",
   "metadata": {},
   "source": [
    "Membuat prediksi pada data test (x_test2). Selanjutnya, mengukur akurasi model dengan membandingkan prediksi dengan nilai sebenarnya pada target pelatihan (y_test2). Hasil akurasi kemudian dicetak ke layar sebagai ukuran seberapa baik model dapat memprediksi data pelatihan."
   ]
  },
  {
   "cell_type": "code",
   "execution_count": 83,
   "id": "6af0b1f3",
   "metadata": {},
   "outputs": [
    {
     "name": "stdout",
     "output_type": "stream",
     "text": [
      "Accuracy : 0.9941383352872216\n"
     ]
    }
   ],
   "source": [
    "# Mengevaluasi model data test\n",
    "svm_predict_test = svmcla_model.predict(x_test2)\n",
    "\n",
    "print(\"Accuracy :\", metrics.accuracy_score(y_test2, svm_predict_test))"
   ]
  },
  {
   "cell_type": "markdown",
   "id": "cf071711",
   "metadata": {},
   "source": [
    "### Evaluasi"
   ]
  },
  {
   "cell_type": "markdown",
   "id": "bca8b7cd",
   "metadata": {},
   "source": [
    "Menampilkan confusion matrix untuk model SVM pada data pengujian (x_test2 dan y_test2). Confusion matrix memberikan gambaran tentang seberapa baik model dapat memprediksi kelas-kelas pada data pengujian.\n",
    "\n",
    "1. Kategori Pertama:\n",
    "\n",
    "- True Positive (TP): 12 data diklasifikasikan dengan benar sebagai kategori pertama.\n",
    "- False Positive (FP): Ada 2 data yang salah diklasifikasikan sebagai kategori pertama.\n",
    "- False Negative (FN): Tidak ada data yang seharusnya masuk ke kategori pertama, tapi terklasifikasikan sebagai kategori lain.\n",
    "- True Negative (TN): Tidak ada data yang seharusnya masuk ke kategori pertama, dan benar diklasifikasikan sebagai bukan kategori pertama.\n",
    "\n",
    "2. Kategori Kedua:\n",
    "\n",
    "- True Positive (TP): 344 data diklasifikasikan dengan benar sebagai kategori kedua.\n",
    "- False Positive (FP): Tidak ada data yang salah diklasifikasikan sebagai kategori kedua.\n",
    "- False Negative (FN): Ada 1 data yang seharusnya masuk ke kategori kedua, tapi terklasifikasikan sebagai kategori lain.\n",
    "- True Negative (TN): Tidak ada data yang seharusnya masuk ke kategori kedua, dan benar diklasifikasikan sebagai bukan kategori kedua.\n",
    "    \n",
    "3. Kategori Ketiga:\n",
    "\n",
    "- True Positive (TP): 1693 data diklasifikasikan dengan benar sebagai kategori ketiga.\n",
    "- False Positive (FP): Ada 3 data yang salah diklasifikasikan sebagai kategori ketiga.\n",
    "- False Negative (FN): Tidak ada data yang seharusnya masuk ke kategori ketiga, tapi terklasifikasikan sebagai kategori lain.\n",
    "- True Negative (TN): Tidak ada data yang seharusnya masuk ke kategori ketiga, dan benar diklasifikasikan sebagai bukan kategori ketiga.\n",
    "\n",
    "4. Kategori Keempat:\n",
    "\n",
    "- True Positive (TP): 493 data diklasifikasikan dengan benar sebagai kategori keempat.\n",
    "- False Positive (FP): Ada 11 data yang salah diklasifikasikan sebagai kategori keempat.\n",
    "- False Negative (FN): Ada 0 data yang seharusnya masuk ke kategori keempat, tapi terklasifikasikan sebagai kategori lain.\n",
    "- True Negative (TN): Tidak ada data yang seharusnya masuk ke kategori keempat, dan benar diklasifikasikan sebagai bukan kategori keempat."
   ]
  },
  {
   "cell_type": "code",
   "execution_count": 84,
   "id": "7e8a1357",
   "metadata": {},
   "outputs": [
    {
     "name": "stdout",
     "output_type": "stream",
     "text": [
      "Confusion Matrix :\n",
      "[[  12    2    0    0]\n",
      " [   0  344    1    0]\n",
      " [   0    0 1695    1]\n",
      " [   0    0   11  493]]\n"
     ]
    }
   ],
   "source": [
    "# confusion matrix\n",
    "print(\"Confusion Matrix :\")\n",
    "print(\"{0}\".format(metrics.confusion_matrix(y_test2, svm_predict_test)))"
   ]
  },
  {
   "cell_type": "markdown",
   "id": "6224dba1",
   "metadata": {},
   "source": [
    "# Classification Report\n",
    "\n",
    "Classification report memberikan rangkuman metrik evaluasi seperti precision, recall, dan F1-score untuk setiap kategori dan keseluruhan model. Berikut penjelasan singkatnya:\n",
    "\n",
    "- **Precision:** Ketepatan model dalam mengidentifikasi instance positif. Dihitung sebagai TP / (TP + FP).\n",
    "- **Recall:** Seberapa baik model dapat menemukan semua instance positif. Dihitung sebagai TP / (TP + FN).\n",
    "- **F1-score:** Rata-rata harmonik dari precision dan recall, memberikan keseimbangan antara keduanya.\n",
    "- **Support:** Jumlah instance dalam setiap kategori.\n",
    "- **Accuracy:** Akurasi keseluruhan model.\n",
    "\n",
    "Berikut interpretasi singkat untuk setiap kategori dan metrik keseluruhan:\n",
    "\n",
    "- **Kategori 0 (0):**\n",
    "  - Precision: 1.00\n",
    "  - Recall: 0.86\n",
    "  - F1-score: 0.92\n",
    "\n",
    "- **Kategori 1 (1):**\n",
    "  - Precision: 0.99\n",
    "  - Recall: 1.00\n",
    "  - F1-score: 1.00\n",
    "\n",
    "- **Kategori 2 (2):**\n",
    "  - Precision: 0.99\n",
    "  - Recall: 1.00\n",
    "  - F1-score: 1.00\n",
    "\n",
    "- **Kategori 3 (3):**\n",
    "  - Precision: 0.99\n",
    "  - Recall: 0.98\n",
    "  - F1-score: 0.99\n",
    "\n",
    "- **Keseluruhan Model:**\n",
    "  - Akurasi (Accuracy): 0.99\n",
    "  - Macro avg F1-score: 0.98\n",
    "  - Weighted avg F1-score: 0.99\n",
    "\n",
    "Classification report memberikan pandangan holistik tentang performa model pada setiap kategori dan secara keseluruhan. Akurasi, F1-score, precision, dan recall dapat membantu memahami seberapa baik model berkinerja dalam mengklasifikasikan data pada masing-masing kategori.\n"
   ]
  },
  {
   "cell_type": "code",
   "execution_count": 85,
   "id": "0d7184b2",
   "metadata": {},
   "outputs": [
    {
     "name": "stdout",
     "output_type": "stream",
     "text": [
      "Classification Report :\n",
      "              precision    recall  f1-score   support\n",
      "\n",
      "           0       1.00      0.86      0.92        14\n",
      "           1       0.99      1.00      1.00       345\n",
      "           2       0.99      1.00      1.00      1696\n",
      "           3       1.00      0.98      0.99       504\n",
      "\n",
      "    accuracy                           0.99      2559\n",
      "   macro avg       1.00      0.96      0.98      2559\n",
      "weighted avg       0.99      0.99      0.99      2559\n",
      "\n"
     ]
    }
   ],
   "source": [
    "# Classification report\n",
    "print(\"Classification Report :\")\n",
    "print(metrics.classification_report(y_test2, svm_predict_test))"
   ]
  },
  {
   "cell_type": "code",
   "execution_count": 86,
   "id": "0b162437",
   "metadata": {},
   "outputs": [
    {
     "data": {
      "image/png": "[encoded data removed]",
      "text/plain": [
       "<Figure size 600x400 with 2 Axes>"
      ]
     },
     "metadata": {},
     "output_type": "display_data"
    }
   ],
   "source": [
    "cm2 = confusion_matrix(y_test2, y_pred2)\n",
    "\n",
    "fig, ax = plt.subplots(figsize=(6,4))\n",
    "ax.set_title(\"SVM Confusion Matrix\", fontsize=10)\n",
    "sns.heatmap(cm2, annot=True, cmap='Reds', fmt='g', \n",
    "            xticklabels = ('Predicted 0s','Predicted 1s'), \n",
    "            yticklabels = ('Actual 0s','Actual 1s'));"
   ]
  },
  {
   "cell_type": "markdown",
   "id": "c37285c0",
   "metadata": {},
   "source": [
    "## Model Inference"
   ]
  },
  {
   "cell_type": "code",
   "execution_count": 87,
   "id": "e86c0b5a",
   "metadata": {},
   "outputs": [
    {
     "name": "stdout",
     "output_type": "stream",
     "text": [
      "prediksi kualitas udara : [2]\n"
     ]
    }
   ],
   "source": [
    "input_data = np.array([[65.0,13.0,26.0,56.0,10.0,65.0]])\n",
    "prediction = svmcla_model.predict(input_data)\n",
    "print(\"prediksi kualitas udara :\", prediction)"
   ]
  },
  {
   "cell_type": "code",
   "execution_count": 88,
   "id": "ad6d9e12",
   "metadata": {},
   "outputs": [
    {
     "name": "stdout",
     "output_type": "stream",
     "text": [
      "prediksi kualitas udara : [1]\n"
     ]
    }
   ],
   "source": [
    "input_data = np.array([[15.0,16.0,15.0,101.0,8.0,101.0]])\n",
    "prediction = lr_model.predict(input_data)\n",
    "print(\"prediksi kualitas udara :\", prediction)"
   ]
  },
  {
   "cell_type": "code",
   "execution_count": 89,
   "id": "2589cd66",
   "metadata": {},
   "outputs": [],
   "source": [
    "model_inference = {'pm10': [52.0, 44.0, 18.0, 22.0],\n",
    "                   'so2': [19.0, 19.0, 32.0, 33.0],  \n",
    "                   'co': [26.0, 26.0, 4.0, 5.0],\n",
    "                   'o3': [33.0, 36.0, 41.0, 35.0],\n",
    "                   'no2': [2.0, 2.0, 9.0, 3.0],\n",
    "                   'max': [59.0, 44.0, 41.0, 35.0],\n",
    "                  }\n",
    "model_inference = pd.DataFrame(model_inference)"
   ]
  },
  {
   "cell_type": "code",
   "execution_count": 90,
   "id": "def34061",
   "metadata": {},
   "outputs": [
    {
     "data": {
      "text/html": [
       "<div>\n",
       "<style scoped>\n",
       "    .dataframe tbody tr th:only-of-type {\n",
       "        vertical-align: middle;\n",
       "    }\n",
       "\n",
       "    .dataframe tbody tr th {\n",
       "        vertical-align: top;\n",
       "    }\n",
       "\n",
       "    .dataframe thead th {\n",
       "        text-align: right;\n",
       "    }\n",
       "</style>\n",
       "<table border=\"1\" class=\"dataframe\">\n",
       "  <thead>\n",
       "    <tr style=\"text-align: right;\">\n",
       "      <th></th>\n",
       "      <th>pm10</th>\n",
       "      <th>so2</th>\n",
       "      <th>co</th>\n",
       "      <th>o3</th>\n",
       "      <th>no2</th>\n",
       "      <th>max</th>\n",
       "    </tr>\n",
       "  </thead>\n",
       "  <tbody>\n",
       "    <tr>\n",
       "      <th>0</th>\n",
       "      <td>52.0</td>\n",
       "      <td>19.0</td>\n",
       "      <td>26.0</td>\n",
       "      <td>33.0</td>\n",
       "      <td>2.0</td>\n",
       "      <td>59.0</td>\n",
       "    </tr>\n",
       "    <tr>\n",
       "      <th>1</th>\n",
       "      <td>44.0</td>\n",
       "      <td>19.0</td>\n",
       "      <td>26.0</td>\n",
       "      <td>36.0</td>\n",
       "      <td>2.0</td>\n",
       "      <td>44.0</td>\n",
       "    </tr>\n",
       "    <tr>\n",
       "      <th>2</th>\n",
       "      <td>18.0</td>\n",
       "      <td>32.0</td>\n",
       "      <td>4.0</td>\n",
       "      <td>41.0</td>\n",
       "      <td>9.0</td>\n",
       "      <td>41.0</td>\n",
       "    </tr>\n",
       "    <tr>\n",
       "      <th>3</th>\n",
       "      <td>22.0</td>\n",
       "      <td>33.0</td>\n",
       "      <td>5.0</td>\n",
       "      <td>35.0</td>\n",
       "      <td>3.0</td>\n",
       "      <td>35.0</td>\n",
       "    </tr>\n",
       "  </tbody>\n",
       "</table>\n",
       "</div>"
      ],
      "text/plain": [
       "   pm10   so2    co    o3  no2   max\n",
       "0  52.0  19.0  26.0  33.0  2.0  59.0\n",
       "1  44.0  19.0  26.0  36.0  2.0  44.0\n",
       "2  18.0  32.0   4.0  41.0  9.0  41.0\n",
       "3  22.0  33.0   5.0  35.0  3.0  35.0"
      ]
     },
     "execution_count": 90,
     "metadata": {},
     "output_type": "execute_result"
    }
   ],
   "source": [
    "model_inference"
   ]
  },
  {
   "cell_type": "code",
   "execution_count": 91,
   "id": "db22c126",
   "metadata": {},
   "outputs": [
    {
     "data": {
      "text/plain": [
       "array([2, 3, 3, 3], dtype=int64)"
      ]
     },
     "execution_count": 91,
     "metadata": {},
     "output_type": "execute_result"
    }
   ],
   "source": [
    "prediksi = svmcla_model.predict(model_inference)\n",
    "prediksi"
   ]
  },
  {
   "cell_type": "code",
   "execution_count": 92,
   "id": "7d5e9895",
   "metadata": {},
   "outputs": [
    {
     "data": {
      "text/plain": [
       "array([2, 3, 3, 3], dtype=int64)"
      ]
     },
     "execution_count": 92,
     "metadata": {},
     "output_type": "execute_result"
    }
   ],
   "source": [
    "prediksi = lr_model.predict(model_inference)\n",
    "prediksi"
   ]
  },
  {
   "cell_type": "code",
   "execution_count": 93,
   "id": "d6184e9e",
   "metadata": {
    "scrolled": true
   },
   "outputs": [
    {
     "data": {
      "text/html": [
       "<div>\n",
       "<style scoped>\n",
       "    .dataframe tbody tr th:only-of-type {\n",
       "        vertical-align: middle;\n",
       "    }\n",
       "\n",
       "    .dataframe tbody tr th {\n",
       "        vertical-align: top;\n",
       "    }\n",
       "\n",
       "    .dataframe thead th {\n",
       "        text-align: right;\n",
       "    }\n",
       "</style>\n",
       "<table border=\"1\" class=\"dataframe\">\n",
       "  <thead>\n",
       "    <tr style=\"text-align: right;\">\n",
       "      <th></th>\n",
       "      <th>pm10</th>\n",
       "      <th>so2</th>\n",
       "      <th>co</th>\n",
       "      <th>o3</th>\n",
       "      <th>no2</th>\n",
       "      <th>max</th>\n",
       "      <th>categori</th>\n",
       "    </tr>\n",
       "  </thead>\n",
       "  <tbody>\n",
       "    <tr>\n",
       "      <th>0</th>\n",
       "      <td>59.0</td>\n",
       "      <td>19.0</td>\n",
       "      <td>27.0</td>\n",
       "      <td>31.0</td>\n",
       "      <td>1.0</td>\n",
       "      <td>59.0</td>\n",
       "      <td>2</td>\n",
       "    </tr>\n",
       "    <tr>\n",
       "      <th>1</th>\n",
       "      <td>52.0</td>\n",
       "      <td>19.0</td>\n",
       "      <td>17.0</td>\n",
       "      <td>33.0</td>\n",
       "      <td>2.0</td>\n",
       "      <td>52.0</td>\n",
       "      <td>2</td>\n",
       "    </tr>\n",
       "    <tr>\n",
       "      <th>2</th>\n",
       "      <td>44.0</td>\n",
       "      <td>19.0</td>\n",
       "      <td>17.0</td>\n",
       "      <td>36.0</td>\n",
       "      <td>2.0</td>\n",
       "      <td>44.0</td>\n",
       "      <td>3</td>\n",
       "    </tr>\n",
       "    <tr>\n",
       "      <th>3</th>\n",
       "      <td>58.0</td>\n",
       "      <td>21.0</td>\n",
       "      <td>17.0</td>\n",
       "      <td>46.0</td>\n",
       "      <td>5.0</td>\n",
       "      <td>58.0</td>\n",
       "      <td>2</td>\n",
       "    </tr>\n",
       "    <tr>\n",
       "      <th>4</th>\n",
       "      <td>70.0</td>\n",
       "      <td>19.0</td>\n",
       "      <td>17.0</td>\n",
       "      <td>41.0</td>\n",
       "      <td>4.0</td>\n",
       "      <td>70.0</td>\n",
       "      <td>2</td>\n",
       "    </tr>\n",
       "  </tbody>\n",
       "</table>\n",
       "</div>"
      ],
      "text/plain": [
       "   pm10   so2    co    o3  no2   max  categori\n",
       "0  59.0  19.0  27.0  31.0  1.0  59.0         2\n",
       "1  52.0  19.0  17.0  33.0  2.0  52.0         2\n",
       "2  44.0  19.0  17.0  36.0  2.0  44.0         3\n",
       "3  58.0  21.0  17.0  46.0  5.0  58.0         2\n",
       "4  70.0  19.0  17.0  41.0  4.0  70.0         2"
      ]
     },
     "execution_count": 93,
     "metadata": {},
     "output_type": "execute_result"
    }
   ],
   "source": [
    "df_model.head()"
   ]
  },
  {
   "cell_type": "code",
   "execution_count": 94,
   "id": "0c99f6be",
   "metadata": {},
   "outputs": [
    {
     "data": {
      "text/html": [
       "<div>\n",
       "<style scoped>\n",
       "    .dataframe tbody tr th:only-of-type {\n",
       "        vertical-align: middle;\n",
       "    }\n",
       "\n",
       "    .dataframe tbody tr th {\n",
       "        vertical-align: top;\n",
       "    }\n",
       "\n",
       "    .dataframe thead th {\n",
       "        text-align: right;\n",
       "    }\n",
       "</style>\n",
       "<table border=\"1\" class=\"dataframe\">\n",
       "  <thead>\n",
       "    <tr style=\"text-align: right;\">\n",
       "      <th></th>\n",
       "      <th>pm10</th>\n",
       "      <th>so2</th>\n",
       "      <th>co</th>\n",
       "      <th>o3</th>\n",
       "      <th>no2</th>\n",
       "      <th>max</th>\n",
       "      <th>categori</th>\n",
       "    </tr>\n",
       "  </thead>\n",
       "  <tbody>\n",
       "    <tr>\n",
       "      <th>9165</th>\n",
       "      <td>18.0</td>\n",
       "      <td>32.0</td>\n",
       "      <td>4.0</td>\n",
       "      <td>41.0</td>\n",
       "      <td>8.0</td>\n",
       "      <td>41.0</td>\n",
       "      <td>3</td>\n",
       "    </tr>\n",
       "    <tr>\n",
       "      <th>9166</th>\n",
       "      <td>22.0</td>\n",
       "      <td>33.0</td>\n",
       "      <td>5.0</td>\n",
       "      <td>35.0</td>\n",
       "      <td>3.0</td>\n",
       "      <td>35.0</td>\n",
       "      <td>3</td>\n",
       "    </tr>\n",
       "    <tr>\n",
       "      <th>9167</th>\n",
       "      <td>15.0</td>\n",
       "      <td>28.0</td>\n",
       "      <td>4.0</td>\n",
       "      <td>27.0</td>\n",
       "      <td>8.0</td>\n",
       "      <td>28.0</td>\n",
       "      <td>3</td>\n",
       "    </tr>\n",
       "    <tr>\n",
       "      <th>9168</th>\n",
       "      <td>16.0</td>\n",
       "      <td>7.0</td>\n",
       "      <td>3.0</td>\n",
       "      <td>21.0</td>\n",
       "      <td>2.0</td>\n",
       "      <td>21.0</td>\n",
       "      <td>3</td>\n",
       "    </tr>\n",
       "    <tr>\n",
       "      <th>9169</th>\n",
       "      <td>18.0</td>\n",
       "      <td>13.0</td>\n",
       "      <td>6.0</td>\n",
       "      <td>24.0</td>\n",
       "      <td>3.0</td>\n",
       "      <td>24.0</td>\n",
       "      <td>3</td>\n",
       "    </tr>\n",
       "  </tbody>\n",
       "</table>\n",
       "</div>"
      ],
      "text/plain": [
       "      pm10   so2   co    o3  no2   max  categori\n",
       "9165  18.0  32.0  4.0  41.0  8.0  41.0         3\n",
       "9166  22.0  33.0  5.0  35.0  3.0  35.0         3\n",
       "9167  15.0  28.0  4.0  27.0  8.0  28.0         3\n",
       "9168  16.0   7.0  3.0  21.0  2.0  21.0         3\n",
       "9169  18.0  13.0  6.0  24.0  3.0  24.0         3"
      ]
     },
     "execution_count": 94,
     "metadata": {},
     "output_type": "execute_result"
    }
   ],
   "source": [
    "df_model.tail()"
   ]
  },
  {
   "cell_type": "code",
   "execution_count": 95,
   "id": "9d42f68a",
   "metadata": {},
   "outputs": [
    {
     "data": {
      "text/html": [
       "<div>\n",
       "<style scoped>\n",
       "    .dataframe tbody tr th:only-of-type {\n",
       "        vertical-align: middle;\n",
       "    }\n",
       "\n",
       "    .dataframe tbody tr th {\n",
       "        vertical-align: top;\n",
       "    }\n",
       "\n",
       "    .dataframe thead th {\n",
       "        text-align: right;\n",
       "    }\n",
       "</style>\n",
       "<table border=\"1\" class=\"dataframe\">\n",
       "  <thead>\n",
       "    <tr style=\"text-align: right;\">\n",
       "      <th></th>\n",
       "      <th>Model</th>\n",
       "      <th>Accuracy</th>\n",
       "      <th>Precision</th>\n",
       "      <th>Recall</th>\n",
       "      <th>F1 Score</th>\n",
       "    </tr>\n",
       "  </thead>\n",
       "  <tbody>\n",
       "    <tr>\n",
       "      <th>0</th>\n",
       "      <td>Logistic Regression</td>\n",
       "      <td>0.839781</td>\n",
       "      <td>0.843387</td>\n",
       "      <td>0.839781</td>\n",
       "      <td>0.834046</td>\n",
       "    </tr>\n",
       "    <tr>\n",
       "      <th>1</th>\n",
       "      <td>SVM</td>\n",
       "      <td>0.993357</td>\n",
       "      <td>0.993375</td>\n",
       "      <td>0.993357</td>\n",
       "      <td>0.993313</td>\n",
       "    </tr>\n",
       "  </tbody>\n",
       "</table>\n",
       "</div>"
      ],
      "text/plain": [
       "                 Model  Accuracy  Precision    Recall  F1 Score\n",
       "0  Logistic Regression  0.839781   0.843387  0.839781  0.834046\n",
       "1                  SVM  0.993357   0.993375  0.993357  0.993313"
      ]
     },
     "metadata": {},
     "output_type": "display_data"
    },
    {
     "data": {
      "image/png": "[encoded data removed]",
      "text/plain": [
       "<Figure size 1000x600 with 1 Axes>"
      ]
     },
     "metadata": {},
     "output_type": "display_data"
    }
   ],
   "source": [
    "models = [('Logistic Regression', lr_model),\n",
    "          ('SVM', svmcla_model),\n",
    "         ]\n",
    "\n",
    "x = df_kondisi.drop(columns=['categori'], axis=1).values\n",
    "y = df_kondisi['categori'].values\n",
    "x_train, x_test, y_train, y_test = train_test_split(x, y, test_size=0.3, random_state=0)\n",
    "\n",
    "def evaluate_model(model, x_test, y_test):\n",
    "    y_pred = model.predict(x_test)\n",
    "    accuracy = accuracy_score(y_test, y_pred)\n",
    "    precision = precision_score(y_test, y_pred, average='weighted') \n",
    "    recall = recall_score(y_test, y_pred, average='weighted')  \n",
    "    f1 = f1_score(y_test, y_pred, average='weighted')  \n",
    "    return accuracy, precision, recall, f1\n",
    "\n",
    "results = []\n",
    "for name, model in models:\n",
    "    model.fit(x_train, y_train)\n",
    "    accuracy, precision, recall, f1 = evaluate_model(model, x_test, y_test)\n",
    "    results.append([name, accuracy, precision, recall, f1])\n",
    "\n",
    "results_df = pd.DataFrame(results, columns=['Model', 'Accuracy', 'Precision', 'Recall', 'F1 Score'])\n",
    "display(results_df)\n",
    "\n",
    "plt.figure(figsize=(10, 6))\n",
    "sns.color_palette(\"Set2\")\n",
    "sns.barplot(x='Model', y='Accuracy', data=results_df)\n",
    "plt.title('Perbandingan Model Klasifikasi')\n",
    "plt.xticks(rotation=0)\n",
    "plt.ylabel('Akurasi')\n",
    "plt.show()"
   ]
  },
  {
   "cell_type": "markdown",
   "id": "a2977863",
   "metadata": {},
   "source": [
    "Kesimpulan dari evaluasi dua model, yaitu Logistic Regression dan SVM, dapat diperkaya dengan memasukkan pertimbangan terkait jenis klasifikasi multiclass:\n",
    "\n",
    "1. Akurasi Model:\n",
    "\n",
    "Logistic Regression: 83.98%\n",
    "\n",
    "SVM: 99.30%\n",
    "\n",
    "Kesimpulan:\n",
    "\n",
    "Model SVM menunjukkan kinerja yang signifikan lebih tinggi daripada Logistic Regression dalam kasus multiclass classification. Hal ini sejalan dengan sifat algoritma, di mana SVM lebih efektif menangani masalah klasifikasi dengan lebih dari dua kategori.\n",
    "\n",
    "2. Presisi Model:\n",
    "\n",
    "Logistic Regression: 84.34%\n",
    "\n",
    "SVM: 99.30%\n",
    "\n",
    "Kesimpulan:\n",
    "\n",
    "SVM mempertahankan presisi yang sangat tinggi, mencerminkan kemampuannya dalam mengklasifikasikan dengan akurat setiap kelas dalam masalah multiclass, sementara Logistic Regression memiliki presisi yang baik, namun lebih rendah dibandingkan SVM.\n",
    "\n",
    "3. Recall Model:\n",
    "\n",
    "Logistic Regression: 83.98%\n",
    "\n",
    "SVM: 99.30%\n",
    "\n",
    "Kesimpulan:\n",
    "\n",
    "SVM memiliki recall yang sangat tinggi, menunjukkan kemampuannya dalam mendeteksi sebagian besar instance positif dari setiap kelas dalam masalah multiclass. Logistic Regression juga memiliki recall yang baik, namun tidak setinggi SVM.\n",
    "\n",
    "4. F1 Score Model:\n",
    "\n",
    "Logistic Regression: 83.40%\n",
    "\n",
    "SVM: 99.29%\n",
    "\n",
    "Kesimpulan:\n",
    "\n",
    "SVM memiliki nilai F1 Score yang sangat tinggi, mencerminkan keseimbangan yang baik antara presisi dan recall dalam konteks multiclass classification. Logistic Regression juga memiliki nilai F1 Score yang baik, namun lebih rendah dibandingkan SVM."
   ]
  },
  {
   "cell_type": "code",
   "execution_count": 96,
   "id": "b7552b16",
   "metadata": {},
   "outputs": [],
   "source": [
    "import pickle\n",
    "\n",
    "with open('udara_svmnew.pkl', 'wb') as model_file:\n",
    "    pickle.dump(svmcla_model, model_file)"
   ]
  },
  {
   "cell_type": "code",
   "execution_count": null,
   "id": "2527b18c",
   "metadata": {},
   "outputs": [],
   "source": []
  }
 ],
 "metadata": {
  "kernelspec": {
   "display_name": "Python 3 (ipykernel)",
   "language": "python",
   "name": "python3"
  },
  "language_info": {
   "codemirror_mode": {
    "name": "ipython",
    "version": 3
   },
   "file_extension": ".py",
   "mimetype": "text/x-python",
   "name": "python",
   "nbconvert_exporter": "python",
   "pygments_lexer": "ipython3",
   "version": "3.9.13"
  }
 },
 "nbformat": 4,
 "nbformat_minor": 5
}
